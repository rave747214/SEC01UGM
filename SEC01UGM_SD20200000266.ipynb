{
  "nbformat": 4,
  "nbformat_minor": 0,
  "metadata": {
    "accelerator": "GPU",
    "colab": {
      "name": "SEC01UGM_SD20200000266",
      "provenance": [],
      "collapsed_sections": [],
      "toc_visible": true
    },
    "kernelspec": {
      "display_name": "Python 3",
      "language": "python",
      "name": "python3"
    },
    "language_info": {
      "codemirror_mode": {
        "name": "ipython",
        "version": 3
      },
      "file_extension": ".py",
      "mimetype": "text/x-python",
      "name": "python",
      "nbconvert_exporter": "python",
      "pygments_lexer": "ipython3",
      "version": "3.7.6"
    },
    "toc": {
      "base_numbering": 1,
      "nav_menu": {},
      "number_sections": true,
      "sideBar": true,
      "skip_h1_title": false,
      "title_cell": "Table of Contents",
      "title_sidebar": "Contents",
      "toc_cell": false,
      "toc_position": {},
      "toc_section_display": true,
      "toc_window_display": false
    },
    "varInspector": {
      "cols": {
        "lenName": 16,
        "lenType": 16,
        "lenVar": 40
      },
      "kernels_config": {
        "python": {
          "delete_cmd_postfix": "",
          "delete_cmd_prefix": "del ",
          "library": "var_list.py",
          "varRefreshCmd": "print(var_dic_list())"
        },
        "r": {
          "delete_cmd_postfix": ") ",
          "delete_cmd_prefix": "rm(",
          "library": "var_list.r",
          "varRefreshCmd": "cat(var_dic_list()) "
        }
      },
      "types_to_exclude": [
        "module",
        "function",
        "builtin_function_or_method",
        "instance",
        "_Feature"
      ],
      "window_display": false
    }
  },
  "cells": [
    {
      "cell_type": "markdown",
      "metadata": {
        "colab_type": "text",
        "id": "sbzcuL_TSu55"
      },
      "source": [
        "# Data Importing"
      ]
    },
    {
      "cell_type": "code",
      "metadata": {
        "colab_type": "code",
        "id": "GXgNNaOvPVt9",
        "colab": {}
      },
      "source": [
        "# Colab library to upload files to notebook\n",
        "from google.colab import files\n",
        "\n",
        "# Install Kaggle library\n",
        "!pip install -q kaggle"
      ],
      "execution_count": null,
      "outputs": []
    },
    {
      "cell_type": "code",
      "metadata": {
        "colab_type": "code",
        "id": "m1s32q2QPmm2",
        "colab": {
          "resources": {
            "http://localhost:8080/nbextensions/google.colab/files.js": {
              "data": "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",
              "headers": [
                [
                  "content-type",
                  "application/javascript"
                ]
              ],
              "ok": true,
              "status": 200,
              "status_text": ""
            }
          },
          "base_uri": "https://localhost:8080/",
          "height": 73
        },
        "outputId": "eaef33e9-fb51-4ee6-b9cd-12ddd2c2000f"
      },
      "source": [
        "# Upload kaggle API key file\n",
        "data = files.upload()"
      ],
      "execution_count": null,
      "outputs": [
        {
          "output_type": "display_data",
          "data": {
            "text/html": [
              "\n",
              "     <input type=\"file\" id=\"files-1f34203f-b281-4784-ba5a-ac1ef802d561\" name=\"files[]\" multiple disabled\n",
              "        style=\"border:none\" />\n",
              "     <output id=\"result-1f34203f-b281-4784-ba5a-ac1ef802d561\">\n",
              "      Upload widget is only available when the cell has been executed in the\n",
              "      current browser session. Please rerun this cell to enable.\n",
              "      </output>\n",
              "      <script src=\"/nbextensions/google.colab/files.js\"></script> "
            ],
            "text/plain": [
              "<IPython.core.display.HTML object>"
            ]
          },
          "metadata": {
            "tags": []
          }
        },
        {
          "output_type": "stream",
          "text": [
            "Saving kaggle.json to kaggle.json\n"
          ],
          "name": "stdout"
        }
      ]
    },
    {
      "cell_type": "code",
      "metadata": {
        "colab_type": "code",
        "id": "-WCYBE-GPmvA",
        "colab": {}
      },
      "source": [
        "!mkdir -p ~/.kaggle\n",
        "!cp kaggle.json ~/.kaggle/\n",
        "!chmod 600 ~/.kaggle/kaggle.json"
      ],
      "execution_count": null,
      "outputs": []
    },
    {
      "cell_type": "code",
      "metadata": {
        "colab_type": "code",
        "id": "VCDgeOiTPqZv",
        "colab": {
          "base_uri": "https://localhost:8080/",
          "height": 67
        },
        "outputId": "3f255e4d-dc08-420a-eacc-5e28860cebe9"
      },
      "source": [
        "# Download the dataset from kaggle\n",
        "!kaggle datasets download -d luisblanche/covidct"
      ],
      "execution_count": null,
      "outputs": [
        {
          "output_type": "stream",
          "text": [
            "Downloading covidct.zip to /content\n",
            " 85% 73.0M/85.8M [00:00<00:00, 69.7MB/s]\n",
            "100% 85.8M/85.8M [00:00<00:00, 104MB/s] \n"
          ],
          "name": "stdout"
        }
      ]
    },
    {
      "cell_type": "code",
      "metadata": {
        "colab_type": "code",
        "id": "gtu50UhzRWlv",
        "colab": {}
      },
      "source": [
        "# Extract zipfile\n",
        "import zipfile\n",
        "zip_ref = zipfile.ZipFile('covidct.zip', 'r')\n",
        "zip_ref.extractall('files')\n",
        "zip_ref.close()"
      ],
      "execution_count": null,
      "outputs": []
    },
    {
      "cell_type": "code",
      "metadata": {
        "colab_type": "code",
        "id": "5HnqgxrqRsHg",
        "colab": {}
      },
      "source": [
        "# Modules for train-val split\n",
        "import os\n",
        "import numpy as np\n",
        "import random\n",
        "import argparse\n",
        "from shutil import copyfile"
      ],
      "execution_count": null,
      "outputs": []
    },
    {
      "cell_type": "code",
      "metadata": {
        "colab_type": "code",
        "id": "sOH9XUF5SY3U",
        "colab": {}
      },
      "source": [
        "# Train-val split function\n",
        "def img_train_test_split(img_source_dir, train_size):\n",
        "    \"\"\"\n",
        "    Randomly splits images over a train and validation folder, while preserving the folder structure\n",
        "    \n",
        "    Parameters\n",
        "    ----------\n",
        "    img_source_dir : string\n",
        "        Path to the folder with the images to be split. Can be absolute or relative path   \n",
        "        \n",
        "    train_size : float\n",
        "        Proportion of the original images that need to be copied in the subdirectory in the train folder\n",
        "    \"\"\"    \n",
        "    if not (isinstance(img_source_dir, str)):\n",
        "        raise AttributeError('img_source_dir must be a string')\n",
        "        \n",
        "    if not os.path.exists(img_source_dir):\n",
        "        raise OSError('img_source_dir does not exist')\n",
        "        \n",
        "    if not (isinstance(train_size, float)):\n",
        "        raise AttributeError('train_size must be a float')\n",
        "        \n",
        "    # Set up empty folder structure if not exists\n",
        "    if not os.path.exists('data'):\n",
        "        os.makedirs('data')\n",
        "    else:\n",
        "        if not os.path.exists('data/train'):\n",
        "            os.makedirs('data/train')\n",
        "        if not os.path.exists('data/validation'):\n",
        "            os.makedirs('data/validation')\n",
        "            \n",
        "    # Get the subdirectories in the main image folder\n",
        "    subdirs = [subdir for subdir in os.listdir(img_source_dir) if os.path.isdir(os.path.join(img_source_dir, subdir))]\n",
        "\n",
        "    for subdir in subdirs:\n",
        "        subdir_fullpath = os.path.join(img_source_dir, subdir)\n",
        "        if len(os.listdir(subdir_fullpath)) == 0:\n",
        "            print(subdir_fullpath + ' is empty')\n",
        "            break\n",
        "\n",
        "        train_subdir = os.path.join('data/train', subdir)\n",
        "        validation_subdir = os.path.join('data/validation', subdir)\n",
        "\n",
        "        # Create subdirectories in train and validation folders\n",
        "        if not os.path.exists(train_subdir):\n",
        "            os.makedirs(train_subdir)\n",
        "\n",
        "        if not os.path.exists(validation_subdir):\n",
        "            os.makedirs(validation_subdir)\n",
        "\n",
        "        train_counter = 0\n",
        "        validation_counter = 0\n",
        "\n",
        "        # Randomly assign an image to train or validation folder\n",
        "        for filename in os.listdir(subdir_fullpath):\n",
        "            if filename.endswith(\".jpg\") or filename.endswith(\".png\"): \n",
        "                fileparts = filename.split('.')\n",
        "\n",
        "                if random.uniform(0, 1) <= train_size:\n",
        "                    copyfile(os.path.join(subdir_fullpath, filename), os.path.join(train_subdir, str(train_counter) + '.' + fileparts[1]))\n",
        "                    train_counter += 1\n",
        "                else:\n",
        "                    copyfile(os.path.join(subdir_fullpath, filename), os.path.join(validation_subdir, str(validation_counter) + '.' + fileparts[1]))\n",
        "                    validation_counter += 1\n",
        "                    \n",
        "        print('Copied ' + str(train_counter) + ' images to data/train/' + subdir)\n",
        "        print('Copied ' + str(validation_counter) + ' images to data/validation/' + subdir)"
      ],
      "execution_count": null,
      "outputs": []
    },
    {
      "cell_type": "code",
      "metadata": {
        "colab_type": "code",
        "id": "qNgCI_wUSc73",
        "colab": {
          "base_uri": "https://localhost:8080/",
          "height": 84
        },
        "outputId": "811ee147-661c-488a-c246-630c6f638177"
      },
      "source": [
        "# Run the split function\n",
        "img_train_test_split('/content/files',0.7)"
      ],
      "execution_count": null,
      "outputs": [
        {
          "output_type": "stream",
          "text": [
            "Copied 283 images to data/train/CT_NonCOVID\n",
            "Copied 114 images to data/validation/CT_NonCOVID\n",
            "Copied 238 images to data/train/CT_COVID\n",
            "Copied 111 images to data/validation/CT_COVID\n"
          ],
          "name": "stdout"
        }
      ]
    },
    {
      "cell_type": "code",
      "metadata": {
        "colab_type": "code",
        "id": "gETsk4tAKKi4",
        "colab": {}
      },
      "source": [
        "!pip install -q pyyaml h5py"
      ],
      "execution_count": null,
      "outputs": []
    },
    {
      "cell_type": "markdown",
      "metadata": {
        "colab_type": "text",
        "id": "-hJZmc0QSsD2"
      },
      "source": [
        "# Baseline Model"
      ]
    },
    {
      "cell_type": "code",
      "metadata": {
        "colab_type": "code",
        "id": "9W608prHSjQL",
        "colab": {}
      },
      "source": [
        "# Modules for model creation\n",
        "import tensorflow as tf\n",
        "from tensorflow.keras.optimizers import RMSprop\n",
        "from tensorflow.keras.preprocessing.image import ImageDataGenerator"
      ],
      "execution_count": null,
      "outputs": []
    },
    {
      "cell_type": "code",
      "metadata": {
        "colab_type": "code",
        "id": "EuymuOXh152X",
        "colab": {}
      },
      "source": [
        "from tensorflow.keras.metrics import Precision, Recall"
      ],
      "execution_count": null,
      "outputs": []
    },
    {
      "cell_type": "code",
      "metadata": {
        "colab_type": "code",
        "id": "dTwiJjn3SzhV",
        "colab": {}
      },
      "source": [
        "# Create the model\n",
        "model = tf.keras.models.Sequential([\n",
        "    tf.keras.layers.Conv2D(16, (3, 3), activation='relu', input_shape=(300, 300, 3)),\n",
        "    tf.keras.layers.MaxPooling2D(2, 2),\n",
        "    tf.keras.layers.Conv2D(32, (3, 3), activation='relu'),\n",
        "    tf.keras.layers.MaxPooling2D(2, 2),\n",
        "    tf.keras.layers.Conv2D(64, (3, 3), activation='relu'),\n",
        "    tf.keras.layers.MaxPooling2D(2, 2),\n",
        "    tf.keras.layers.Flatten(),\n",
        "    tf.keras.layers.Dense(512, activation='relu'),\n",
        "    tf.keras.layers.Dropout(0.1),\n",
        "    tf.keras.layers.Dense(1, activation='sigmoid')\n",
        "])\n",
        "\n",
        "model.compile(optimizer='adam', loss='binary_crossentropy', metrics=['accuracy',Precision(),Recall()])"
      ],
      "execution_count": null,
      "outputs": []
    },
    {
      "cell_type": "code",
      "metadata": {
        "colab_type": "code",
        "id": "JD-omIfnWXlM",
        "colab": {
          "base_uri": "https://localhost:8080/",
          "height": 487
        },
        "outputId": "2dadf307-bcdd-4ac3-fbe9-d6ad5417c938"
      },
      "source": [
        "model.summary()"
      ],
      "execution_count": null,
      "outputs": [
        {
          "output_type": "stream",
          "text": [
            "Model: \"sequential\"\n",
            "_________________________________________________________________\n",
            "Layer (type)                 Output Shape              Param #   \n",
            "=================================================================\n",
            "conv2d (Conv2D)              (None, 298, 298, 16)      448       \n",
            "_________________________________________________________________\n",
            "max_pooling2d (MaxPooling2D) (None, 149, 149, 16)      0         \n",
            "_________________________________________________________________\n",
            "conv2d_1 (Conv2D)            (None, 147, 147, 32)      4640      \n",
            "_________________________________________________________________\n",
            "max_pooling2d_1 (MaxPooling2 (None, 73, 73, 32)        0         \n",
            "_________________________________________________________________\n",
            "conv2d_2 (Conv2D)            (None, 71, 71, 64)        18496     \n",
            "_________________________________________________________________\n",
            "max_pooling2d_2 (MaxPooling2 (None, 35, 35, 64)        0         \n",
            "_________________________________________________________________\n",
            "flatten (Flatten)            (None, 78400)             0         \n",
            "_________________________________________________________________\n",
            "dense (Dense)                (None, 512)               40141312  \n",
            "_________________________________________________________________\n",
            "dropout (Dropout)            (None, 512)               0         \n",
            "_________________________________________________________________\n",
            "dense_1 (Dense)              (None, 1)                 513       \n",
            "=================================================================\n",
            "Total params: 40,165,409\n",
            "Trainable params: 40,165,409\n",
            "Non-trainable params: 0\n",
            "_________________________________________________________________\n"
          ],
          "name": "stdout"
        }
      ]
    },
    {
      "cell_type": "code",
      "metadata": {
        "colab_type": "code",
        "id": "0W64r0qAWqSO",
        "colab": {
          "base_uri": "https://localhost:8080/",
          "height": 50
        },
        "outputId": "d96a37ec-cb21-4fe4-ade3-c0cbead04055"
      },
      "source": [
        "# Label generator\n",
        "TRAINING_DIR = \"/content/data/train/\"\n",
        "train_datagen = ImageDataGenerator(rescale=1.0/255.)\n",
        "train_generator = train_datagen.flow_from_directory(TRAINING_DIR,\n",
        "                                                    batch_size=10,\n",
        "                                                    class_mode='binary',\n",
        "                                                    target_size=(300, 300))\n",
        "\n",
        "VALIDATION_DIR = \"/content/data/validation/\"\n",
        "validation_datagen = ImageDataGenerator(rescale=1.0/255.)\n",
        "validation_generator = validation_datagen.flow_from_directory(VALIDATION_DIR,\n",
        "                                                              batch_size=10,\n",
        "                                                              class_mode='binary',\n",
        "                                                              target_size=(300, 300))"
      ],
      "execution_count": null,
      "outputs": [
        {
          "output_type": "stream",
          "text": [
            "Found 322 images belonging to 2 classes.\n",
            "Found 130 images belonging to 2 classes.\n"
          ],
          "name": "stdout"
        }
      ]
    },
    {
      "cell_type": "code",
      "metadata": {
        "colab_type": "code",
        "id": "q193rOlhXPRK",
        "colab": {
          "base_uri": "https://localhost:8080/",
          "height": 1000
        },
        "outputId": "90181586-910e-46fb-99b2-117adea7d46b"
      },
      "source": [
        "# Fit the model\n",
        "history = model.fit(train_generator,\n",
        "                              epochs=100,\n",
        "                              verbose=1,\n",
        "                              validation_data=validation_generator)"
      ],
      "execution_count": null,
      "outputs": [
        {
          "output_type": "stream",
          "text": [
            "Epoch 1/100\n",
            "33/33 [==============================] - 3s 100ms/step - loss: 1.2721 - accuracy: 0.8354 - precision: 0.8758 - recall: 0.9470 - val_loss: 0.3606 - val_accuracy: 0.8769 - val_precision: 0.8769 - val_recall: 1.0000\n",
            "Epoch 2/100\n",
            "33/33 [==============================] - 3s 84ms/step - loss: 0.3287 - accuracy: 0.8789 - precision: 0.8789 - recall: 1.0000 - val_loss: 0.3519 - val_accuracy: 0.8769 - val_precision: 0.8769 - val_recall: 1.0000\n",
            "Epoch 3/100\n",
            "33/33 [==============================] - 3s 81ms/step - loss: 0.2190 - accuracy: 0.9255 - precision: 0.9246 - recall: 0.9965 - val_loss: 0.3142 - val_accuracy: 0.8846 - val_precision: 0.8837 - val_recall: 1.0000\n",
            "Epoch 4/100\n",
            "33/33 [==============================] - 3s 82ms/step - loss: 0.1720 - accuracy: 0.9441 - precision: 0.9522 - recall: 0.9859 - val_loss: 0.3363 - val_accuracy: 0.9000 - val_precision: 0.8976 - val_recall: 1.0000\n",
            "Epoch 5/100\n",
            "33/33 [==============================] - 3s 81ms/step - loss: 0.1018 - accuracy: 0.9565 - precision: 0.9654 - recall: 0.9859 - val_loss: 0.3701 - val_accuracy: 0.9077 - val_precision: 0.9048 - val_recall: 1.0000\n",
            "Epoch 6/100\n",
            "33/33 [==============================] - 3s 81ms/step - loss: 0.0481 - accuracy: 0.9845 - precision: 0.9860 - recall: 0.9965 - val_loss: 0.7123 - val_accuracy: 0.8923 - val_precision: 0.8906 - val_recall: 1.0000\n",
            "Epoch 7/100\n",
            "33/33 [==============================] - 3s 82ms/step - loss: 0.1562 - accuracy: 0.9720 - precision: 0.9824 - recall: 0.9859 - val_loss: 0.6195 - val_accuracy: 0.8692 - val_precision: 0.8880 - val_recall: 0.9737\n",
            "Epoch 8/100\n",
            "33/33 [==============================] - 3s 81ms/step - loss: 0.1046 - accuracy: 0.9534 - precision: 0.9685 - recall: 0.9788 - val_loss: 0.2767 - val_accuracy: 0.9077 - val_precision: 0.9048 - val_recall: 1.0000\n",
            "Epoch 9/100\n",
            "33/33 [==============================] - 3s 82ms/step - loss: 0.0586 - accuracy: 0.9783 - precision: 0.9825 - recall: 0.9929 - val_loss: 0.4293 - val_accuracy: 0.9077 - val_precision: 0.9048 - val_recall: 1.0000\n",
            "Epoch 10/100\n",
            "33/33 [==============================] - 3s 81ms/step - loss: 0.0332 - accuracy: 0.9907 - precision: 0.9930 - recall: 0.9965 - val_loss: 0.4539 - val_accuracy: 0.9077 - val_precision: 0.9048 - val_recall: 1.0000\n",
            "Epoch 11/100\n",
            "33/33 [==============================] - 3s 81ms/step - loss: 0.0208 - accuracy: 0.9938 - precision: 1.0000 - recall: 0.9929 - val_loss: 0.4739 - val_accuracy: 0.9077 - val_precision: 0.9048 - val_recall: 1.0000\n",
            "Epoch 12/100\n",
            "33/33 [==============================] - 3s 82ms/step - loss: 0.0116 - accuracy: 0.9969 - precision: 0.9965 - recall: 1.0000 - val_loss: 0.5003 - val_accuracy: 0.9077 - val_precision: 0.9048 - val_recall: 1.0000\n",
            "Epoch 13/100\n",
            "33/33 [==============================] - 3s 82ms/step - loss: 0.0208 - accuracy: 0.9907 - precision: 0.9930 - recall: 0.9965 - val_loss: 0.3246 - val_accuracy: 0.8692 - val_precision: 0.9292 - val_recall: 0.9211\n",
            "Epoch 14/100\n",
            "33/33 [==============================] - 3s 82ms/step - loss: 0.0274 - accuracy: 0.9876 - precision: 0.9929 - recall: 0.9929 - val_loss: 0.4656 - val_accuracy: 0.9000 - val_precision: 0.9040 - val_recall: 0.9912\n",
            "Epoch 15/100\n",
            "33/33 [==============================] - 3s 82ms/step - loss: 0.0134 - accuracy: 0.9907 - precision: 0.9965 - recall: 0.9929 - val_loss: 0.5503 - val_accuracy: 0.9154 - val_precision: 0.9120 - val_recall: 1.0000\n",
            "Epoch 16/100\n",
            "33/33 [==============================] - 3s 81ms/step - loss: 0.0151 - accuracy: 0.9938 - precision: 0.9965 - recall: 0.9965 - val_loss: 0.4257 - val_accuracy: 0.9154 - val_precision: 0.9120 - val_recall: 1.0000\n",
            "Epoch 17/100\n",
            "33/33 [==============================] - 3s 82ms/step - loss: 0.0144 - accuracy: 0.9969 - precision: 1.0000 - recall: 0.9965 - val_loss: 0.6013 - val_accuracy: 0.9077 - val_precision: 0.9048 - val_recall: 1.0000\n",
            "Epoch 18/100\n",
            "33/33 [==============================] - 3s 82ms/step - loss: 0.0094 - accuracy: 0.9969 - precision: 1.0000 - recall: 0.9965 - val_loss: 0.8326 - val_accuracy: 0.9000 - val_precision: 0.8976 - val_recall: 1.0000\n",
            "Epoch 19/100\n",
            "33/33 [==============================] - 3s 81ms/step - loss: 0.0102 - accuracy: 0.9938 - precision: 0.9930 - recall: 1.0000 - val_loss: 0.5573 - val_accuracy: 0.9077 - val_precision: 0.9048 - val_recall: 1.0000\n",
            "Epoch 20/100\n",
            "33/33 [==============================] - 3s 82ms/step - loss: 0.0044 - accuracy: 1.0000 - precision: 1.0000 - recall: 1.0000 - val_loss: 0.9036 - val_accuracy: 0.9000 - val_precision: 0.8976 - val_recall: 1.0000\n",
            "Epoch 21/100\n",
            "33/33 [==============================] - 3s 81ms/step - loss: 0.0052 - accuracy: 0.9969 - precision: 1.0000 - recall: 0.9965 - val_loss: 0.8705 - val_accuracy: 0.9000 - val_precision: 0.8976 - val_recall: 1.0000\n",
            "Epoch 22/100\n",
            "33/33 [==============================] - 3s 83ms/step - loss: 0.0038 - accuracy: 1.0000 - precision: 1.0000 - recall: 1.0000 - val_loss: 0.8213 - val_accuracy: 0.9000 - val_precision: 0.8976 - val_recall: 1.0000\n",
            "Epoch 23/100\n",
            "33/33 [==============================] - 3s 83ms/step - loss: 0.0050 - accuracy: 0.9969 - precision: 0.9965 - recall: 1.0000 - val_loss: 0.8071 - val_accuracy: 0.9000 - val_precision: 0.8976 - val_recall: 1.0000\n",
            "Epoch 24/100\n",
            "33/33 [==============================] - 3s 82ms/step - loss: 0.0067 - accuracy: 0.9969 - precision: 1.0000 - recall: 0.9965 - val_loss: 0.7106 - val_accuracy: 0.9000 - val_precision: 0.8976 - val_recall: 1.0000\n",
            "Epoch 25/100\n",
            "33/33 [==============================] - 3s 83ms/step - loss: 0.0049 - accuracy: 0.9969 - precision: 0.9965 - recall: 1.0000 - val_loss: 0.7455 - val_accuracy: 0.8923 - val_precision: 0.9032 - val_recall: 0.9825\n",
            "Epoch 26/100\n",
            "33/33 [==============================] - 3s 81ms/step - loss: 0.0054 - accuracy: 0.9969 - precision: 0.9965 - recall: 1.0000 - val_loss: 0.5621 - val_accuracy: 0.8692 - val_precision: 0.9217 - val_recall: 0.9298\n",
            "Epoch 27/100\n",
            "33/33 [==============================] - 3s 81ms/step - loss: 0.0518 - accuracy: 0.9814 - precision: 0.9860 - recall: 0.9929 - val_loss: 0.4530 - val_accuracy: 0.9000 - val_precision: 0.8976 - val_recall: 1.0000\n",
            "Epoch 28/100\n",
            "33/33 [==============================] - 3s 82ms/step - loss: 0.0246 - accuracy: 0.9907 - precision: 0.9930 - recall: 0.9965 - val_loss: 0.7536 - val_accuracy: 0.9000 - val_precision: 0.8976 - val_recall: 1.0000\n",
            "Epoch 29/100\n",
            "33/33 [==============================] - 3s 82ms/step - loss: 0.0058 - accuracy: 1.0000 - precision: 1.0000 - recall: 1.0000 - val_loss: 0.7280 - val_accuracy: 0.9000 - val_precision: 0.8976 - val_recall: 1.0000\n",
            "Epoch 30/100\n",
            "33/33 [==============================] - 3s 82ms/step - loss: 0.0023 - accuracy: 1.0000 - precision: 1.0000 - recall: 1.0000 - val_loss: 0.6248 - val_accuracy: 0.9077 - val_precision: 0.9180 - val_recall: 0.9825\n",
            "Epoch 31/100\n",
            "33/33 [==============================] - 3s 82ms/step - loss: 0.0091 - accuracy: 0.9938 - precision: 0.9965 - recall: 0.9965 - val_loss: 0.4314 - val_accuracy: 0.9000 - val_precision: 0.9174 - val_recall: 0.9737\n",
            "Epoch 32/100\n",
            "33/33 [==============================] - 3s 81ms/step - loss: 0.0120 - accuracy: 0.9938 - precision: 0.9930 - recall: 1.0000 - val_loss: 0.5479 - val_accuracy: 0.9077 - val_precision: 0.9048 - val_recall: 1.0000\n",
            "Epoch 33/100\n",
            "33/33 [==============================] - 3s 80ms/step - loss: 0.0049 - accuracy: 0.9969 - precision: 1.0000 - recall: 0.9965 - val_loss: 0.8194 - val_accuracy: 0.9000 - val_precision: 0.8976 - val_recall: 1.0000\n",
            "Epoch 34/100\n",
            "33/33 [==============================] - 3s 84ms/step - loss: 0.0073 - accuracy: 0.9969 - precision: 0.9965 - recall: 1.0000 - val_loss: 0.4835 - val_accuracy: 0.9154 - val_precision: 0.9328 - val_recall: 0.9737\n",
            "Epoch 35/100\n",
            "33/33 [==============================] - 3s 82ms/step - loss: 0.0080 - accuracy: 0.9969 - precision: 1.0000 - recall: 0.9965 - val_loss: 0.5287 - val_accuracy: 0.9000 - val_precision: 0.9244 - val_recall: 0.9649\n",
            "Epoch 36/100\n",
            "33/33 [==============================] - 3s 82ms/step - loss: 0.0151 - accuracy: 0.9969 - precision: 0.9965 - recall: 1.0000 - val_loss: 0.4736 - val_accuracy: 0.8846 - val_precision: 0.9231 - val_recall: 0.9474\n",
            "Epoch 37/100\n",
            "33/33 [==============================] - 3s 81ms/step - loss: 0.0016 - accuracy: 1.0000 - precision: 1.0000 - recall: 1.0000 - val_loss: 1.1821 - val_accuracy: 0.9077 - val_precision: 0.9113 - val_recall: 0.9912\n",
            "Epoch 38/100\n",
            "33/33 [==============================] - 3s 81ms/step - loss: 0.0470 - accuracy: 0.9814 - precision: 0.9894 - recall: 0.9894 - val_loss: 1.4510 - val_accuracy: 0.8846 - val_precision: 0.8898 - val_recall: 0.9912\n",
            "Epoch 39/100\n",
            "33/33 [==============================] - 3s 81ms/step - loss: 0.7102 - accuracy: 0.9348 - precision: 0.9580 - recall: 0.9682 - val_loss: 0.7492 - val_accuracy: 0.8923 - val_precision: 0.8906 - val_recall: 1.0000\n",
            "Epoch 40/100\n",
            "33/33 [==============================] - 3s 81ms/step - loss: 0.0723 - accuracy: 0.9876 - precision: 0.9895 - recall: 0.9965 - val_loss: 0.7316 - val_accuracy: 0.9154 - val_precision: 0.9187 - val_recall: 0.9912\n",
            "Epoch 41/100\n",
            "33/33 [==============================] - 3s 80ms/step - loss: 0.0707 - accuracy: 0.9627 - precision: 0.9857 - recall: 0.9717 - val_loss: 1.0319 - val_accuracy: 0.9000 - val_precision: 0.9040 - val_recall: 0.9912\n",
            "Epoch 42/100\n",
            "33/33 [==============================] - 3s 80ms/step - loss: 0.0457 - accuracy: 0.9814 - precision: 0.9929 - recall: 0.9859 - val_loss: 0.7661 - val_accuracy: 0.8538 - val_precision: 0.9204 - val_recall: 0.9123\n",
            "Epoch 43/100\n",
            "33/33 [==============================] - 3s 82ms/step - loss: 0.0249 - accuracy: 0.9907 - precision: 0.9930 - recall: 0.9965 - val_loss: 0.8244 - val_accuracy: 0.8462 - val_precision: 0.9196 - val_recall: 0.9035\n",
            "Epoch 44/100\n",
            "33/33 [==============================] - 3s 81ms/step - loss: 0.0269 - accuracy: 0.9938 - precision: 0.9965 - recall: 0.9965 - val_loss: 0.8907 - val_accuracy: 0.8923 - val_precision: 0.9098 - val_recall: 0.9737\n",
            "Epoch 45/100\n",
            "33/33 [==============================] - 3s 83ms/step - loss: 0.0176 - accuracy: 0.9969 - precision: 0.9965 - recall: 1.0000 - val_loss: 0.8569 - val_accuracy: 0.8769 - val_precision: 0.9153 - val_recall: 0.9474\n",
            "Epoch 46/100\n",
            "33/33 [==============================] - 3s 83ms/step - loss: 0.0084 - accuracy: 0.9938 - precision: 1.0000 - recall: 0.9929 - val_loss: 1.5628 - val_accuracy: 0.8846 - val_precision: 0.8960 - val_recall: 0.9825\n",
            "Epoch 47/100\n",
            "33/33 [==============================] - 3s 81ms/step - loss: 0.0123 - accuracy: 0.9938 - precision: 0.9965 - recall: 0.9965 - val_loss: 0.9166 - val_accuracy: 0.8692 - val_precision: 0.9217 - val_recall: 0.9298\n",
            "Epoch 48/100\n",
            "33/33 [==============================] - 3s 81ms/step - loss: 0.0107 - accuracy: 0.9907 - precision: 0.9965 - recall: 0.9929 - val_loss: 0.8914 - val_accuracy: 0.8769 - val_precision: 0.9153 - val_recall: 0.9474\n",
            "Epoch 49/100\n",
            "33/33 [==============================] - 3s 81ms/step - loss: 0.0122 - accuracy: 0.9969 - precision: 1.0000 - recall: 0.9965 - val_loss: 0.9356 - val_accuracy: 0.8923 - val_precision: 0.9167 - val_recall: 0.9649\n",
            "Epoch 50/100\n",
            "33/33 [==============================] - 3s 83ms/step - loss: 0.0108 - accuracy: 0.9969 - precision: 0.9965 - recall: 1.0000 - val_loss: 0.9081 - val_accuracy: 0.8846 - val_precision: 0.9160 - val_recall: 0.9561\n",
            "Epoch 51/100\n",
            "33/33 [==============================] - 3s 81ms/step - loss: 0.0119 - accuracy: 0.9969 - precision: 1.0000 - recall: 0.9965 - val_loss: 0.8871 - val_accuracy: 0.8923 - val_precision: 0.9167 - val_recall: 0.9649\n",
            "Epoch 52/100\n",
            "33/33 [==============================] - 3s 82ms/step - loss: 0.0057 - accuracy: 0.9969 - precision: 0.9965 - recall: 1.0000 - val_loss: 0.9763 - val_accuracy: 0.8923 - val_precision: 0.9167 - val_recall: 0.9649\n",
            "Epoch 53/100\n",
            "33/33 [==============================] - 3s 81ms/step - loss: 0.0066 - accuracy: 0.9969 - precision: 1.0000 - recall: 0.9965 - val_loss: 1.1395 - val_accuracy: 0.8923 - val_precision: 0.9167 - val_recall: 0.9649\n",
            "Epoch 54/100\n",
            "33/33 [==============================] - 3s 82ms/step - loss: 0.0049 - accuracy: 0.9969 - precision: 0.9965 - recall: 1.0000 - val_loss: 1.0061 - val_accuracy: 0.8846 - val_precision: 0.9160 - val_recall: 0.9561\n",
            "Epoch 55/100\n",
            "33/33 [==============================] - 3s 83ms/step - loss: 0.0026 - accuracy: 1.0000 - precision: 1.0000 - recall: 1.0000 - val_loss: 1.1331 - val_accuracy: 0.8923 - val_precision: 0.9167 - val_recall: 0.9649\n",
            "Epoch 56/100\n",
            "33/33 [==============================] - 3s 81ms/step - loss: 0.0022 - accuracy: 1.0000 - precision: 1.0000 - recall: 1.0000 - val_loss: 1.2276 - val_accuracy: 0.8923 - val_precision: 0.9167 - val_recall: 0.9649\n",
            "Epoch 57/100\n",
            "33/33 [==============================] - 3s 84ms/step - loss: 0.0057 - accuracy: 0.9969 - precision: 1.0000 - recall: 0.9965 - val_loss: 1.0946 - val_accuracy: 0.8846 - val_precision: 0.9160 - val_recall: 0.9561\n",
            "Epoch 58/100\n",
            "33/33 [==============================] - 3s 81ms/step - loss: 0.0042 - accuracy: 0.9969 - precision: 0.9965 - recall: 1.0000 - val_loss: 1.1007 - val_accuracy: 0.8846 - val_precision: 0.9160 - val_recall: 0.9561\n",
            "Epoch 59/100\n",
            "33/33 [==============================] - 3s 81ms/step - loss: 0.0016 - accuracy: 1.0000 - precision: 1.0000 - recall: 1.0000 - val_loss: 1.1973 - val_accuracy: 0.8923 - val_precision: 0.9167 - val_recall: 0.9649\n",
            "Epoch 60/100\n",
            "33/33 [==============================] - 3s 80ms/step - loss: 7.9873e-04 - accuracy: 1.0000 - precision: 1.0000 - recall: 1.0000 - val_loss: 1.2454 - val_accuracy: 0.8923 - val_precision: 0.9167 - val_recall: 0.9649\n",
            "Epoch 61/100\n",
            "33/33 [==============================] - 3s 81ms/step - loss: 0.0012 - accuracy: 1.0000 - precision: 1.0000 - recall: 1.0000 - val_loss: 1.2962 - val_accuracy: 0.8923 - val_precision: 0.9167 - val_recall: 0.9649\n",
            "Epoch 62/100\n",
            "33/33 [==============================] - 3s 81ms/step - loss: 0.0019 - accuracy: 1.0000 - precision: 1.0000 - recall: 1.0000 - val_loss: 1.1627 - val_accuracy: 0.8846 - val_precision: 0.9160 - val_recall: 0.9561\n",
            "Epoch 63/100\n",
            "33/33 [==============================] - 3s 81ms/step - loss: 0.0016 - accuracy: 1.0000 - precision: 1.0000 - recall: 1.0000 - val_loss: 1.2107 - val_accuracy: 0.8923 - val_precision: 0.9167 - val_recall: 0.9649\n",
            "Epoch 64/100\n",
            "33/33 [==============================] - 3s 83ms/step - loss: 0.0011 - accuracy: 1.0000 - precision: 1.0000 - recall: 1.0000 - val_loss: 1.2367 - val_accuracy: 0.8923 - val_precision: 0.9167 - val_recall: 0.9649\n",
            "Epoch 65/100\n",
            "33/33 [==============================] - 3s 83ms/step - loss: 2.9827e-04 - accuracy: 1.0000 - precision: 1.0000 - recall: 1.0000 - val_loss: 1.3078 - val_accuracy: 0.8923 - val_precision: 0.9167 - val_recall: 0.9649\n",
            "Epoch 66/100\n",
            "33/33 [==============================] - 3s 82ms/step - loss: 4.7357e-04 - accuracy: 1.0000 - precision: 1.0000 - recall: 1.0000 - val_loss: 1.3174 - val_accuracy: 0.8923 - val_precision: 0.9167 - val_recall: 0.9649\n",
            "Epoch 67/100\n",
            "33/33 [==============================] - 3s 82ms/step - loss: 3.8969e-04 - accuracy: 1.0000 - precision: 1.0000 - recall: 1.0000 - val_loss: 1.3108 - val_accuracy: 0.8923 - val_precision: 0.9167 - val_recall: 0.9649\n",
            "Epoch 68/100\n",
            "33/33 [==============================] - 3s 84ms/step - loss: 4.3984e-04 - accuracy: 1.0000 - precision: 1.0000 - recall: 1.0000 - val_loss: 1.3411 - val_accuracy: 0.8923 - val_precision: 0.9167 - val_recall: 0.9649\n",
            "Epoch 69/100\n",
            "33/33 [==============================] - 3s 83ms/step - loss: 2.9274e-04 - accuracy: 1.0000 - precision: 1.0000 - recall: 1.0000 - val_loss: 1.3844 - val_accuracy: 0.8923 - val_precision: 0.9167 - val_recall: 0.9649\n",
            "Epoch 70/100\n",
            "33/33 [==============================] - 3s 81ms/step - loss: 7.9523e-04 - accuracy: 1.0000 - precision: 1.0000 - recall: 1.0000 - val_loss: 1.3644 - val_accuracy: 0.8923 - val_precision: 0.9167 - val_recall: 0.9649\n",
            "Epoch 71/100\n",
            "33/33 [==============================] - 3s 82ms/step - loss: 0.0014 - accuracy: 1.0000 - precision: 1.0000 - recall: 1.0000 - val_loss: 1.3531 - val_accuracy: 0.8923 - val_precision: 0.9167 - val_recall: 0.9649\n",
            "Epoch 72/100\n",
            "33/33 [==============================] - 3s 82ms/step - loss: 5.9758e-04 - accuracy: 1.0000 - precision: 1.0000 - recall: 1.0000 - val_loss: 1.3711 - val_accuracy: 0.8923 - val_precision: 0.9167 - val_recall: 0.9649\n",
            "Epoch 73/100\n",
            "33/33 [==============================] - 3s 81ms/step - loss: 3.0124e-04 - accuracy: 1.0000 - precision: 1.0000 - recall: 1.0000 - val_loss: 1.3870 - val_accuracy: 0.8923 - val_precision: 0.9167 - val_recall: 0.9649\n",
            "Epoch 74/100\n",
            "33/33 [==============================] - 3s 82ms/step - loss: 2.7157e-04 - accuracy: 1.0000 - precision: 1.0000 - recall: 1.0000 - val_loss: 1.4007 - val_accuracy: 0.8923 - val_precision: 0.9167 - val_recall: 0.9649\n",
            "Epoch 75/100\n",
            "33/33 [==============================] - 3s 81ms/step - loss: 1.7954e-04 - accuracy: 1.0000 - precision: 1.0000 - recall: 1.0000 - val_loss: 1.4233 - val_accuracy: 0.8923 - val_precision: 0.9167 - val_recall: 0.9649\n",
            "Epoch 76/100\n",
            "33/33 [==============================] - 3s 81ms/step - loss: 9.0702e-05 - accuracy: 1.0000 - precision: 1.0000 - recall: 1.0000 - val_loss: 1.4296 - val_accuracy: 0.8923 - val_precision: 0.9167 - val_recall: 0.9649\n",
            "Epoch 77/100\n",
            "33/33 [==============================] - 3s 81ms/step - loss: 1.2449e-04 - accuracy: 1.0000 - precision: 1.0000 - recall: 1.0000 - val_loss: 1.4287 - val_accuracy: 0.8923 - val_precision: 0.9167 - val_recall: 0.9649\n",
            "Epoch 78/100\n",
            "33/33 [==============================] - 3s 81ms/step - loss: 9.7567e-05 - accuracy: 1.0000 - precision: 1.0000 - recall: 1.0000 - val_loss: 1.4344 - val_accuracy: 0.8923 - val_precision: 0.9167 - val_recall: 0.9649\n",
            "Epoch 79/100\n",
            "33/33 [==============================] - 3s 84ms/step - loss: 9.8890e-05 - accuracy: 1.0000 - precision: 1.0000 - recall: 1.0000 - val_loss: 1.4482 - val_accuracy: 0.8923 - val_precision: 0.9167 - val_recall: 0.9649\n",
            "Epoch 80/100\n",
            "33/33 [==============================] - 3s 83ms/step - loss: 6.5834e-05 - accuracy: 1.0000 - precision: 1.0000 - recall: 1.0000 - val_loss: 1.4628 - val_accuracy: 0.8923 - val_precision: 0.9167 - val_recall: 0.9649\n",
            "Epoch 81/100\n",
            "33/33 [==============================] - 3s 83ms/step - loss: 9.0754e-05 - accuracy: 1.0000 - precision: 1.0000 - recall: 1.0000 - val_loss: 1.4699 - val_accuracy: 0.8923 - val_precision: 0.9167 - val_recall: 0.9649\n",
            "Epoch 82/100\n",
            "33/33 [==============================] - 3s 79ms/step - loss: 5.8234e-05 - accuracy: 1.0000 - precision: 1.0000 - recall: 1.0000 - val_loss: 1.4782 - val_accuracy: 0.8923 - val_precision: 0.9167 - val_recall: 0.9649\n",
            "Epoch 83/100\n",
            "33/33 [==============================] - 3s 78ms/step - loss: 8.9490e-05 - accuracy: 1.0000 - precision: 1.0000 - recall: 1.0000 - val_loss: 1.4889 - val_accuracy: 0.8923 - val_precision: 0.9167 - val_recall: 0.9649\n",
            "Epoch 84/100\n",
            "33/33 [==============================] - 3s 78ms/step - loss: 8.7909e-05 - accuracy: 1.0000 - precision: 1.0000 - recall: 1.0000 - val_loss: 1.4933 - val_accuracy: 0.8923 - val_precision: 0.9167 - val_recall: 0.9649\n",
            "Epoch 85/100\n",
            "33/33 [==============================] - 3s 78ms/step - loss: 5.2687e-05 - accuracy: 1.0000 - precision: 1.0000 - recall: 1.0000 - val_loss: 1.5035 - val_accuracy: 0.8923 - val_precision: 0.9167 - val_recall: 0.9649\n",
            "Epoch 86/100\n",
            "33/33 [==============================] - 3s 77ms/step - loss: 3.9390e-05 - accuracy: 1.0000 - precision: 1.0000 - recall: 1.0000 - val_loss: 1.5192 - val_accuracy: 0.8923 - val_precision: 0.9167 - val_recall: 0.9649\n",
            "Epoch 87/100\n",
            "33/33 [==============================] - 3s 77ms/step - loss: 1.0025e-04 - accuracy: 1.0000 - precision: 1.0000 - recall: 1.0000 - val_loss: 1.5284 - val_accuracy: 0.8923 - val_precision: 0.9167 - val_recall: 0.9649\n",
            "Epoch 88/100\n",
            "33/33 [==============================] - 3s 77ms/step - loss: 7.4975e-05 - accuracy: 1.0000 - precision: 1.0000 - recall: 1.0000 - val_loss: 1.5582 - val_accuracy: 0.8923 - val_precision: 0.9167 - val_recall: 0.9649\n",
            "Epoch 89/100\n",
            "33/33 [==============================] - 3s 79ms/step - loss: 6.8879e-05 - accuracy: 1.0000 - precision: 1.0000 - recall: 1.0000 - val_loss: 1.5296 - val_accuracy: 0.8923 - val_precision: 0.9167 - val_recall: 0.9649\n",
            "Epoch 90/100\n",
            "33/33 [==============================] - 3s 78ms/step - loss: 3.6196e-05 - accuracy: 1.0000 - precision: 1.0000 - recall: 1.0000 - val_loss: 1.5444 - val_accuracy: 0.8923 - val_precision: 0.9167 - val_recall: 0.9649\n",
            "Epoch 91/100\n",
            "33/33 [==============================] - 3s 78ms/step - loss: 6.5267e-05 - accuracy: 1.0000 - precision: 1.0000 - recall: 1.0000 - val_loss: 1.5449 - val_accuracy: 0.8923 - val_precision: 0.9167 - val_recall: 0.9649\n",
            "Epoch 92/100\n",
            "33/33 [==============================] - 3s 80ms/step - loss: 2.6555e-05 - accuracy: 1.0000 - precision: 1.0000 - recall: 1.0000 - val_loss: 1.5603 - val_accuracy: 0.8923 - val_precision: 0.9167 - val_recall: 0.9649\n",
            "Epoch 93/100\n",
            "33/33 [==============================] - 3s 79ms/step - loss: 4.7946e-05 - accuracy: 1.0000 - precision: 1.0000 - recall: 1.0000 - val_loss: 1.5621 - val_accuracy: 0.8923 - val_precision: 0.9167 - val_recall: 0.9649\n",
            "Epoch 94/100\n",
            "33/33 [==============================] - 3s 79ms/step - loss: 1.9390e-05 - accuracy: 1.0000 - precision: 1.0000 - recall: 1.0000 - val_loss: 1.5726 - val_accuracy: 0.8923 - val_precision: 0.9167 - val_recall: 0.9649\n",
            "Epoch 95/100\n",
            "33/33 [==============================] - 3s 79ms/step - loss: 2.9915e-05 - accuracy: 1.0000 - precision: 1.0000 - recall: 1.0000 - val_loss: 1.5820 - val_accuracy: 0.8923 - val_precision: 0.9167 - val_recall: 0.9649\n",
            "Epoch 96/100\n",
            "33/33 [==============================] - 3s 78ms/step - loss: 5.2644e-05 - accuracy: 1.0000 - precision: 1.0000 - recall: 1.0000 - val_loss: 1.5678 - val_accuracy: 0.8923 - val_precision: 0.9167 - val_recall: 0.9649\n",
            "Epoch 97/100\n",
            "33/33 [==============================] - 3s 79ms/step - loss: 4.4205e-05 - accuracy: 1.0000 - precision: 1.0000 - recall: 1.0000 - val_loss: 1.5723 - val_accuracy: 0.8923 - val_precision: 0.9167 - val_recall: 0.9649\n",
            "Epoch 98/100\n",
            "33/33 [==============================] - 3s 79ms/step - loss: 2.1366e-05 - accuracy: 1.0000 - precision: 1.0000 - recall: 1.0000 - val_loss: 1.5776 - val_accuracy: 0.8923 - val_precision: 0.9167 - val_recall: 0.9649\n",
            "Epoch 99/100\n",
            "33/33 [==============================] - 3s 82ms/step - loss: 1.4487e-05 - accuracy: 1.0000 - precision: 1.0000 - recall: 1.0000 - val_loss: 1.5904 - val_accuracy: 0.8923 - val_precision: 0.9167 - val_recall: 0.9649\n",
            "Epoch 100/100\n",
            "33/33 [==============================] - 3s 78ms/step - loss: 3.0400e-05 - accuracy: 1.0000 - precision: 1.0000 - recall: 1.0000 - val_loss: 1.5828 - val_accuracy: 0.8923 - val_precision: 0.9167 - val_recall: 0.9649\n"
          ],
          "name": "stdout"
        }
      ]
    },
    {
      "cell_type": "code",
      "metadata": {
        "colab_type": "code",
        "id": "OS90qIf_cMPK",
        "colab": {
          "base_uri": "https://localhost:8080/",
          "height": 1000
        },
        "outputId": "5070acf0-aeab-450c-a695-1abd9205e906"
      },
      "source": [
        "%matplotlib inline\n",
        "\n",
        "import matplotlib.image  as mpimg\n",
        "import matplotlib.pyplot as plt\n",
        "\n",
        "#-----------------------------------------------------------\n",
        "# Retrieve a list of list results on training and test data\n",
        "# sets for each training epoch\n",
        "#-----------------------------------------------------------\n",
        "acc=history.history['accuracy']\n",
        "val_acc=history.history['val_accuracy']\n",
        "loss=history.history['loss']\n",
        "val_loss=history.history['val_loss']\n",
        "pre=history.history['precision']\n",
        "val_pre=history.history['val_precision']\n",
        "rec=history.history['recall']\n",
        "val_rec=history.history['val_recall']\n",
        "\n",
        "epochs=range(len(acc)) # Get number of epochs\n",
        "\n",
        "#------------------------------------------------\n",
        "# Plot training and validation accuracy per epoch\n",
        "#------------------------------------------------\n",
        "plt.plot(epochs, acc, 'r', label = 'Training accuracy')\n",
        "plt.plot(epochs, val_acc, 'b', label ='Validation accuracy')\n",
        "plt.title('Training and validation accuracy')\n",
        "plt.legend()\n",
        "plt.figure()\n",
        "\n",
        "#------------------------------------------------\n",
        "# Plot training and validation loss per epoch\n",
        "#------------------------------------------------\n",
        "plt.plot(epochs, loss, 'r', label = 'Training loss')\n",
        "plt.plot(epochs, val_loss, 'b', label = 'Validation loss')\n",
        "plt.title('Training and validation loss')\n",
        "plt.legend()\n",
        "plt.figure()\n",
        "\n",
        "#------------------------------------------------\n",
        "# Plot training and validation precision per epoch\n",
        "#------------------------------------------------\n",
        "plt.plot(epochs, pre, 'r', label = 'Training precision')\n",
        "plt.plot(epochs, val_pre, 'b', label ='Validation precision')\n",
        "plt.title('Training and validation precision')\n",
        "plt.legend()\n",
        "plt.figure()\n",
        "\n",
        "#------------------------------------------------\n",
        "# Plot training and validation recall per epoch\n",
        "#------------------------------------------------\n",
        "plt.plot(epochs, rec, 'r', label = 'Training recall')\n",
        "plt.plot(epochs, val_rec, 'b', label = 'Validation recall')\n",
        "plt.title('Training and validation recall')\n",
        "plt.legend()\n",
        "plt.figure()"
      ],
      "execution_count": null,
      "outputs": [
        {
          "output_type": "execute_result",
          "data": {
            "text/plain": [
              "<Figure size 432x288 with 0 Axes>"
            ]
          },
          "metadata": {
            "tags": []
          },
          "execution_count": 16
        },
        {
          "output_type": "display_data",
          "data": {
            "image/png": "[encoded data removed]",
            "text/plain": [
              "<Figure size 432x288 with 1 Axes>"
            ]
          },
          "metadata": {
            "tags": [],
            "needs_background": "light"
          }
        },
        {
          "output_type": "display_data",
          "data": {
            "image/png": "[encoded data removed]",
            "text/plain": [
              "<Figure size 432x288 with 1 Axes>"
            ]
          },
          "metadata": {
            "tags": [],
            "needs_background": "light"
          }
        },
        {
          "output_type": "display_data",
          "data": {
            "image/png": "[encoded data removed]",
            "text/plain": [
              "<Figure size 432x288 with 1 Axes>"
            ]
          },
          "metadata": {
            "tags": [],
            "needs_background": "light"
          }
        },
        {
          "output_type": "display_data",
          "data": {
            "image/png": "[encoded data removed]",
            "text/plain": [
              "<Figure size 432x288 with 1 Axes>"
            ]
          },
          "metadata": {
            "tags": [],
            "needs_background": "light"
          }
        },
        {
          "output_type": "display_data",
          "data": {
            "text/plain": [
              "<Figure size 432x288 with 0 Axes>"
            ]
          },
          "metadata": {
            "tags": []
          }
        }
      ]
    },
    {
      "cell_type": "code",
      "metadata": {
        "colab_type": "code",
        "id": "prGbxYZIJyey",
        "colab": {}
      },
      "source": [
        "model.save('baseline.h5')"
      ],
      "execution_count": null,
      "outputs": []
    },
    {
      "cell_type": "markdown",
      "metadata": {
        "colab_type": "text",
        "id": "zpnxMwS9up0u"
      },
      "source": [
        "#Transfer Learning"
      ]
    },
    {
      "cell_type": "code",
      "metadata": {
        "colab_type": "code",
        "id": "NuUJvzMLxsuV",
        "colab": {}
      },
      "source": [
        "from tensorflow.keras.applications import MobileNetV2, InceptionV3, VGG16, VGG19, ResNet50, InceptionResNetV2"
      ],
      "execution_count": null,
      "outputs": []
    },
    {
      "cell_type": "markdown",
      "metadata": {
        "colab_type": "text",
        "id": "cneef1N4uvQw"
      },
      "source": [
        "##MobileNetV2"
      ]
    },
    {
      "cell_type": "code",
      "metadata": {
        "colab_type": "code",
        "id": "-zf5AyPQuCEk",
        "colab": {
          "base_uri": "https://localhost:8080/",
          "height": 87
        },
        "outputId": "202d7aa4-ed3a-4803-cd8b-62a9562a387a"
      },
      "source": [
        "mobile_model=MobileNetV2(input_shape=(300,300,3),include_top=False)"
      ],
      "execution_count": null,
      "outputs": [
        {
          "output_type": "stream",
          "text": [
            "WARNING:tensorflow:`input_shape` is undefined or non-square, or `rows` is not in [96, 128, 160, 192, 224]. Weights for input shape (224, 224) will be loaded as the default.\n",
            "Downloading data from https://storage.googleapis.com/tensorflow/keras-applications/mobilenet_v2/mobilenet_v2_weights_tf_dim_ordering_tf_kernels_1.0_224_no_top.h5\n",
            "9412608/9406464 [==============================] - 0s 0us/step\n"
          ],
          "name": "stdout"
        }
      ]
    },
    {
      "cell_type": "code",
      "metadata": {
        "colab_type": "code",
        "id": "aUA4B-USyvww",
        "colab": {}
      },
      "source": [
        "mobile_model.trainable=False"
      ],
      "execution_count": null,
      "outputs": []
    },
    {
      "cell_type": "code",
      "metadata": {
        "colab_type": "code",
        "id": "hCM4QEpmy93Y",
        "colab": {
          "base_uri": "https://localhost:8080/",
          "height": 1000
        },
        "outputId": "b564789c-982a-46c7-f5d0-ddc4f1891726"
      },
      "source": [
        "mobile_model.summary()"
      ],
      "execution_count": null,
      "outputs": [
        {
          "output_type": "stream",
          "text": [
            "Model: \"mobilenetv2_1.00_224\"\n",
            "__________________________________________________________________________________________________\n",
            "Layer (type)                    Output Shape         Param #     Connected to                     \n",
            "==================================================================================================\n",
            "input_1 (InputLayer)            [(None, 300, 300, 3) 0                                            \n",
            "__________________________________________________________________________________________________\n",
            "Conv1_pad (ZeroPadding2D)       (None, 301, 301, 3)  0           input_1[0][0]                    \n",
            "__________________________________________________________________________________________________\n",
            "Conv1 (Conv2D)                  (None, 150, 150, 32) 864         Conv1_pad[0][0]                  \n",
            "__________________________________________________________________________________________________\n",
            "bn_Conv1 (BatchNormalization)   (None, 150, 150, 32) 128         Conv1[0][0]                      \n",
            "__________________________________________________________________________________________________\n",
            "Conv1_relu (ReLU)               (None, 150, 150, 32) 0           bn_Conv1[0][0]                   \n",
            "__________________________________________________________________________________________________\n",
            "expanded_conv_depthwise (Depthw (None, 150, 150, 32) 288         Conv1_relu[0][0]                 \n",
            "__________________________________________________________________________________________________\n",
            "expanded_conv_depthwise_BN (Bat (None, 150, 150, 32) 128         expanded_conv_depthwise[0][0]    \n",
            "__________________________________________________________________________________________________\n",
            "expanded_conv_depthwise_relu (R (None, 150, 150, 32) 0           expanded_conv_depthwise_BN[0][0] \n",
            "__________________________________________________________________________________________________\n",
            "expanded_conv_project (Conv2D)  (None, 150, 150, 16) 512         expanded_conv_depthwise_relu[0][0\n",
            "__________________________________________________________________________________________________\n",
            "expanded_conv_project_BN (Batch (None, 150, 150, 16) 64          expanded_conv_project[0][0]      \n",
            "__________________________________________________________________________________________________\n",
            "block_1_expand (Conv2D)         (None, 150, 150, 96) 1536        expanded_conv_project_BN[0][0]   \n",
            "__________________________________________________________________________________________________\n",
            "block_1_expand_BN (BatchNormali (None, 150, 150, 96) 384         block_1_expand[0][0]             \n",
            "__________________________________________________________________________________________________\n",
            "block_1_expand_relu (ReLU)      (None, 150, 150, 96) 0           block_1_expand_BN[0][0]          \n",
            "__________________________________________________________________________________________________\n",
            "block_1_pad (ZeroPadding2D)     (None, 151, 151, 96) 0           block_1_expand_relu[0][0]        \n",
            "__________________________________________________________________________________________________\n",
            "block_1_depthwise (DepthwiseCon (None, 75, 75, 96)   864         block_1_pad[0][0]                \n",
            "__________________________________________________________________________________________________\n",
            "block_1_depthwise_BN (BatchNorm (None, 75, 75, 96)   384         block_1_depthwise[0][0]          \n",
            "__________________________________________________________________________________________________\n",
            "block_1_depthwise_relu (ReLU)   (None, 75, 75, 96)   0           block_1_depthwise_BN[0][0]       \n",
            "__________________________________________________________________________________________________\n",
            "block_1_project (Conv2D)        (None, 75, 75, 24)   2304        block_1_depthwise_relu[0][0]     \n",
            "__________________________________________________________________________________________________\n",
            "block_1_project_BN (BatchNormal (None, 75, 75, 24)   96          block_1_project[0][0]            \n",
            "__________________________________________________________________________________________________\n",
            "block_2_expand (Conv2D)         (None, 75, 75, 144)  3456        block_1_project_BN[0][0]         \n",
            "__________________________________________________________________________________________________\n",
            "block_2_expand_BN (BatchNormali (None, 75, 75, 144)  576         block_2_expand[0][0]             \n",
            "__________________________________________________________________________________________________\n",
            "block_2_expand_relu (ReLU)      (None, 75, 75, 144)  0           block_2_expand_BN[0][0]          \n",
            "__________________________________________________________________________________________________\n",
            "block_2_depthwise (DepthwiseCon (None, 75, 75, 144)  1296        block_2_expand_relu[0][0]        \n",
            "__________________________________________________________________________________________________\n",
            "block_2_depthwise_BN (BatchNorm (None, 75, 75, 144)  576         block_2_depthwise[0][0]          \n",
            "__________________________________________________________________________________________________\n",
            "block_2_depthwise_relu (ReLU)   (None, 75, 75, 144)  0           block_2_depthwise_BN[0][0]       \n",
            "__________________________________________________________________________________________________\n",
            "block_2_project (Conv2D)        (None, 75, 75, 24)   3456        block_2_depthwise_relu[0][0]     \n",
            "__________________________________________________________________________________________________\n",
            "block_2_project_BN (BatchNormal (None, 75, 75, 24)   96          block_2_project[0][0]            \n",
            "__________________________________________________________________________________________________\n",
            "block_2_add (Add)               (None, 75, 75, 24)   0           block_1_project_BN[0][0]         \n",
            "                                                                 block_2_project_BN[0][0]         \n",
            "__________________________________________________________________________________________________\n",
            "block_3_expand (Conv2D)         (None, 75, 75, 144)  3456        block_2_add[0][0]                \n",
            "__________________________________________________________________________________________________\n",
            "block_3_expand_BN (BatchNormali (None, 75, 75, 144)  576         block_3_expand[0][0]             \n",
            "__________________________________________________________________________________________________\n",
            "block_3_expand_relu (ReLU)      (None, 75, 75, 144)  0           block_3_expand_BN[0][0]          \n",
            "__________________________________________________________________________________________________\n",
            "block_3_pad (ZeroPadding2D)     (None, 77, 77, 144)  0           block_3_expand_relu[0][0]        \n",
            "__________________________________________________________________________________________________\n",
            "block_3_depthwise (DepthwiseCon (None, 38, 38, 144)  1296        block_3_pad[0][0]                \n",
            "__________________________________________________________________________________________________\n",
            "block_3_depthwise_BN (BatchNorm (None, 38, 38, 144)  576         block_3_depthwise[0][0]          \n",
            "__________________________________________________________________________________________________\n",
            "block_3_depthwise_relu (ReLU)   (None, 38, 38, 144)  0           block_3_depthwise_BN[0][0]       \n",
            "__________________________________________________________________________________________________\n",
            "block_3_project (Conv2D)        (None, 38, 38, 32)   4608        block_3_depthwise_relu[0][0]     \n",
            "__________________________________________________________________________________________________\n",
            "block_3_project_BN (BatchNormal (None, 38, 38, 32)   128         block_3_project[0][0]            \n",
            "__________________________________________________________________________________________________\n",
            "block_4_expand (Conv2D)         (None, 38, 38, 192)  6144        block_3_project_BN[0][0]         \n",
            "__________________________________________________________________________________________________\n",
            "block_4_expand_BN (BatchNormali (None, 38, 38, 192)  768         block_4_expand[0][0]             \n",
            "__________________________________________________________________________________________________\n",
            "block_4_expand_relu (ReLU)      (None, 38, 38, 192)  0           block_4_expand_BN[0][0]          \n",
            "__________________________________________________________________________________________________\n",
            "block_4_depthwise (DepthwiseCon (None, 38, 38, 192)  1728        block_4_expand_relu[0][0]        \n",
            "__________________________________________________________________________________________________\n",
            "block_4_depthwise_BN (BatchNorm (None, 38, 38, 192)  768         block_4_depthwise[0][0]          \n",
            "__________________________________________________________________________________________________\n",
            "block_4_depthwise_relu (ReLU)   (None, 38, 38, 192)  0           block_4_depthwise_BN[0][0]       \n",
            "__________________________________________________________________________________________________\n",
            "block_4_project (Conv2D)        (None, 38, 38, 32)   6144        block_4_depthwise_relu[0][0]     \n",
            "__________________________________________________________________________________________________\n",
            "block_4_project_BN (BatchNormal (None, 38, 38, 32)   128         block_4_project[0][0]            \n",
            "__________________________________________________________________________________________________\n",
            "block_4_add (Add)               (None, 38, 38, 32)   0           block_3_project_BN[0][0]         \n",
            "                                                                 block_4_project_BN[0][0]         \n",
            "__________________________________________________________________________________________________\n",
            "block_5_expand (Conv2D)         (None, 38, 38, 192)  6144        block_4_add[0][0]                \n",
            "__________________________________________________________________________________________________\n",
            "block_5_expand_BN (BatchNormali (None, 38, 38, 192)  768         block_5_expand[0][0]             \n",
            "__________________________________________________________________________________________________\n",
            "block_5_expand_relu (ReLU)      (None, 38, 38, 192)  0           block_5_expand_BN[0][0]          \n",
            "__________________________________________________________________________________________________\n",
            "block_5_depthwise (DepthwiseCon (None, 38, 38, 192)  1728        block_5_expand_relu[0][0]        \n",
            "__________________________________________________________________________________________________\n",
            "block_5_depthwise_BN (BatchNorm (None, 38, 38, 192)  768         block_5_depthwise[0][0]          \n",
            "__________________________________________________________________________________________________\n",
            "block_5_depthwise_relu (ReLU)   (None, 38, 38, 192)  0           block_5_depthwise_BN[0][0]       \n",
            "__________________________________________________________________________________________________\n",
            "block_5_project (Conv2D)        (None, 38, 38, 32)   6144        block_5_depthwise_relu[0][0]     \n",
            "__________________________________________________________________________________________________\n",
            "block_5_project_BN (BatchNormal (None, 38, 38, 32)   128         block_5_project[0][0]            \n",
            "__________________________________________________________________________________________________\n",
            "block_5_add (Add)               (None, 38, 38, 32)   0           block_4_add[0][0]                \n",
            "                                                                 block_5_project_BN[0][0]         \n",
            "__________________________________________________________________________________________________\n",
            "block_6_expand (Conv2D)         (None, 38, 38, 192)  6144        block_5_add[0][0]                \n",
            "__________________________________________________________________________________________________\n",
            "block_6_expand_BN (BatchNormali (None, 38, 38, 192)  768         block_6_expand[0][0]             \n",
            "__________________________________________________________________________________________________\n",
            "block_6_expand_relu (ReLU)      (None, 38, 38, 192)  0           block_6_expand_BN[0][0]          \n",
            "__________________________________________________________________________________________________\n",
            "block_6_pad (ZeroPadding2D)     (None, 39, 39, 192)  0           block_6_expand_relu[0][0]        \n",
            "__________________________________________________________________________________________________\n",
            "block_6_depthwise (DepthwiseCon (None, 19, 19, 192)  1728        block_6_pad[0][0]                \n",
            "__________________________________________________________________________________________________\n",
            "block_6_depthwise_BN (BatchNorm (None, 19, 19, 192)  768         block_6_depthwise[0][0]          \n",
            "__________________________________________________________________________________________________\n",
            "block_6_depthwise_relu (ReLU)   (None, 19, 19, 192)  0           block_6_depthwise_BN[0][0]       \n",
            "__________________________________________________________________________________________________\n",
            "block_6_project (Conv2D)        (None, 19, 19, 64)   12288       block_6_depthwise_relu[0][0]     \n",
            "__________________________________________________________________________________________________\n",
            "block_6_project_BN (BatchNormal (None, 19, 19, 64)   256         block_6_project[0][0]            \n",
            "__________________________________________________________________________________________________\n",
            "block_7_expand (Conv2D)         (None, 19, 19, 384)  24576       block_6_project_BN[0][0]         \n",
            "__________________________________________________________________________________________________\n",
            "block_7_expand_BN (BatchNormali (None, 19, 19, 384)  1536        block_7_expand[0][0]             \n",
            "__________________________________________________________________________________________________\n",
            "block_7_expand_relu (ReLU)      (None, 19, 19, 384)  0           block_7_expand_BN[0][0]          \n",
            "__________________________________________________________________________________________________\n",
            "block_7_depthwise (DepthwiseCon (None, 19, 19, 384)  3456        block_7_expand_relu[0][0]        \n",
            "__________________________________________________________________________________________________\n",
            "block_7_depthwise_BN (BatchNorm (None, 19, 19, 384)  1536        block_7_depthwise[0][0]          \n",
            "__________________________________________________________________________________________________\n",
            "block_7_depthwise_relu (ReLU)   (None, 19, 19, 384)  0           block_7_depthwise_BN[0][0]       \n",
            "__________________________________________________________________________________________________\n",
            "block_7_project (Conv2D)        (None, 19, 19, 64)   24576       block_7_depthwise_relu[0][0]     \n",
            "__________________________________________________________________________________________________\n",
            "block_7_project_BN (BatchNormal (None, 19, 19, 64)   256         block_7_project[0][0]            \n",
            "__________________________________________________________________________________________________\n",
            "block_7_add (Add)               (None, 19, 19, 64)   0           block_6_project_BN[0][0]         \n",
            "                                                                 block_7_project_BN[0][0]         \n",
            "__________________________________________________________________________________________________\n",
            "block_8_expand (Conv2D)         (None, 19, 19, 384)  24576       block_7_add[0][0]                \n",
            "__________________________________________________________________________________________________\n",
            "block_8_expand_BN (BatchNormali (None, 19, 19, 384)  1536        block_8_expand[0][0]             \n",
            "__________________________________________________________________________________________________\n",
            "block_8_expand_relu (ReLU)      (None, 19, 19, 384)  0           block_8_expand_BN[0][0]          \n",
            "__________________________________________________________________________________________________\n",
            "block_8_depthwise (DepthwiseCon (None, 19, 19, 384)  3456        block_8_expand_relu[0][0]        \n",
            "__________________________________________________________________________________________________\n",
            "block_8_depthwise_BN (BatchNorm (None, 19, 19, 384)  1536        block_8_depthwise[0][0]          \n",
            "__________________________________________________________________________________________________\n",
            "block_8_depthwise_relu (ReLU)   (None, 19, 19, 384)  0           block_8_depthwise_BN[0][0]       \n",
            "__________________________________________________________________________________________________\n",
            "block_8_project (Conv2D)        (None, 19, 19, 64)   24576       block_8_depthwise_relu[0][0]     \n",
            "__________________________________________________________________________________________________\n",
            "block_8_project_BN (BatchNormal (None, 19, 19, 64)   256         block_8_project[0][0]            \n",
            "__________________________________________________________________________________________________\n",
            "block_8_add (Add)               (None, 19, 19, 64)   0           block_7_add[0][0]                \n",
            "                                                                 block_8_project_BN[0][0]         \n",
            "__________________________________________________________________________________________________\n",
            "block_9_expand (Conv2D)         (None, 19, 19, 384)  24576       block_8_add[0][0]                \n",
            "__________________________________________________________________________________________________\n",
            "block_9_expand_BN (BatchNormali (None, 19, 19, 384)  1536        block_9_expand[0][0]             \n",
            "__________________________________________________________________________________________________\n",
            "block_9_expand_relu (ReLU)      (None, 19, 19, 384)  0           block_9_expand_BN[0][0]          \n",
            "__________________________________________________________________________________________________\n",
            "block_9_depthwise (DepthwiseCon (None, 19, 19, 384)  3456        block_9_expand_relu[0][0]        \n",
            "__________________________________________________________________________________________________\n",
            "block_9_depthwise_BN (BatchNorm (None, 19, 19, 384)  1536        block_9_depthwise[0][0]          \n",
            "__________________________________________________________________________________________________\n",
            "block_9_depthwise_relu (ReLU)   (None, 19, 19, 384)  0           block_9_depthwise_BN[0][0]       \n",
            "__________________________________________________________________________________________________\n",
            "block_9_project (Conv2D)        (None, 19, 19, 64)   24576       block_9_depthwise_relu[0][0]     \n",
            "__________________________________________________________________________________________________\n",
            "block_9_project_BN (BatchNormal (None, 19, 19, 64)   256         block_9_project[0][0]            \n",
            "__________________________________________________________________________________________________\n",
            "block_9_add (Add)               (None, 19, 19, 64)   0           block_8_add[0][0]                \n",
            "                                                                 block_9_project_BN[0][0]         \n",
            "__________________________________________________________________________________________________\n",
            "block_10_expand (Conv2D)        (None, 19, 19, 384)  24576       block_9_add[0][0]                \n",
            "__________________________________________________________________________________________________\n",
            "block_10_expand_BN (BatchNormal (None, 19, 19, 384)  1536        block_10_expand[0][0]            \n",
            "__________________________________________________________________________________________________\n",
            "block_10_expand_relu (ReLU)     (None, 19, 19, 384)  0           block_10_expand_BN[0][0]         \n",
            "__________________________________________________________________________________________________\n",
            "block_10_depthwise (DepthwiseCo (None, 19, 19, 384)  3456        block_10_expand_relu[0][0]       \n",
            "__________________________________________________________________________________________________\n",
            "block_10_depthwise_BN (BatchNor (None, 19, 19, 384)  1536        block_10_depthwise[0][0]         \n",
            "__________________________________________________________________________________________________\n",
            "block_10_depthwise_relu (ReLU)  (None, 19, 19, 384)  0           block_10_depthwise_BN[0][0]      \n",
            "__________________________________________________________________________________________________\n",
            "block_10_project (Conv2D)       (None, 19, 19, 96)   36864       block_10_depthwise_relu[0][0]    \n",
            "__________________________________________________________________________________________________\n",
            "block_10_project_BN (BatchNorma (None, 19, 19, 96)   384         block_10_project[0][0]           \n",
            "__________________________________________________________________________________________________\n",
            "block_11_expand (Conv2D)        (None, 19, 19, 576)  55296       block_10_project_BN[0][0]        \n",
            "__________________________________________________________________________________________________\n",
            "block_11_expand_BN (BatchNormal (None, 19, 19, 576)  2304        block_11_expand[0][0]            \n",
            "__________________________________________________________________________________________________\n",
            "block_11_expand_relu (ReLU)     (None, 19, 19, 576)  0           block_11_expand_BN[0][0]         \n",
            "__________________________________________________________________________________________________\n",
            "block_11_depthwise (DepthwiseCo (None, 19, 19, 576)  5184        block_11_expand_relu[0][0]       \n",
            "__________________________________________________________________________________________________\n",
            "block_11_depthwise_BN (BatchNor (None, 19, 19, 576)  2304        block_11_depthwise[0][0]         \n",
            "__________________________________________________________________________________________________\n",
            "block_11_depthwise_relu (ReLU)  (None, 19, 19, 576)  0           block_11_depthwise_BN[0][0]      \n",
            "__________________________________________________________________________________________________\n",
            "block_11_project (Conv2D)       (None, 19, 19, 96)   55296       block_11_depthwise_relu[0][0]    \n",
            "__________________________________________________________________________________________________\n",
            "block_11_project_BN (BatchNorma (None, 19, 19, 96)   384         block_11_project[0][0]           \n",
            "__________________________________________________________________________________________________\n",
            "block_11_add (Add)              (None, 19, 19, 96)   0           block_10_project_BN[0][0]        \n",
            "                                                                 block_11_project_BN[0][0]        \n",
            "__________________________________________________________________________________________________\n",
            "block_12_expand (Conv2D)        (None, 19, 19, 576)  55296       block_11_add[0][0]               \n",
            "__________________________________________________________________________________________________\n",
            "block_12_expand_BN (BatchNormal (None, 19, 19, 576)  2304        block_12_expand[0][0]            \n",
            "__________________________________________________________________________________________________\n",
            "block_12_expand_relu (ReLU)     (None, 19, 19, 576)  0           block_12_expand_BN[0][0]         \n",
            "__________________________________________________________________________________________________\n",
            "block_12_depthwise (DepthwiseCo (None, 19, 19, 576)  5184        block_12_expand_relu[0][0]       \n",
            "__________________________________________________________________________________________________\n",
            "block_12_depthwise_BN (BatchNor (None, 19, 19, 576)  2304        block_12_depthwise[0][0]         \n",
            "__________________________________________________________________________________________________\n",
            "block_12_depthwise_relu (ReLU)  (None, 19, 19, 576)  0           block_12_depthwise_BN[0][0]      \n",
            "__________________________________________________________________________________________________\n",
            "block_12_project (Conv2D)       (None, 19, 19, 96)   55296       block_12_depthwise_relu[0][0]    \n",
            "__________________________________________________________________________________________________\n",
            "block_12_project_BN (BatchNorma (None, 19, 19, 96)   384         block_12_project[0][0]           \n",
            "__________________________________________________________________________________________________\n",
            "block_12_add (Add)              (None, 19, 19, 96)   0           block_11_add[0][0]               \n",
            "                                                                 block_12_project_BN[0][0]        \n",
            "__________________________________________________________________________________________________\n",
            "block_13_expand (Conv2D)        (None, 19, 19, 576)  55296       block_12_add[0][0]               \n",
            "__________________________________________________________________________________________________\n",
            "block_13_expand_BN (BatchNormal (None, 19, 19, 576)  2304        block_13_expand[0][0]            \n",
            "__________________________________________________________________________________________________\n",
            "block_13_expand_relu (ReLU)     (None, 19, 19, 576)  0           block_13_expand_BN[0][0]         \n",
            "__________________________________________________________________________________________________\n",
            "block_13_pad (ZeroPadding2D)    (None, 21, 21, 576)  0           block_13_expand_relu[0][0]       \n",
            "__________________________________________________________________________________________________\n",
            "block_13_depthwise (DepthwiseCo (None, 10, 10, 576)  5184        block_13_pad[0][0]               \n",
            "__________________________________________________________________________________________________\n",
            "block_13_depthwise_BN (BatchNor (None, 10, 10, 576)  2304        block_13_depthwise[0][0]         \n",
            "__________________________________________________________________________________________________\n",
            "block_13_depthwise_relu (ReLU)  (None, 10, 10, 576)  0           block_13_depthwise_BN[0][0]      \n",
            "__________________________________________________________________________________________________\n",
            "block_13_project (Conv2D)       (None, 10, 10, 160)  92160       block_13_depthwise_relu[0][0]    \n",
            "__________________________________________________________________________________________________\n",
            "block_13_project_BN (BatchNorma (None, 10, 10, 160)  640         block_13_project[0][0]           \n",
            "__________________________________________________________________________________________________\n",
            "block_14_expand (Conv2D)        (None, 10, 10, 960)  153600      block_13_project_BN[0][0]        \n",
            "__________________________________________________________________________________________________\n",
            "block_14_expand_BN (BatchNormal (None, 10, 10, 960)  3840        block_14_expand[0][0]            \n",
            "__________________________________________________________________________________________________\n",
            "block_14_expand_relu (ReLU)     (None, 10, 10, 960)  0           block_14_expand_BN[0][0]         \n",
            "__________________________________________________________________________________________________\n",
            "block_14_depthwise (DepthwiseCo (None, 10, 10, 960)  8640        block_14_expand_relu[0][0]       \n",
            "__________________________________________________________________________________________________\n",
            "block_14_depthwise_BN (BatchNor (None, 10, 10, 960)  3840        block_14_depthwise[0][0]         \n",
            "__________________________________________________________________________________________________\n",
            "block_14_depthwise_relu (ReLU)  (None, 10, 10, 960)  0           block_14_depthwise_BN[0][0]      \n",
            "__________________________________________________________________________________________________\n",
            "block_14_project (Conv2D)       (None, 10, 10, 160)  153600      block_14_depthwise_relu[0][0]    \n",
            "__________________________________________________________________________________________________\n",
            "block_14_project_BN (BatchNorma (None, 10, 10, 160)  640         block_14_project[0][0]           \n",
            "__________________________________________________________________________________________________\n",
            "block_14_add (Add)              (None, 10, 10, 160)  0           block_13_project_BN[0][0]        \n",
            "                                                                 block_14_project_BN[0][0]        \n",
            "__________________________________________________________________________________________________\n",
            "block_15_expand (Conv2D)        (None, 10, 10, 960)  153600      block_14_add[0][0]               \n",
            "__________________________________________________________________________________________________\n",
            "block_15_expand_BN (BatchNormal (None, 10, 10, 960)  3840        block_15_expand[0][0]            \n",
            "__________________________________________________________________________________________________\n",
            "block_15_expand_relu (ReLU)     (None, 10, 10, 960)  0           block_15_expand_BN[0][0]         \n",
            "__________________________________________________________________________________________________\n",
            "block_15_depthwise (DepthwiseCo (None, 10, 10, 960)  8640        block_15_expand_relu[0][0]       \n",
            "__________________________________________________________________________________________________\n",
            "block_15_depthwise_BN (BatchNor (None, 10, 10, 960)  3840        block_15_depthwise[0][0]         \n",
            "__________________________________________________________________________________________________\n",
            "block_15_depthwise_relu (ReLU)  (None, 10, 10, 960)  0           block_15_depthwise_BN[0][0]      \n",
            "__________________________________________________________________________________________________\n",
            "block_15_project (Conv2D)       (None, 10, 10, 160)  153600      block_15_depthwise_relu[0][0]    \n",
            "__________________________________________________________________________________________________\n",
            "block_15_project_BN (BatchNorma (None, 10, 10, 160)  640         block_15_project[0][0]           \n",
            "__________________________________________________________________________________________________\n",
            "block_15_add (Add)              (None, 10, 10, 160)  0           block_14_add[0][0]               \n",
            "                                                                 block_15_project_BN[0][0]        \n",
            "__________________________________________________________________________________________________\n",
            "block_16_expand (Conv2D)        (None, 10, 10, 960)  153600      block_15_add[0][0]               \n",
            "__________________________________________________________________________________________________\n",
            "block_16_expand_BN (BatchNormal (None, 10, 10, 960)  3840        block_16_expand[0][0]            \n",
            "__________________________________________________________________________________________________\n",
            "block_16_expand_relu (ReLU)     (None, 10, 10, 960)  0           block_16_expand_BN[0][0]         \n",
            "__________________________________________________________________________________________________\n",
            "block_16_depthwise (DepthwiseCo (None, 10, 10, 960)  8640        block_16_expand_relu[0][0]       \n",
            "__________________________________________________________________________________________________\n",
            "block_16_depthwise_BN (BatchNor (None, 10, 10, 960)  3840        block_16_depthwise[0][0]         \n",
            "__________________________________________________________________________________________________\n",
            "block_16_depthwise_relu (ReLU)  (None, 10, 10, 960)  0           block_16_depthwise_BN[0][0]      \n",
            "__________________________________________________________________________________________________\n",
            "block_16_project (Conv2D)       (None, 10, 10, 320)  307200      block_16_depthwise_relu[0][0]    \n",
            "__________________________________________________________________________________________________\n",
            "block_16_project_BN (BatchNorma (None, 10, 10, 320)  1280        block_16_project[0][0]           \n",
            "__________________________________________________________________________________________________\n",
            "Conv_1 (Conv2D)                 (None, 10, 10, 1280) 409600      block_16_project_BN[0][0]        \n",
            "__________________________________________________________________________________________________\n",
            "Conv_1_bn (BatchNormalization)  (None, 10, 10, 1280) 5120        Conv_1[0][0]                     \n",
            "__________________________________________________________________________________________________\n",
            "out_relu (ReLU)                 (None, 10, 10, 1280) 0           Conv_1_bn[0][0]                  \n",
            "==================================================================================================\n",
            "Total params: 2,257,984\n",
            "Trainable params: 0\n",
            "Non-trainable params: 2,257,984\n",
            "__________________________________________________________________________________________________\n"
          ],
          "name": "stdout"
        }
      ]
    },
    {
      "cell_type": "code",
      "metadata": {
        "colab_type": "code",
        "id": "ArnnrBbKz3wJ",
        "colab": {
          "base_uri": "https://localhost:8080/",
          "height": 34
        },
        "outputId": "6255bebe-0f84-47bc-d1e2-ab4d7a51d334"
      },
      "source": [
        "last_output=mobile_model.output\n",
        "print('last layer output shape: ', mobile_model.output_shape)"
      ],
      "execution_count": null,
      "outputs": [
        {
          "output_type": "stream",
          "text": [
            "last layer output shape:  (None, 10, 10, 1280)\n"
          ],
          "name": "stdout"
        }
      ]
    },
    {
      "cell_type": "code",
      "metadata": {
        "colab_type": "code",
        "id": "28xAYkVS04gB",
        "colab": {}
      },
      "source": [
        "from tensorflow.keras import layers\n",
        "from tensorflow.keras import Model"
      ],
      "execution_count": null,
      "outputs": []
    },
    {
      "cell_type": "code",
      "metadata": {
        "colab_type": "code",
        "id": "Uynmb1uo0Q_K",
        "colab": {
          "base_uri": "https://localhost:8080/",
          "height": 34
        },
        "outputId": "1b3afd77-f775-434a-d22a-3de2d9090486"
      },
      "source": [
        "# Flatten the output layer to 1 dimension\n",
        "x = layers.Flatten()(last_output)\n",
        "x = layers.Dense(512, activation='relu')(x)\n",
        "x = layers.Dropout(0.1)(x)                  \n",
        "x = layers.Dense(1, activation='sigmoid')(x)           \n",
        "\n",
        "model = Model(mobile_model.input, x) \n",
        "model.summary"
      ],
      "execution_count": null,
      "outputs": [
        {
          "output_type": "execute_result",
          "data": {
            "text/plain": [
              "<bound method Network.summary of <tensorflow.python.keras.engine.training.Model object at 0x7fc1d40172e8>>"
            ]
          },
          "metadata": {
            "tags": []
          },
          "execution_count": 24
        }
      ]
    },
    {
      "cell_type": "code",
      "metadata": {
        "colab_type": "code",
        "id": "Fz-i7bTm1cmk",
        "colab": {}
      },
      "source": [
        "model.compile(optimizer = 'adam', \n",
        "              loss = 'binary_crossentropy', \n",
        "              metrics = ['accuracy',Precision(),Recall()])"
      ],
      "execution_count": null,
      "outputs": []
    },
    {
      "cell_type": "code",
      "metadata": {
        "colab_type": "code",
        "id": "5OvMykIH1efR",
        "colab": {
          "base_uri": "https://localhost:8080/",
          "height": 1000
        },
        "outputId": "dbad0fed-6d56-483f-8044-2d3d27977c2a"
      },
      "source": [
        "# Fit the model\n",
        "history = model.fit(train_generator,\n",
        "                              epochs=100,\n",
        "                              verbose=1,\n",
        "                              validation_data=validation_generator)"
      ],
      "execution_count": null,
      "outputs": [
        {
          "output_type": "stream",
          "text": [
            "Epoch 1/100\n",
            "33/33 [==============================] - 5s 149ms/step - loss: 9.4103 - accuracy: 0.8323 - precision_1: 0.9018 - recall_1: 0.9081 - val_loss: 8.8377 - val_accuracy: 0.7538 - val_precision_1: 0.9767 - val_recall_1: 0.7368\n",
            "Epoch 2/100\n",
            "33/33 [==============================] - 4s 109ms/step - loss: 4.2670 - accuracy: 0.9286 - precision_1: 0.9676 - recall_1: 0.9505 - val_loss: 5.4037 - val_accuracy: 0.9308 - val_precision_1: 0.9339 - val_recall_1: 0.9912\n",
            "Epoch 3/100\n",
            "33/33 [==============================] - 4s 109ms/step - loss: 0.7981 - accuracy: 0.9783 - precision_1: 0.9859 - recall_1: 0.9894 - val_loss: 6.1214 - val_accuracy: 0.9308 - val_precision_1: 0.9339 - val_recall_1: 0.9912\n",
            "Epoch 4/100\n",
            "33/33 [==============================] - 4s 110ms/step - loss: 0.3764 - accuracy: 0.9783 - precision_1: 0.9894 - recall_1: 0.9859 - val_loss: 3.9695 - val_accuracy: 0.9385 - val_precision_1: 0.9649 - val_recall_1: 0.9649\n",
            "Epoch 5/100\n",
            "33/33 [==============================] - 4s 109ms/step - loss: 0.4626 - accuracy: 0.9876 - precision_1: 0.9895 - recall_1: 0.9965 - val_loss: 5.9608 - val_accuracy: 0.9154 - val_precision_1: 0.9256 - val_recall_1: 0.9825\n",
            "Epoch 6/100\n",
            "33/33 [==============================] - 4s 110ms/step - loss: 1.6683e-05 - accuracy: 1.0000 - precision_1: 1.0000 - recall_1: 1.0000 - val_loss: 7.0160 - val_accuracy: 0.9077 - val_precision_1: 0.9113 - val_recall_1: 0.9912\n",
            "Epoch 7/100\n",
            "33/33 [==============================] - 4s 110ms/step - loss: 0.0803 - accuracy: 0.9969 - precision_1: 0.9965 - recall_1: 1.0000 - val_loss: 7.1707 - val_accuracy: 0.9000 - val_precision_1: 0.9720 - val_recall_1: 0.9123\n",
            "Epoch 8/100\n",
            "33/33 [==============================] - 4s 109ms/step - loss: 0.1051 - accuracy: 0.9969 - precision_1: 1.0000 - recall_1: 0.9965 - val_loss: 7.9552 - val_accuracy: 0.9231 - val_precision_1: 0.9194 - val_recall_1: 1.0000\n",
            "Epoch 9/100\n",
            "33/33 [==============================] - 4s 110ms/step - loss: 0.0931 - accuracy: 0.9907 - precision_1: 0.9930 - recall_1: 0.9965 - val_loss: 7.3724 - val_accuracy: 0.9000 - val_precision_1: 0.9633 - val_recall_1: 0.9211\n",
            "Epoch 10/100\n",
            "33/33 [==============================] - 4s 108ms/step - loss: 0.2607 - accuracy: 0.9907 - precision_1: 0.9965 - recall_1: 0.9929 - val_loss: 4.7656 - val_accuracy: 0.9462 - val_precision_1: 0.9652 - val_recall_1: 0.9737\n",
            "Epoch 11/100\n",
            "33/33 [==============================] - 4s 109ms/step - loss: 8.4192e-21 - accuracy: 1.0000 - precision_1: 1.0000 - recall_1: 1.0000 - val_loss: 5.2882 - val_accuracy: 0.9154 - val_precision_1: 0.9328 - val_recall_1: 0.9737\n",
            "Epoch 12/100\n",
            "33/33 [==============================] - 4s 109ms/step - loss: 2.9924e-20 - accuracy: 1.0000 - precision_1: 1.0000 - recall_1: 1.0000 - val_loss: 5.3286 - val_accuracy: 0.9154 - val_precision_1: 0.9328 - val_recall_1: 0.9737\n",
            "Epoch 13/100\n",
            "33/33 [==============================] - 4s 108ms/step - loss: 2.7115e-12 - accuracy: 1.0000 - precision_1: 1.0000 - recall_1: 1.0000 - val_loss: 5.3300 - val_accuracy: 0.9154 - val_precision_1: 0.9328 - val_recall_1: 0.9737\n",
            "Epoch 14/100\n",
            "33/33 [==============================] - 4s 109ms/step - loss: 2.7900e-09 - accuracy: 1.0000 - precision_1: 1.0000 - recall_1: 1.0000 - val_loss: 5.3300 - val_accuracy: 0.9154 - val_precision_1: 0.9328 - val_recall_1: 0.9737\n",
            "Epoch 15/100\n",
            "33/33 [==============================] - 4s 111ms/step - loss: 5.7998e-19 - accuracy: 1.0000 - precision_1: 1.0000 - recall_1: 1.0000 - val_loss: 5.3300 - val_accuracy: 0.9154 - val_precision_1: 0.9328 - val_recall_1: 0.9737\n",
            "Epoch 16/100\n",
            "33/33 [==============================] - 4s 109ms/step - loss: 7.0361e-19 - accuracy: 1.0000 - precision_1: 1.0000 - recall_1: 1.0000 - val_loss: 5.3300 - val_accuracy: 0.9154 - val_precision_1: 0.9328 - val_recall_1: 0.9737\n",
            "Epoch 17/100\n",
            "33/33 [==============================] - 4s 109ms/step - loss: 2.2418e-22 - accuracy: 1.0000 - precision_1: 1.0000 - recall_1: 1.0000 - val_loss: 5.3300 - val_accuracy: 0.9154 - val_precision_1: 0.9328 - val_recall_1: 0.9737\n",
            "Epoch 18/100\n",
            "33/33 [==============================] - 4s 109ms/step - loss: 7.7455e-26 - accuracy: 1.0000 - precision_1: 1.0000 - recall_1: 1.0000 - val_loss: 5.3300 - val_accuracy: 0.9154 - val_precision_1: 0.9328 - val_recall_1: 0.9737\n",
            "Epoch 19/100\n",
            "33/33 [==============================] - 4s 110ms/step - loss: 4.8150e-17 - accuracy: 1.0000 - precision_1: 1.0000 - recall_1: 1.0000 - val_loss: 5.3300 - val_accuracy: 0.9154 - val_precision_1: 0.9328 - val_recall_1: 0.9737\n",
            "Epoch 20/100\n",
            "33/33 [==============================] - 4s 109ms/step - loss: 9.7414e-26 - accuracy: 1.0000 - precision_1: 1.0000 - recall_1: 1.0000 - val_loss: 5.3300 - val_accuracy: 0.9154 - val_precision_1: 0.9328 - val_recall_1: 0.9737\n",
            "Epoch 21/100\n",
            "33/33 [==============================] - 4s 109ms/step - loss: 1.1839e-26 - accuracy: 1.0000 - precision_1: 1.0000 - recall_1: 1.0000 - val_loss: 5.3300 - val_accuracy: 0.9154 - val_precision_1: 0.9328 - val_recall_1: 0.9737\n",
            "Epoch 22/100\n",
            "33/33 [==============================] - 4s 110ms/step - loss: 9.8859e-27 - accuracy: 1.0000 - precision_1: 1.0000 - recall_1: 1.0000 - val_loss: 5.3300 - val_accuracy: 0.9154 - val_precision_1: 0.9328 - val_recall_1: 0.9737\n",
            "Epoch 23/100\n",
            "33/33 [==============================] - 4s 110ms/step - loss: 2.6681e-24 - accuracy: 1.0000 - precision_1: 1.0000 - recall_1: 1.0000 - val_loss: 5.3300 - val_accuracy: 0.9154 - val_precision_1: 0.9328 - val_recall_1: 0.9737\n",
            "Epoch 24/100\n",
            "33/33 [==============================] - 4s 109ms/step - loss: 7.2575e-19 - accuracy: 1.0000 - precision_1: 1.0000 - recall_1: 1.0000 - val_loss: 5.3300 - val_accuracy: 0.9154 - val_precision_1: 0.9328 - val_recall_1: 0.9737\n",
            "Epoch 25/100\n",
            "33/33 [==============================] - 4s 111ms/step - loss: 7.3568e-11 - accuracy: 1.0000 - precision_1: 1.0000 - recall_1: 1.0000 - val_loss: 5.3300 - val_accuracy: 0.9154 - val_precision_1: 0.9328 - val_recall_1: 0.9737\n",
            "Epoch 26/100\n",
            "33/33 [==============================] - 4s 109ms/step - loss: 1.4960e-17 - accuracy: 1.0000 - precision_1: 1.0000 - recall_1: 1.0000 - val_loss: 5.3300 - val_accuracy: 0.9154 - val_precision_1: 0.9328 - val_recall_1: 0.9737\n",
            "Epoch 27/100\n",
            "33/33 [==============================] - 4s 110ms/step - loss: 4.2527e-25 - accuracy: 1.0000 - precision_1: 1.0000 - recall_1: 1.0000 - val_loss: 5.3300 - val_accuracy: 0.9154 - val_precision_1: 0.9328 - val_recall_1: 0.9737\n",
            "Epoch 28/100\n",
            "33/33 [==============================] - 4s 109ms/step - loss: 3.3832e-22 - accuracy: 1.0000 - precision_1: 1.0000 - recall_1: 1.0000 - val_loss: 5.3300 - val_accuracy: 0.9154 - val_precision_1: 0.9328 - val_recall_1: 0.9737\n",
            "Epoch 29/100\n",
            "33/33 [==============================] - 4s 111ms/step - loss: 2.1388e-26 - accuracy: 1.0000 - precision_1: 1.0000 - recall_1: 1.0000 - val_loss: 5.3300 - val_accuracy: 0.9154 - val_precision_1: 0.9328 - val_recall_1: 0.9737\n",
            "Epoch 30/100\n",
            "33/33 [==============================] - 4s 111ms/step - loss: 2.4480e-25 - accuracy: 1.0000 - precision_1: 1.0000 - recall_1: 1.0000 - val_loss: 5.3300 - val_accuracy: 0.9154 - val_precision_1: 0.9328 - val_recall_1: 0.9737\n",
            "Epoch 31/100\n",
            "33/33 [==============================] - 4s 111ms/step - loss: 8.8149e-28 - accuracy: 1.0000 - precision_1: 1.0000 - recall_1: 1.0000 - val_loss: 5.3300 - val_accuracy: 0.9154 - val_precision_1: 0.9328 - val_recall_1: 0.9737\n",
            "Epoch 32/100\n",
            "33/33 [==============================] - 4s 111ms/step - loss: 2.5386e-28 - accuracy: 1.0000 - precision_1: 1.0000 - recall_1: 1.0000 - val_loss: 5.3300 - val_accuracy: 0.9154 - val_precision_1: 0.9328 - val_recall_1: 0.9737\n",
            "Epoch 33/100\n",
            "33/33 [==============================] - 4s 110ms/step - loss: 2.8227e-09 - accuracy: 1.0000 - precision_1: 1.0000 - recall_1: 1.0000 - val_loss: 5.3300 - val_accuracy: 0.9154 - val_precision_1: 0.9328 - val_recall_1: 0.9737\n",
            "Epoch 34/100\n",
            "33/33 [==============================] - 4s 109ms/step - loss: 6.4832e-17 - accuracy: 1.0000 - precision_1: 1.0000 - recall_1: 1.0000 - val_loss: 5.3300 - val_accuracy: 0.9154 - val_precision_1: 0.9328 - val_recall_1: 0.9737\n",
            "Epoch 35/100\n",
            "33/33 [==============================] - 4s 109ms/step - loss: 6.8171e-21 - accuracy: 1.0000 - precision_1: 1.0000 - recall_1: 1.0000 - val_loss: 5.3300 - val_accuracy: 0.9154 - val_precision_1: 0.9328 - val_recall_1: 0.9737\n",
            "Epoch 36/100\n",
            "33/33 [==============================] - 4s 109ms/step - loss: 5.1896e-28 - accuracy: 1.0000 - precision_1: 1.0000 - recall_1: 1.0000 - val_loss: 5.3300 - val_accuracy: 0.9154 - val_precision_1: 0.9328 - val_recall_1: 0.9737\n",
            "Epoch 37/100\n",
            "33/33 [==============================] - 4s 110ms/step - loss: 2.6283e-11 - accuracy: 1.0000 - precision_1: 1.0000 - recall_1: 1.0000 - val_loss: 5.3300 - val_accuracy: 0.9154 - val_precision_1: 0.9328 - val_recall_1: 0.9737\n",
            "Epoch 38/100\n",
            "33/33 [==============================] - 4s 110ms/step - loss: 1.4696e-15 - accuracy: 1.0000 - precision_1: 1.0000 - recall_1: 1.0000 - val_loss: 5.3300 - val_accuracy: 0.9154 - val_precision_1: 0.9328 - val_recall_1: 0.9737\n",
            "Epoch 39/100\n",
            "33/33 [==============================] - 4s 109ms/step - loss: 1.9213e-07 - accuracy: 1.0000 - precision_1: 1.0000 - recall_1: 1.0000 - val_loss: 5.3292 - val_accuracy: 0.9154 - val_precision_1: 0.9328 - val_recall_1: 0.9737\n",
            "Epoch 40/100\n",
            "33/33 [==============================] - 4s 109ms/step - loss: 1.5137e-15 - accuracy: 1.0000 - precision_1: 1.0000 - recall_1: 1.0000 - val_loss: 5.3292 - val_accuracy: 0.9154 - val_precision_1: 0.9328 - val_recall_1: 0.9737\n",
            "Epoch 41/100\n",
            "33/33 [==============================] - 4s 111ms/step - loss: 4.0764e-16 - accuracy: 1.0000 - precision_1: 1.0000 - recall_1: 1.0000 - val_loss: 5.3292 - val_accuracy: 0.9154 - val_precision_1: 0.9328 - val_recall_1: 0.9737\n",
            "Epoch 42/100\n",
            "33/33 [==============================] - 4s 109ms/step - loss: 1.5918e-13 - accuracy: 1.0000 - precision_1: 1.0000 - recall_1: 1.0000 - val_loss: 5.3292 - val_accuracy: 0.9154 - val_precision_1: 0.9328 - val_recall_1: 0.9737\n",
            "Epoch 43/100\n",
            "33/33 [==============================] - 4s 110ms/step - loss: 3.8110e-14 - accuracy: 1.0000 - precision_1: 1.0000 - recall_1: 1.0000 - val_loss: 5.3292 - val_accuracy: 0.9154 - val_precision_1: 0.9328 - val_recall_1: 0.9737\n",
            "Epoch 44/100\n",
            "33/33 [==============================] - 4s 110ms/step - loss: 5.1387e-14 - accuracy: 1.0000 - precision_1: 1.0000 - recall_1: 1.0000 - val_loss: 5.3292 - val_accuracy: 0.9154 - val_precision_1: 0.9328 - val_recall_1: 0.9737\n",
            "Epoch 45/100\n",
            "33/33 [==============================] - 4s 110ms/step - loss: 1.2676e-21 - accuracy: 1.0000 - precision_1: 1.0000 - recall_1: 1.0000 - val_loss: 5.3292 - val_accuracy: 0.9154 - val_precision_1: 0.9328 - val_recall_1: 0.9737\n",
            "Epoch 46/100\n",
            "33/33 [==============================] - 4s 110ms/step - loss: 7.5221e-28 - accuracy: 1.0000 - precision_1: 1.0000 - recall_1: 1.0000 - val_loss: 5.3292 - val_accuracy: 0.9154 - val_precision_1: 0.9328 - val_recall_1: 0.9737\n",
            "Epoch 47/100\n",
            "33/33 [==============================] - 4s 109ms/step - loss: 3.4233e-12 - accuracy: 1.0000 - precision_1: 1.0000 - recall_1: 1.0000 - val_loss: 5.3292 - val_accuracy: 0.9154 - val_precision_1: 0.9328 - val_recall_1: 0.9737\n",
            "Epoch 48/100\n",
            "33/33 [==============================] - 4s 108ms/step - loss: 1.8441e-13 - accuracy: 1.0000 - precision_1: 1.0000 - recall_1: 1.0000 - val_loss: 5.3292 - val_accuracy: 0.9154 - val_precision_1: 0.9328 - val_recall_1: 0.9737\n",
            "Epoch 49/100\n",
            "33/33 [==============================] - 4s 109ms/step - loss: 3.1613e-18 - accuracy: 1.0000 - precision_1: 1.0000 - recall_1: 1.0000 - val_loss: 5.3292 - val_accuracy: 0.9154 - val_precision_1: 0.9328 - val_recall_1: 0.9737\n",
            "Epoch 50/100\n",
            "33/33 [==============================] - 4s 109ms/step - loss: 3.9586e-25 - accuracy: 1.0000 - precision_1: 1.0000 - recall_1: 1.0000 - val_loss: 5.3292 - val_accuracy: 0.9154 - val_precision_1: 0.9328 - val_recall_1: 0.9737\n",
            "Epoch 51/100\n",
            "33/33 [==============================] - 4s 109ms/step - loss: 7.2616e-26 - accuracy: 1.0000 - precision_1: 1.0000 - recall_1: 1.0000 - val_loss: 5.3292 - val_accuracy: 0.9154 - val_precision_1: 0.9328 - val_recall_1: 0.9737\n",
            "Epoch 52/100\n",
            "33/33 [==============================] - 4s 110ms/step - loss: 2.0691e-22 - accuracy: 1.0000 - precision_1: 1.0000 - recall_1: 1.0000 - val_loss: 5.3292 - val_accuracy: 0.9154 - val_precision_1: 0.9328 - val_recall_1: 0.9737\n",
            "Epoch 53/100\n",
            "33/33 [==============================] - 4s 109ms/step - loss: 2.8776e-08 - accuracy: 1.0000 - precision_1: 1.0000 - recall_1: 1.0000 - val_loss: 5.3290 - val_accuracy: 0.9154 - val_precision_1: 0.9328 - val_recall_1: 0.9737\n",
            "Epoch 54/100\n",
            "33/33 [==============================] - 4s 110ms/step - loss: 7.9836e-29 - accuracy: 1.0000 - precision_1: 1.0000 - recall_1: 1.0000 - val_loss: 5.3290 - val_accuracy: 0.9154 - val_precision_1: 0.9328 - val_recall_1: 0.9737\n",
            "Epoch 55/100\n",
            "33/33 [==============================] - 4s 111ms/step - loss: 4.4243e-09 - accuracy: 1.0000 - precision_1: 1.0000 - recall_1: 1.0000 - val_loss: 5.3289 - val_accuracy: 0.9154 - val_precision_1: 0.9328 - val_recall_1: 0.9737\n",
            "Epoch 56/100\n",
            "33/33 [==============================] - 4s 110ms/step - loss: 7.6488e-11 - accuracy: 1.0000 - precision_1: 1.0000 - recall_1: 1.0000 - val_loss: 5.3289 - val_accuracy: 0.9154 - val_precision_1: 0.9328 - val_recall_1: 0.9737\n",
            "Epoch 57/100\n",
            "33/33 [==============================] - 4s 110ms/step - loss: 1.1930e-13 - accuracy: 1.0000 - precision_1: 1.0000 - recall_1: 1.0000 - val_loss: 5.3289 - val_accuracy: 0.9154 - val_precision_1: 0.9328 - val_recall_1: 0.9737\n",
            "Epoch 58/100\n",
            "33/33 [==============================] - 4s 110ms/step - loss: 2.6205e-25 - accuracy: 1.0000 - precision_1: 1.0000 - recall_1: 1.0000 - val_loss: 5.3289 - val_accuracy: 0.9154 - val_precision_1: 0.9328 - val_recall_1: 0.9737\n",
            "Epoch 59/100\n",
            "33/33 [==============================] - 4s 110ms/step - loss: 3.7999e-30 - accuracy: 1.0000 - precision_1: 1.0000 - recall_1: 1.0000 - val_loss: 5.3289 - val_accuracy: 0.9154 - val_precision_1: 0.9328 - val_recall_1: 0.9737\n",
            "Epoch 60/100\n",
            "33/33 [==============================] - 4s 108ms/step - loss: 2.7023e-13 - accuracy: 1.0000 - precision_1: 1.0000 - recall_1: 1.0000 - val_loss: 5.3289 - val_accuracy: 0.9154 - val_precision_1: 0.9328 - val_recall_1: 0.9737\n",
            "Epoch 61/100\n",
            "33/33 [==============================] - 4s 109ms/step - loss: 7.0035e-18 - accuracy: 1.0000 - precision_1: 1.0000 - recall_1: 1.0000 - val_loss: 5.3289 - val_accuracy: 0.9154 - val_precision_1: 0.9328 - val_recall_1: 0.9737\n",
            "Epoch 62/100\n",
            "33/33 [==============================] - 4s 111ms/step - loss: 3.5719e-23 - accuracy: 1.0000 - precision_1: 1.0000 - recall_1: 1.0000 - val_loss: 5.3289 - val_accuracy: 0.9154 - val_precision_1: 0.9328 - val_recall_1: 0.9737\n",
            "Epoch 63/100\n",
            "33/33 [==============================] - 4s 110ms/step - loss: 7.7845e-08 - accuracy: 1.0000 - precision_1: 1.0000 - recall_1: 1.0000 - val_loss: 5.3286 - val_accuracy: 0.9154 - val_precision_1: 0.9328 - val_recall_1: 0.9737\n",
            "Epoch 64/100\n",
            "33/33 [==============================] - 4s 110ms/step - loss: 2.1633e-10 - accuracy: 1.0000 - precision_1: 1.0000 - recall_1: 1.0000 - val_loss: 5.3286 - val_accuracy: 0.9154 - val_precision_1: 0.9328 - val_recall_1: 0.9737\n",
            "Epoch 65/100\n",
            "33/33 [==============================] - 4s 110ms/step - loss: 6.6509e-24 - accuracy: 1.0000 - precision_1: 1.0000 - recall_1: 1.0000 - val_loss: 5.3286 - val_accuracy: 0.9154 - val_precision_1: 0.9328 - val_recall_1: 0.9737\n",
            "Epoch 66/100\n",
            "33/33 [==============================] - 4s 110ms/step - loss: 0.3380 - accuracy: 0.9907 - precision_1: 0.9965 - recall_1: 0.9929 - val_loss: 28.9963 - val_accuracy: 0.8769 - val_precision_1: 0.8769 - val_recall_1: 1.0000\n",
            "Epoch 67/100\n",
            "33/33 [==============================] - 4s 109ms/step - loss: 8.3732 - accuracy: 0.9193 - precision_1: 0.9541 - recall_1: 0.9541 - val_loss: 9.5160 - val_accuracy: 0.9231 - val_precision_1: 0.9194 - val_recall_1: 1.0000\n",
            "Epoch 68/100\n",
            "33/33 [==============================] - 4s 110ms/step - loss: 6.3645 - accuracy: 0.9348 - precision_1: 0.9613 - recall_1: 0.9647 - val_loss: 5.6837 - val_accuracy: 0.9231 - val_precision_1: 0.9815 - val_recall_1: 0.9298\n",
            "Epoch 69/100\n",
            "33/33 [==============================] - 4s 109ms/step - loss: 0.5988 - accuracy: 0.9938 - precision_1: 0.9930 - recall_1: 1.0000 - val_loss: 3.7809 - val_accuracy: 0.9615 - val_precision_1: 0.9739 - val_recall_1: 0.9825\n",
            "Epoch 70/100\n",
            "33/33 [==============================] - 4s 109ms/step - loss: 0.1864 - accuracy: 0.9938 - precision_1: 0.9965 - recall_1: 0.9965 - val_loss: 4.2398 - val_accuracy: 0.9538 - val_precision_1: 0.9737 - val_recall_1: 0.9737\n",
            "Epoch 71/100\n",
            "33/33 [==============================] - 4s 108ms/step - loss: 0.2079 - accuracy: 0.9845 - precision_1: 0.9929 - recall_1: 0.9894 - val_loss: 4.5712 - val_accuracy: 0.9538 - val_precision_1: 0.9737 - val_recall_1: 0.9737\n",
            "Epoch 72/100\n",
            "33/33 [==============================] - 4s 108ms/step - loss: 1.1102e-11 - accuracy: 1.0000 - precision_1: 1.0000 - recall_1: 1.0000 - val_loss: 5.8623 - val_accuracy: 0.9385 - val_precision_1: 0.9417 - val_recall_1: 0.9912\n",
            "Epoch 73/100\n",
            "33/33 [==============================] - 4s 109ms/step - loss: 0.0513 - accuracy: 0.9938 - precision_1: 0.9965 - recall_1: 0.9965 - val_loss: 3.6836 - val_accuracy: 0.9308 - val_precision_1: 0.9487 - val_recall_1: 0.9737\n",
            "Epoch 74/100\n",
            "33/33 [==============================] - 4s 110ms/step - loss: 6.7274e-04 - accuracy: 1.0000 - precision_1: 1.0000 - recall_1: 1.0000 - val_loss: 3.9538 - val_accuracy: 0.9308 - val_precision_1: 0.9412 - val_recall_1: 0.9825\n",
            "Epoch 75/100\n",
            "33/33 [==============================] - 4s 110ms/step - loss: 8.6711e-04 - accuracy: 1.0000 - precision_1: 1.0000 - recall_1: 1.0000 - val_loss: 4.8809 - val_accuracy: 0.9231 - val_precision_1: 0.9194 - val_recall_1: 1.0000\n",
            "Epoch 76/100\n",
            "33/33 [==============================] - 4s 110ms/step - loss: 6.8419e-19 - accuracy: 1.0000 - precision_1: 1.0000 - recall_1: 1.0000 - val_loss: 5.0763 - val_accuracy: 0.9231 - val_precision_1: 0.9194 - val_recall_1: 1.0000\n",
            "Epoch 77/100\n",
            "33/33 [==============================] - 4s 109ms/step - loss: 8.4562e-17 - accuracy: 1.0000 - precision_1: 1.0000 - recall_1: 1.0000 - val_loss: 5.0825 - val_accuracy: 0.9231 - val_precision_1: 0.9194 - val_recall_1: 1.0000\n",
            "Epoch 78/100\n",
            "33/33 [==============================] - 4s 109ms/step - loss: 8.4600e-17 - accuracy: 1.0000 - precision_1: 1.0000 - recall_1: 1.0000 - val_loss: 5.0827 - val_accuracy: 0.9231 - val_precision_1: 0.9194 - val_recall_1: 1.0000\n",
            "Epoch 79/100\n",
            "33/33 [==============================] - 4s 110ms/step - loss: 4.8886e-13 - accuracy: 1.0000 - precision_1: 1.0000 - recall_1: 1.0000 - val_loss: 5.0827 - val_accuracy: 0.9231 - val_precision_1: 0.9194 - val_recall_1: 1.0000\n",
            "Epoch 80/100\n",
            "33/33 [==============================] - 4s 109ms/step - loss: 5.0450e-19 - accuracy: 1.0000 - precision_1: 1.0000 - recall_1: 1.0000 - val_loss: 5.0827 - val_accuracy: 0.9231 - val_precision_1: 0.9194 - val_recall_1: 1.0000\n",
            "Epoch 81/100\n",
            "33/33 [==============================] - 4s 109ms/step - loss: 0.0314 - accuracy: 0.9969 - precision_1: 0.9965 - recall_1: 1.0000 - val_loss: 4.4648 - val_accuracy: 0.9231 - val_precision_1: 0.9727 - val_recall_1: 0.9386\n",
            "Epoch 82/100\n",
            "33/33 [==============================] - 4s 109ms/step - loss: 0.0343 - accuracy: 0.9938 - precision_1: 1.0000 - recall_1: 0.9929 - val_loss: 13.7453 - val_accuracy: 0.9000 - val_precision_1: 0.8976 - val_recall_1: 1.0000\n",
            "Epoch 83/100\n",
            "33/33 [==============================] - 4s 110ms/step - loss: 0.6599 - accuracy: 0.9876 - precision_1: 0.9895 - recall_1: 0.9965 - val_loss: 3.3755 - val_accuracy: 0.9308 - val_precision_1: 0.9730 - val_recall_1: 0.9474\n",
            "Epoch 84/100\n",
            "33/33 [==============================] - 4s 110ms/step - loss: 0.0884 - accuracy: 0.9969 - precision_1: 1.0000 - recall_1: 0.9965 - val_loss: 4.7005 - val_accuracy: 0.9385 - val_precision_1: 0.9344 - val_recall_1: 1.0000\n",
            "Epoch 85/100\n",
            "33/33 [==============================] - 4s 111ms/step - loss: 0.1298 - accuracy: 0.9969 - precision_1: 0.9965 - recall_1: 1.0000 - val_loss: 7.5840 - val_accuracy: 0.9000 - val_precision_1: 0.8976 - val_recall_1: 1.0000\n",
            "Epoch 86/100\n",
            "33/33 [==============================] - 4s 110ms/step - loss: 0.1169 - accuracy: 0.9969 - precision_1: 1.0000 - recall_1: 0.9965 - val_loss: 5.0891 - val_accuracy: 0.9308 - val_precision_1: 0.9268 - val_recall_1: 1.0000\n",
            "Epoch 87/100\n",
            "33/33 [==============================] - 4s 111ms/step - loss: 7.7450e-25 - accuracy: 1.0000 - precision_1: 1.0000 - recall_1: 1.0000 - val_loss: 9.3494 - val_accuracy: 0.9000 - val_precision_1: 0.8976 - val_recall_1: 1.0000\n",
            "Epoch 88/100\n",
            "33/33 [==============================] - 4s 110ms/step - loss: 2.6562e-06 - accuracy: 1.0000 - precision_1: 1.0000 - recall_1: 1.0000 - val_loss: 9.4843 - val_accuracy: 0.9000 - val_precision_1: 0.8976 - val_recall_1: 1.0000\n",
            "Epoch 89/100\n",
            "33/33 [==============================] - 4s 109ms/step - loss: 2.5215e-06 - accuracy: 1.0000 - precision_1: 1.0000 - recall_1: 1.0000 - val_loss: 9.4806 - val_accuracy: 0.9000 - val_precision_1: 0.8976 - val_recall_1: 1.0000\n",
            "Epoch 90/100\n",
            "33/33 [==============================] - 4s 111ms/step - loss: 0.0898 - accuracy: 0.9969 - precision_1: 0.9965 - recall_1: 1.0000 - val_loss: 3.5914 - val_accuracy: 0.9385 - val_precision_1: 0.9569 - val_recall_1: 0.9737\n",
            "Epoch 91/100\n",
            "33/33 [==============================] - 4s 110ms/step - loss: 4.9538e-24 - accuracy: 1.0000 - precision_1: 1.0000 - recall_1: 1.0000 - val_loss: 3.5559 - val_accuracy: 0.9385 - val_precision_1: 0.9569 - val_recall_1: 0.9737\n",
            "Epoch 92/100\n",
            "33/33 [==============================] - 4s 110ms/step - loss: 1.2547e-16 - accuracy: 1.0000 - precision_1: 1.0000 - recall_1: 1.0000 - val_loss: 3.5549 - val_accuracy: 0.9385 - val_precision_1: 0.9569 - val_recall_1: 0.9737\n",
            "Epoch 93/100\n",
            "33/33 [==============================] - 4s 111ms/step - loss: 4.5574e-16 - accuracy: 1.0000 - precision_1: 1.0000 - recall_1: 1.0000 - val_loss: 3.5548 - val_accuracy: 0.9385 - val_precision_1: 0.9569 - val_recall_1: 0.9737\n",
            "Epoch 94/100\n",
            "33/33 [==============================] - 4s 110ms/step - loss: 2.8890e-28 - accuracy: 1.0000 - precision_1: 1.0000 - recall_1: 1.0000 - val_loss: 3.5548 - val_accuracy: 0.9385 - val_precision_1: 0.9569 - val_recall_1: 0.9737\n",
            "Epoch 95/100\n",
            "33/33 [==============================] - 4s 110ms/step - loss: 6.5993e-22 - accuracy: 1.0000 - precision_1: 1.0000 - recall_1: 1.0000 - val_loss: 3.5548 - val_accuracy: 0.9385 - val_precision_1: 0.9569 - val_recall_1: 0.9737\n",
            "Epoch 96/100\n",
            "33/33 [==============================] - 4s 111ms/step - loss: 1.2230e-14 - accuracy: 1.0000 - precision_1: 1.0000 - recall_1: 1.0000 - val_loss: 3.5548 - val_accuracy: 0.9385 - val_precision_1: 0.9569 - val_recall_1: 0.9737\n",
            "Epoch 97/100\n",
            "33/33 [==============================] - 4s 110ms/step - loss: 7.3032e-23 - accuracy: 1.0000 - precision_1: 1.0000 - recall_1: 1.0000 - val_loss: 3.5548 - val_accuracy: 0.9385 - val_precision_1: 0.9569 - val_recall_1: 0.9737\n",
            "Epoch 98/100\n",
            "33/33 [==============================] - 4s 114ms/step - loss: 1.3884e-27 - accuracy: 1.0000 - precision_1: 1.0000 - recall_1: 1.0000 - val_loss: 3.5548 - val_accuracy: 0.9385 - val_precision_1: 0.9569 - val_recall_1: 0.9737\n",
            "Epoch 99/100\n",
            "33/33 [==============================] - 4s 110ms/step - loss: 2.7395e-08 - accuracy: 1.0000 - precision_1: 1.0000 - recall_1: 1.0000 - val_loss: 3.5548 - val_accuracy: 0.9385 - val_precision_1: 0.9569 - val_recall_1: 0.9737\n",
            "Epoch 100/100\n",
            "33/33 [==============================] - 4s 109ms/step - loss: 5.5319e-21 - accuracy: 1.0000 - precision_1: 1.0000 - recall_1: 1.0000 - val_loss: 3.5548 - val_accuracy: 0.9385 - val_precision_1: 0.9569 - val_recall_1: 0.9737\n"
          ],
          "name": "stdout"
        }
      ]
    },
    {
      "cell_type": "code",
      "metadata": {
        "colab_type": "code",
        "id": "UQKkTr-h1jkM",
        "colab": {
          "base_uri": "https://localhost:8080/",
          "height": 1000
        },
        "outputId": "59aafb86-8243-4a03-b6f2-54794aaeccd9"
      },
      "source": [
        "%matplotlib inline\n",
        "\n",
        "import matplotlib.image  as mpimg\n",
        "import matplotlib.pyplot as plt\n",
        "\n",
        "#-----------------------------------------------------------\n",
        "# Retrieve a list of list results on training and test data\n",
        "# sets for each training epoch\n",
        "#-----------------------------------------------------------\n",
        "acc=history.history['accuracy']\n",
        "val_acc=history.history['val_accuracy']\n",
        "loss=history.history['loss']\n",
        "val_loss=history.history['val_loss']\n",
        "pre=history.history['precision_1']\n",
        "val_pre=history.history['val_precision_1']\n",
        "rec=history.history['recall_1']\n",
        "val_rec=history.history['val_recall_1']\n",
        "\n",
        "epochs=range(len(acc)) # Get number of epochs\n",
        "\n",
        "#------------------------------------------------\n",
        "# Plot training and validation accuracy per epoch\n",
        "#------------------------------------------------\n",
        "plt.plot(epochs, acc, 'r', label = 'Training accuracy')\n",
        "plt.plot(epochs, val_acc, 'b', label ='Validation accuracy')\n",
        "plt.title('Training and validation accuracy')\n",
        "plt.legend()\n",
        "plt.figure()\n",
        "\n",
        "#------------------------------------------------\n",
        "# Plot training and validation loss per epoch\n",
        "#------------------------------------------------\n",
        "plt.plot(epochs, loss, 'r', label = 'Training loss')\n",
        "plt.plot(epochs, val_loss, 'b', label = 'Validation loss')\n",
        "plt.title('Training and validation loss')\n",
        "plt.legend()\n",
        "plt.figure()\n",
        "\n",
        "#------------------------------------------------\n",
        "# Plot training and validation precision per epoch\n",
        "#------------------------------------------------\n",
        "plt.plot(epochs, pre, 'r', label = 'Training precision')\n",
        "plt.plot(epochs, val_pre, 'b', label ='Validation precision')\n",
        "plt.title('Training and validation precision')\n",
        "plt.legend()\n",
        "plt.figure()\n",
        "\n",
        "#------------------------------------------------\n",
        "# Plot training and validation recall per epoch\n",
        "#------------------------------------------------\n",
        "plt.plot(epochs, rec, 'r', label = 'Training recall')\n",
        "plt.plot(epochs, val_rec, 'b', label = 'Validation recall')\n",
        "plt.title('Training and validation recall')\n",
        "plt.legend()\n",
        "plt.figure()"
      ],
      "execution_count": null,
      "outputs": [
        {
          "output_type": "execute_result",
          "data": {
            "text/plain": [
              "<Figure size 432x288 with 0 Axes>"
            ]
          },
          "metadata": {
            "tags": []
          },
          "execution_count": 27
        },
        {
          "output_type": "display_data",
          "data": {
            "image/png": "[encoded data removed]",
            "text/plain": [
              "<Figure size 432x288 with 1 Axes>"
            ]
          },
          "metadata": {
            "tags": [],
            "needs_background": "light"
          }
        },
        {
          "output_type": "display_data",
          "data": {
            "image/png": "[encoded data removed]",
            "text/plain": [
              "<Figure size 432x288 with 1 Axes>"
            ]
          },
          "metadata": {
            "tags": [],
            "needs_background": "light"
          }
        },
        {
          "output_type": "display_data",
          "data": {
            "image/png": "[encoded data removed]",
            "text/plain": [
              "<Figure size 432x288 with 1 Axes>"
            ]
          },
          "metadata": {
            "tags": [],
            "needs_background": "light"
          }
        },
        {
          "output_type": "display_data",
          "data": {
            "image/png": "[encoded data removed]",
            "text/plain": [
              "<Figure size 432x288 with 1 Axes>"
            ]
          },
          "metadata": {
            "tags": [],
            "needs_background": "light"
          }
        },
        {
          "output_type": "display_data",
          "data": {
            "text/plain": [
              "<Figure size 432x288 with 0 Axes>"
            ]
          },
          "metadata": {
            "tags": []
          }
        }
      ]
    },
    {
      "cell_type": "code",
      "metadata": {
        "colab_type": "code",
        "id": "zM2PcyaQJtrB",
        "colab": {}
      },
      "source": [
        "model.save('mobiletrans.h5')"
      ],
      "execution_count": null,
      "outputs": []
    },
    {
      "cell_type": "markdown",
      "metadata": {
        "colab_type": "text",
        "id": "0CnDmDi6Fri8"
      },
      "source": [
        "##InceptionV3"
      ]
    },
    {
      "cell_type": "code",
      "metadata": {
        "colab_type": "code",
        "id": "-IyIblsLFtCP",
        "colab": {
          "base_uri": "https://localhost:8080/",
          "height": 70
        },
        "outputId": "3b843ffe-63f2-4a34-b14c-341628cf3366"
      },
      "source": [
        "incept_model=InceptionV3(input_shape=(300,300,3),include_top=False)"
      ],
      "execution_count": null,
      "outputs": [
        {
          "output_type": "stream",
          "text": [
            "Downloading data from https://storage.googleapis.com/tensorflow/keras-applications/inception_v3/inception_v3_weights_tf_dim_ordering_tf_kernels_notop.h5\n",
            "87916544/87910968 [==============================] - 1s 0us/step\n"
          ],
          "name": "stdout"
        }
      ]
    },
    {
      "cell_type": "code",
      "metadata": {
        "colab_type": "code",
        "id": "-ps2UOh8F2mA",
        "colab": {}
      },
      "source": [
        "incept_model.trainable=False"
      ],
      "execution_count": null,
      "outputs": []
    },
    {
      "cell_type": "code",
      "metadata": {
        "colab_type": "code",
        "id": "Z5xsM2JEF8F-",
        "colab": {
          "base_uri": "https://localhost:8080/",
          "height": 1000
        },
        "outputId": "3e0506ed-ccaf-483c-e462-1b10f4a075f6"
      },
      "source": [
        "incept_model.summary()"
      ],
      "execution_count": null,
      "outputs": [
        {
          "output_type": "stream",
          "text": [
            "Model: \"inception_v3\"\n",
            "__________________________________________________________________________________________________\n",
            "Layer (type)                    Output Shape         Param #     Connected to                     \n",
            "==================================================================================================\n",
            "input_2 (InputLayer)            [(None, 300, 300, 3) 0                                            \n",
            "__________________________________________________________________________________________________\n",
            "conv2d_3 (Conv2D)               (None, 149, 149, 32) 864         input_2[0][0]                    \n",
            "__________________________________________________________________________________________________\n",
            "batch_normalization (BatchNorma (None, 149, 149, 32) 96          conv2d_3[0][0]                   \n",
            "__________________________________________________________________________________________________\n",
            "activation (Activation)         (None, 149, 149, 32) 0           batch_normalization[0][0]        \n",
            "__________________________________________________________________________________________________\n",
            "conv2d_4 (Conv2D)               (None, 147, 147, 32) 9216        activation[0][0]                 \n",
            "__________________________________________________________________________________________________\n",
            "batch_normalization_1 (BatchNor (None, 147, 147, 32) 96          conv2d_4[0][0]                   \n",
            "__________________________________________________________________________________________________\n",
            "activation_1 (Activation)       (None, 147, 147, 32) 0           batch_normalization_1[0][0]      \n",
            "__________________________________________________________________________________________________\n",
            "conv2d_5 (Conv2D)               (None, 147, 147, 64) 18432       activation_1[0][0]               \n",
            "__________________________________________________________________________________________________\n",
            "batch_normalization_2 (BatchNor (None, 147, 147, 64) 192         conv2d_5[0][0]                   \n",
            "__________________________________________________________________________________________________\n",
            "activation_2 (Activation)       (None, 147, 147, 64) 0           batch_normalization_2[0][0]      \n",
            "__________________________________________________________________________________________________\n",
            "max_pooling2d_3 (MaxPooling2D)  (None, 73, 73, 64)   0           activation_2[0][0]               \n",
            "__________________________________________________________________________________________________\n",
            "conv2d_6 (Conv2D)               (None, 73, 73, 80)   5120        max_pooling2d_3[0][0]            \n",
            "__________________________________________________________________________________________________\n",
            "batch_normalization_3 (BatchNor (None, 73, 73, 80)   240         conv2d_6[0][0]                   \n",
            "__________________________________________________________________________________________________\n",
            "activation_3 (Activation)       (None, 73, 73, 80)   0           batch_normalization_3[0][0]      \n",
            "__________________________________________________________________________________________________\n",
            "conv2d_7 (Conv2D)               (None, 71, 71, 192)  138240      activation_3[0][0]               \n",
            "__________________________________________________________________________________________________\n",
            "batch_normalization_4 (BatchNor (None, 71, 71, 192)  576         conv2d_7[0][0]                   \n",
            "__________________________________________________________________________________________________\n",
            "activation_4 (Activation)       (None, 71, 71, 192)  0           batch_normalization_4[0][0]      \n",
            "__________________________________________________________________________________________________\n",
            "max_pooling2d_4 (MaxPooling2D)  (None, 35, 35, 192)  0           activation_4[0][0]               \n",
            "__________________________________________________________________________________________________\n",
            "conv2d_11 (Conv2D)              (None, 35, 35, 64)   12288       max_pooling2d_4[0][0]            \n",
            "__________________________________________________________________________________________________\n",
            "batch_normalization_8 (BatchNor (None, 35, 35, 64)   192         conv2d_11[0][0]                  \n",
            "__________________________________________________________________________________________________\n",
            "activation_8 (Activation)       (None, 35, 35, 64)   0           batch_normalization_8[0][0]      \n",
            "__________________________________________________________________________________________________\n",
            "conv2d_9 (Conv2D)               (None, 35, 35, 48)   9216        max_pooling2d_4[0][0]            \n",
            "__________________________________________________________________________________________________\n",
            "conv2d_12 (Conv2D)              (None, 35, 35, 96)   55296       activation_8[0][0]               \n",
            "__________________________________________________________________________________________________\n",
            "batch_normalization_6 (BatchNor (None, 35, 35, 48)   144         conv2d_9[0][0]                   \n",
            "__________________________________________________________________________________________________\n",
            "batch_normalization_9 (BatchNor (None, 35, 35, 96)   288         conv2d_12[0][0]                  \n",
            "__________________________________________________________________________________________________\n",
            "activation_6 (Activation)       (None, 35, 35, 48)   0           batch_normalization_6[0][0]      \n",
            "__________________________________________________________________________________________________\n",
            "activation_9 (Activation)       (None, 35, 35, 96)   0           batch_normalization_9[0][0]      \n",
            "__________________________________________________________________________________________________\n",
            "average_pooling2d (AveragePooli (None, 35, 35, 192)  0           max_pooling2d_4[0][0]            \n",
            "__________________________________________________________________________________________________\n",
            "conv2d_8 (Conv2D)               (None, 35, 35, 64)   12288       max_pooling2d_4[0][0]            \n",
            "__________________________________________________________________________________________________\n",
            "conv2d_10 (Conv2D)              (None, 35, 35, 64)   76800       activation_6[0][0]               \n",
            "__________________________________________________________________________________________________\n",
            "conv2d_13 (Conv2D)              (None, 35, 35, 96)   82944       activation_9[0][0]               \n",
            "__________________________________________________________________________________________________\n",
            "conv2d_14 (Conv2D)              (None, 35, 35, 32)   6144        average_pooling2d[0][0]          \n",
            "__________________________________________________________________________________________________\n",
            "batch_normalization_5 (BatchNor (None, 35, 35, 64)   192         conv2d_8[0][0]                   \n",
            "__________________________________________________________________________________________________\n",
            "batch_normalization_7 (BatchNor (None, 35, 35, 64)   192         conv2d_10[0][0]                  \n",
            "__________________________________________________________________________________________________\n",
            "batch_normalization_10 (BatchNo (None, 35, 35, 96)   288         conv2d_13[0][0]                  \n",
            "__________________________________________________________________________________________________\n",
            "batch_normalization_11 (BatchNo (None, 35, 35, 32)   96          conv2d_14[0][0]                  \n",
            "__________________________________________________________________________________________________\n",
            "activation_5 (Activation)       (None, 35, 35, 64)   0           batch_normalization_5[0][0]      \n",
            "__________________________________________________________________________________________________\n",
            "activation_7 (Activation)       (None, 35, 35, 64)   0           batch_normalization_7[0][0]      \n",
            "__________________________________________________________________________________________________\n",
            "activation_10 (Activation)      (None, 35, 35, 96)   0           batch_normalization_10[0][0]     \n",
            "__________________________________________________________________________________________________\n",
            "activation_11 (Activation)      (None, 35, 35, 32)   0           batch_normalization_11[0][0]     \n",
            "__________________________________________________________________________________________________\n",
            "mixed0 (Concatenate)            (None, 35, 35, 256)  0           activation_5[0][0]               \n",
            "                                                                 activation_7[0][0]               \n",
            "                                                                 activation_10[0][0]              \n",
            "                                                                 activation_11[0][0]              \n",
            "__________________________________________________________________________________________________\n",
            "conv2d_18 (Conv2D)              (None, 35, 35, 64)   16384       mixed0[0][0]                     \n",
            "__________________________________________________________________________________________________\n",
            "batch_normalization_15 (BatchNo (None, 35, 35, 64)   192         conv2d_18[0][0]                  \n",
            "__________________________________________________________________________________________________\n",
            "activation_15 (Activation)      (None, 35, 35, 64)   0           batch_normalization_15[0][0]     \n",
            "__________________________________________________________________________________________________\n",
            "conv2d_16 (Conv2D)              (None, 35, 35, 48)   12288       mixed0[0][0]                     \n",
            "__________________________________________________________________________________________________\n",
            "conv2d_19 (Conv2D)              (None, 35, 35, 96)   55296       activation_15[0][0]              \n",
            "__________________________________________________________________________________________________\n",
            "batch_normalization_13 (BatchNo (None, 35, 35, 48)   144         conv2d_16[0][0]                  \n",
            "__________________________________________________________________________________________________\n",
            "batch_normalization_16 (BatchNo (None, 35, 35, 96)   288         conv2d_19[0][0]                  \n",
            "__________________________________________________________________________________________________\n",
            "activation_13 (Activation)      (None, 35, 35, 48)   0           batch_normalization_13[0][0]     \n",
            "__________________________________________________________________________________________________\n",
            "activation_16 (Activation)      (None, 35, 35, 96)   0           batch_normalization_16[0][0]     \n",
            "__________________________________________________________________________________________________\n",
            "average_pooling2d_1 (AveragePoo (None, 35, 35, 256)  0           mixed0[0][0]                     \n",
            "__________________________________________________________________________________________________\n",
            "conv2d_15 (Conv2D)              (None, 35, 35, 64)   16384       mixed0[0][0]                     \n",
            "__________________________________________________________________________________________________\n",
            "conv2d_17 (Conv2D)              (None, 35, 35, 64)   76800       activation_13[0][0]              \n",
            "__________________________________________________________________________________________________\n",
            "conv2d_20 (Conv2D)              (None, 35, 35, 96)   82944       activation_16[0][0]              \n",
            "__________________________________________________________________________________________________\n",
            "conv2d_21 (Conv2D)              (None, 35, 35, 64)   16384       average_pooling2d_1[0][0]        \n",
            "__________________________________________________________________________________________________\n",
            "batch_normalization_12 (BatchNo (None, 35, 35, 64)   192         conv2d_15[0][0]                  \n",
            "__________________________________________________________________________________________________\n",
            "batch_normalization_14 (BatchNo (None, 35, 35, 64)   192         conv2d_17[0][0]                  \n",
            "__________________________________________________________________________________________________\n",
            "batch_normalization_17 (BatchNo (None, 35, 35, 96)   288         conv2d_20[0][0]                  \n",
            "__________________________________________________________________________________________________\n",
            "batch_normalization_18 (BatchNo (None, 35, 35, 64)   192         conv2d_21[0][0]                  \n",
            "__________________________________________________________________________________________________\n",
            "activation_12 (Activation)      (None, 35, 35, 64)   0           batch_normalization_12[0][0]     \n",
            "__________________________________________________________________________________________________\n",
            "activation_14 (Activation)      (None, 35, 35, 64)   0           batch_normalization_14[0][0]     \n",
            "__________________________________________________________________________________________________\n",
            "activation_17 (Activation)      (None, 35, 35, 96)   0           batch_normalization_17[0][0]     \n",
            "__________________________________________________________________________________________________\n",
            "activation_18 (Activation)      (None, 35, 35, 64)   0           batch_normalization_18[0][0]     \n",
            "__________________________________________________________________________________________________\n",
            "mixed1 (Concatenate)            (None, 35, 35, 288)  0           activation_12[0][0]              \n",
            "                                                                 activation_14[0][0]              \n",
            "                                                                 activation_17[0][0]              \n",
            "                                                                 activation_18[0][0]              \n",
            "__________________________________________________________________________________________________\n",
            "conv2d_25 (Conv2D)              (None, 35, 35, 64)   18432       mixed1[0][0]                     \n",
            "__________________________________________________________________________________________________\n",
            "batch_normalization_22 (BatchNo (None, 35, 35, 64)   192         conv2d_25[0][0]                  \n",
            "__________________________________________________________________________________________________\n",
            "activation_22 (Activation)      (None, 35, 35, 64)   0           batch_normalization_22[0][0]     \n",
            "__________________________________________________________________________________________________\n",
            "conv2d_23 (Conv2D)              (None, 35, 35, 48)   13824       mixed1[0][0]                     \n",
            "__________________________________________________________________________________________________\n",
            "conv2d_26 (Conv2D)              (None, 35, 35, 96)   55296       activation_22[0][0]              \n",
            "__________________________________________________________________________________________________\n",
            "batch_normalization_20 (BatchNo (None, 35, 35, 48)   144         conv2d_23[0][0]                  \n",
            "__________________________________________________________________________________________________\n",
            "batch_normalization_23 (BatchNo (None, 35, 35, 96)   288         conv2d_26[0][0]                  \n",
            "__________________________________________________________________________________________________\n",
            "activation_20 (Activation)      (None, 35, 35, 48)   0           batch_normalization_20[0][0]     \n",
            "__________________________________________________________________________________________________\n",
            "activation_23 (Activation)      (None, 35, 35, 96)   0           batch_normalization_23[0][0]     \n",
            "__________________________________________________________________________________________________\n",
            "average_pooling2d_2 (AveragePoo (None, 35, 35, 288)  0           mixed1[0][0]                     \n",
            "__________________________________________________________________________________________________\n",
            "conv2d_22 (Conv2D)              (None, 35, 35, 64)   18432       mixed1[0][0]                     \n",
            "__________________________________________________________________________________________________\n",
            "conv2d_24 (Conv2D)              (None, 35, 35, 64)   76800       activation_20[0][0]              \n",
            "__________________________________________________________________________________________________\n",
            "conv2d_27 (Conv2D)              (None, 35, 35, 96)   82944       activation_23[0][0]              \n",
            "__________________________________________________________________________________________________\n",
            "conv2d_28 (Conv2D)              (None, 35, 35, 64)   18432       average_pooling2d_2[0][0]        \n",
            "__________________________________________________________________________________________________\n",
            "batch_normalization_19 (BatchNo (None, 35, 35, 64)   192         conv2d_22[0][0]                  \n",
            "__________________________________________________________________________________________________\n",
            "batch_normalization_21 (BatchNo (None, 35, 35, 64)   192         conv2d_24[0][0]                  \n",
            "__________________________________________________________________________________________________\n",
            "batch_normalization_24 (BatchNo (None, 35, 35, 96)   288         conv2d_27[0][0]                  \n",
            "__________________________________________________________________________________________________\n",
            "batch_normalization_25 (BatchNo (None, 35, 35, 64)   192         conv2d_28[0][0]                  \n",
            "__________________________________________________________________________________________________\n",
            "activation_19 (Activation)      (None, 35, 35, 64)   0           batch_normalization_19[0][0]     \n",
            "__________________________________________________________________________________________________\n",
            "activation_21 (Activation)      (None, 35, 35, 64)   0           batch_normalization_21[0][0]     \n",
            "__________________________________________________________________________________________________\n",
            "activation_24 (Activation)      (None, 35, 35, 96)   0           batch_normalization_24[0][0]     \n",
            "__________________________________________________________________________________________________\n",
            "activation_25 (Activation)      (None, 35, 35, 64)   0           batch_normalization_25[0][0]     \n",
            "__________________________________________________________________________________________________\n",
            "mixed2 (Concatenate)            (None, 35, 35, 288)  0           activation_19[0][0]              \n",
            "                                                                 activation_21[0][0]              \n",
            "                                                                 activation_24[0][0]              \n",
            "                                                                 activation_25[0][0]              \n",
            "__________________________________________________________________________________________________\n",
            "conv2d_30 (Conv2D)              (None, 35, 35, 64)   18432       mixed2[0][0]                     \n",
            "__________________________________________________________________________________________________\n",
            "batch_normalization_27 (BatchNo (None, 35, 35, 64)   192         conv2d_30[0][0]                  \n",
            "__________________________________________________________________________________________________\n",
            "activation_27 (Activation)      (None, 35, 35, 64)   0           batch_normalization_27[0][0]     \n",
            "__________________________________________________________________________________________________\n",
            "conv2d_31 (Conv2D)              (None, 35, 35, 96)   55296       activation_27[0][0]              \n",
            "__________________________________________________________________________________________________\n",
            "batch_normalization_28 (BatchNo (None, 35, 35, 96)   288         conv2d_31[0][0]                  \n",
            "__________________________________________________________________________________________________\n",
            "activation_28 (Activation)      (None, 35, 35, 96)   0           batch_normalization_28[0][0]     \n",
            "__________________________________________________________________________________________________\n",
            "conv2d_29 (Conv2D)              (None, 17, 17, 384)  995328      mixed2[0][0]                     \n",
            "__________________________________________________________________________________________________\n",
            "conv2d_32 (Conv2D)              (None, 17, 17, 96)   82944       activation_28[0][0]              \n",
            "__________________________________________________________________________________________________\n",
            "batch_normalization_26 (BatchNo (None, 17, 17, 384)  1152        conv2d_29[0][0]                  \n",
            "__________________________________________________________________________________________________\n",
            "batch_normalization_29 (BatchNo (None, 17, 17, 96)   288         conv2d_32[0][0]                  \n",
            "__________________________________________________________________________________________________\n",
            "activation_26 (Activation)      (None, 17, 17, 384)  0           batch_normalization_26[0][0]     \n",
            "__________________________________________________________________________________________________\n",
            "activation_29 (Activation)      (None, 17, 17, 96)   0           batch_normalization_29[0][0]     \n",
            "__________________________________________________________________________________________________\n",
            "max_pooling2d_5 (MaxPooling2D)  (None, 17, 17, 288)  0           mixed2[0][0]                     \n",
            "__________________________________________________________________________________________________\n",
            "mixed3 (Concatenate)            (None, 17, 17, 768)  0           activation_26[0][0]              \n",
            "                                                                 activation_29[0][0]              \n",
            "                                                                 max_pooling2d_5[0][0]            \n",
            "__________________________________________________________________________________________________\n",
            "conv2d_37 (Conv2D)              (None, 17, 17, 128)  98304       mixed3[0][0]                     \n",
            "__________________________________________________________________________________________________\n",
            "batch_normalization_34 (BatchNo (None, 17, 17, 128)  384         conv2d_37[0][0]                  \n",
            "__________________________________________________________________________________________________\n",
            "activation_34 (Activation)      (None, 17, 17, 128)  0           batch_normalization_34[0][0]     \n",
            "__________________________________________________________________________________________________\n",
            "conv2d_38 (Conv2D)              (None, 17, 17, 128)  114688      activation_34[0][0]              \n",
            "__________________________________________________________________________________________________\n",
            "batch_normalization_35 (BatchNo (None, 17, 17, 128)  384         conv2d_38[0][0]                  \n",
            "__________________________________________________________________________________________________\n",
            "activation_35 (Activation)      (None, 17, 17, 128)  0           batch_normalization_35[0][0]     \n",
            "__________________________________________________________________________________________________\n",
            "conv2d_34 (Conv2D)              (None, 17, 17, 128)  98304       mixed3[0][0]                     \n",
            "__________________________________________________________________________________________________\n",
            "conv2d_39 (Conv2D)              (None, 17, 17, 128)  114688      activation_35[0][0]              \n",
            "__________________________________________________________________________________________________\n",
            "batch_normalization_31 (BatchNo (None, 17, 17, 128)  384         conv2d_34[0][0]                  \n",
            "__________________________________________________________________________________________________\n",
            "batch_normalization_36 (BatchNo (None, 17, 17, 128)  384         conv2d_39[0][0]                  \n",
            "__________________________________________________________________________________________________\n",
            "activation_31 (Activation)      (None, 17, 17, 128)  0           batch_normalization_31[0][0]     \n",
            "__________________________________________________________________________________________________\n",
            "activation_36 (Activation)      (None, 17, 17, 128)  0           batch_normalization_36[0][0]     \n",
            "__________________________________________________________________________________________________\n",
            "conv2d_35 (Conv2D)              (None, 17, 17, 128)  114688      activation_31[0][0]              \n",
            "__________________________________________________________________________________________________\n",
            "conv2d_40 (Conv2D)              (None, 17, 17, 128)  114688      activation_36[0][0]              \n",
            "__________________________________________________________________________________________________\n",
            "batch_normalization_32 (BatchNo (None, 17, 17, 128)  384         conv2d_35[0][0]                  \n",
            "__________________________________________________________________________________________________\n",
            "batch_normalization_37 (BatchNo (None, 17, 17, 128)  384         conv2d_40[0][0]                  \n",
            "__________________________________________________________________________________________________\n",
            "activation_32 (Activation)      (None, 17, 17, 128)  0           batch_normalization_32[0][0]     \n",
            "__________________________________________________________________________________________________\n",
            "activation_37 (Activation)      (None, 17, 17, 128)  0           batch_normalization_37[0][0]     \n",
            "__________________________________________________________________________________________________\n",
            "average_pooling2d_3 (AveragePoo (None, 17, 17, 768)  0           mixed3[0][0]                     \n",
            "__________________________________________________________________________________________________\n",
            "conv2d_33 (Conv2D)              (None, 17, 17, 192)  147456      mixed3[0][0]                     \n",
            "__________________________________________________________________________________________________\n",
            "conv2d_36 (Conv2D)              (None, 17, 17, 192)  172032      activation_32[0][0]              \n",
            "__________________________________________________________________________________________________\n",
            "conv2d_41 (Conv2D)              (None, 17, 17, 192)  172032      activation_37[0][0]              \n",
            "__________________________________________________________________________________________________\n",
            "conv2d_42 (Conv2D)              (None, 17, 17, 192)  147456      average_pooling2d_3[0][0]        \n",
            "__________________________________________________________________________________________________\n",
            "batch_normalization_30 (BatchNo (None, 17, 17, 192)  576         conv2d_33[0][0]                  \n",
            "__________________________________________________________________________________________________\n",
            "batch_normalization_33 (BatchNo (None, 17, 17, 192)  576         conv2d_36[0][0]                  \n",
            "__________________________________________________________________________________________________\n",
            "batch_normalization_38 (BatchNo (None, 17, 17, 192)  576         conv2d_41[0][0]                  \n",
            "__________________________________________________________________________________________________\n",
            "batch_normalization_39 (BatchNo (None, 17, 17, 192)  576         conv2d_42[0][0]                  \n",
            "__________________________________________________________________________________________________\n",
            "activation_30 (Activation)      (None, 17, 17, 192)  0           batch_normalization_30[0][0]     \n",
            "__________________________________________________________________________________________________\n",
            "activation_33 (Activation)      (None, 17, 17, 192)  0           batch_normalization_33[0][0]     \n",
            "__________________________________________________________________________________________________\n",
            "activation_38 (Activation)      (None, 17, 17, 192)  0           batch_normalization_38[0][0]     \n",
            "__________________________________________________________________________________________________\n",
            "activation_39 (Activation)      (None, 17, 17, 192)  0           batch_normalization_39[0][0]     \n",
            "__________________________________________________________________________________________________\n",
            "mixed4 (Concatenate)            (None, 17, 17, 768)  0           activation_30[0][0]              \n",
            "                                                                 activation_33[0][0]              \n",
            "                                                                 activation_38[0][0]              \n",
            "                                                                 activation_39[0][0]              \n",
            "__________________________________________________________________________________________________\n",
            "conv2d_47 (Conv2D)              (None, 17, 17, 160)  122880      mixed4[0][0]                     \n",
            "__________________________________________________________________________________________________\n",
            "batch_normalization_44 (BatchNo (None, 17, 17, 160)  480         conv2d_47[0][0]                  \n",
            "__________________________________________________________________________________________________\n",
            "activation_44 (Activation)      (None, 17, 17, 160)  0           batch_normalization_44[0][0]     \n",
            "__________________________________________________________________________________________________\n",
            "conv2d_48 (Conv2D)              (None, 17, 17, 160)  179200      activation_44[0][0]              \n",
            "__________________________________________________________________________________________________\n",
            "batch_normalization_45 (BatchNo (None, 17, 17, 160)  480         conv2d_48[0][0]                  \n",
            "__________________________________________________________________________________________________\n",
            "activation_45 (Activation)      (None, 17, 17, 160)  0           batch_normalization_45[0][0]     \n",
            "__________________________________________________________________________________________________\n",
            "conv2d_44 (Conv2D)              (None, 17, 17, 160)  122880      mixed4[0][0]                     \n",
            "__________________________________________________________________________________________________\n",
            "conv2d_49 (Conv2D)              (None, 17, 17, 160)  179200      activation_45[0][0]              \n",
            "__________________________________________________________________________________________________\n",
            "batch_normalization_41 (BatchNo (None, 17, 17, 160)  480         conv2d_44[0][0]                  \n",
            "__________________________________________________________________________________________________\n",
            "batch_normalization_46 (BatchNo (None, 17, 17, 160)  480         conv2d_49[0][0]                  \n",
            "__________________________________________________________________________________________________\n",
            "activation_41 (Activation)      (None, 17, 17, 160)  0           batch_normalization_41[0][0]     \n",
            "__________________________________________________________________________________________________\n",
            "activation_46 (Activation)      (None, 17, 17, 160)  0           batch_normalization_46[0][0]     \n",
            "__________________________________________________________________________________________________\n",
            "conv2d_45 (Conv2D)              (None, 17, 17, 160)  179200      activation_41[0][0]              \n",
            "__________________________________________________________________________________________________\n",
            "conv2d_50 (Conv2D)              (None, 17, 17, 160)  179200      activation_46[0][0]              \n",
            "__________________________________________________________________________________________________\n",
            "batch_normalization_42 (BatchNo (None, 17, 17, 160)  480         conv2d_45[0][0]                  \n",
            "__________________________________________________________________________________________________\n",
            "batch_normalization_47 (BatchNo (None, 17, 17, 160)  480         conv2d_50[0][0]                  \n",
            "__________________________________________________________________________________________________\n",
            "activation_42 (Activation)      (None, 17, 17, 160)  0           batch_normalization_42[0][0]     \n",
            "__________________________________________________________________________________________________\n",
            "activation_47 (Activation)      (None, 17, 17, 160)  0           batch_normalization_47[0][0]     \n",
            "__________________________________________________________________________________________________\n",
            "average_pooling2d_4 (AveragePoo (None, 17, 17, 768)  0           mixed4[0][0]                     \n",
            "__________________________________________________________________________________________________\n",
            "conv2d_43 (Conv2D)              (None, 17, 17, 192)  147456      mixed4[0][0]                     \n",
            "__________________________________________________________________________________________________\n",
            "conv2d_46 (Conv2D)              (None, 17, 17, 192)  215040      activation_42[0][0]              \n",
            "__________________________________________________________________________________________________\n",
            "conv2d_51 (Conv2D)              (None, 17, 17, 192)  215040      activation_47[0][0]              \n",
            "__________________________________________________________________________________________________\n",
            "conv2d_52 (Conv2D)              (None, 17, 17, 192)  147456      average_pooling2d_4[0][0]        \n",
            "__________________________________________________________________________________________________\n",
            "batch_normalization_40 (BatchNo (None, 17, 17, 192)  576         conv2d_43[0][0]                  \n",
            "__________________________________________________________________________________________________\n",
            "batch_normalization_43 (BatchNo (None, 17, 17, 192)  576         conv2d_46[0][0]                  \n",
            "__________________________________________________________________________________________________\n",
            "batch_normalization_48 (BatchNo (None, 17, 17, 192)  576         conv2d_51[0][0]                  \n",
            "__________________________________________________________________________________________________\n",
            "batch_normalization_49 (BatchNo (None, 17, 17, 192)  576         conv2d_52[0][0]                  \n",
            "__________________________________________________________________________________________________\n",
            "activation_40 (Activation)      (None, 17, 17, 192)  0           batch_normalization_40[0][0]     \n",
            "__________________________________________________________________________________________________\n",
            "activation_43 (Activation)      (None, 17, 17, 192)  0           batch_normalization_43[0][0]     \n",
            "__________________________________________________________________________________________________\n",
            "activation_48 (Activation)      (None, 17, 17, 192)  0           batch_normalization_48[0][0]     \n",
            "__________________________________________________________________________________________________\n",
            "activation_49 (Activation)      (None, 17, 17, 192)  0           batch_normalization_49[0][0]     \n",
            "__________________________________________________________________________________________________\n",
            "mixed5 (Concatenate)            (None, 17, 17, 768)  0           activation_40[0][0]              \n",
            "                                                                 activation_43[0][0]              \n",
            "                                                                 activation_48[0][0]              \n",
            "                                                                 activation_49[0][0]              \n",
            "__________________________________________________________________________________________________\n",
            "conv2d_57 (Conv2D)              (None, 17, 17, 160)  122880      mixed5[0][0]                     \n",
            "__________________________________________________________________________________________________\n",
            "batch_normalization_54 (BatchNo (None, 17, 17, 160)  480         conv2d_57[0][0]                  \n",
            "__________________________________________________________________________________________________\n",
            "activation_54 (Activation)      (None, 17, 17, 160)  0           batch_normalization_54[0][0]     \n",
            "__________________________________________________________________________________________________\n",
            "conv2d_58 (Conv2D)              (None, 17, 17, 160)  179200      activation_54[0][0]              \n",
            "__________________________________________________________________________________________________\n",
            "batch_normalization_55 (BatchNo (None, 17, 17, 160)  480         conv2d_58[0][0]                  \n",
            "__________________________________________________________________________________________________\n",
            "activation_55 (Activation)      (None, 17, 17, 160)  0           batch_normalization_55[0][0]     \n",
            "__________________________________________________________________________________________________\n",
            "conv2d_54 (Conv2D)              (None, 17, 17, 160)  122880      mixed5[0][0]                     \n",
            "__________________________________________________________________________________________________\n",
            "conv2d_59 (Conv2D)              (None, 17, 17, 160)  179200      activation_55[0][0]              \n",
            "__________________________________________________________________________________________________\n",
            "batch_normalization_51 (BatchNo (None, 17, 17, 160)  480         conv2d_54[0][0]                  \n",
            "__________________________________________________________________________________________________\n",
            "batch_normalization_56 (BatchNo (None, 17, 17, 160)  480         conv2d_59[0][0]                  \n",
            "__________________________________________________________________________________________________\n",
            "activation_51 (Activation)      (None, 17, 17, 160)  0           batch_normalization_51[0][0]     \n",
            "__________________________________________________________________________________________________\n",
            "activation_56 (Activation)      (None, 17, 17, 160)  0           batch_normalization_56[0][0]     \n",
            "__________________________________________________________________________________________________\n",
            "conv2d_55 (Conv2D)              (None, 17, 17, 160)  179200      activation_51[0][0]              \n",
            "__________________________________________________________________________________________________\n",
            "conv2d_60 (Conv2D)              (None, 17, 17, 160)  179200      activation_56[0][0]              \n",
            "__________________________________________________________________________________________________\n",
            "batch_normalization_52 (BatchNo (None, 17, 17, 160)  480         conv2d_55[0][0]                  \n",
            "__________________________________________________________________________________________________\n",
            "batch_normalization_57 (BatchNo (None, 17, 17, 160)  480         conv2d_60[0][0]                  \n",
            "__________________________________________________________________________________________________\n",
            "activation_52 (Activation)      (None, 17, 17, 160)  0           batch_normalization_52[0][0]     \n",
            "__________________________________________________________________________________________________\n",
            "activation_57 (Activation)      (None, 17, 17, 160)  0           batch_normalization_57[0][0]     \n",
            "__________________________________________________________________________________________________\n",
            "average_pooling2d_5 (AveragePoo (None, 17, 17, 768)  0           mixed5[0][0]                     \n",
            "__________________________________________________________________________________________________\n",
            "conv2d_53 (Conv2D)              (None, 17, 17, 192)  147456      mixed5[0][0]                     \n",
            "__________________________________________________________________________________________________\n",
            "conv2d_56 (Conv2D)              (None, 17, 17, 192)  215040      activation_52[0][0]              \n",
            "__________________________________________________________________________________________________\n",
            "conv2d_61 (Conv2D)              (None, 17, 17, 192)  215040      activation_57[0][0]              \n",
            "__________________________________________________________________________________________________\n",
            "conv2d_62 (Conv2D)              (None, 17, 17, 192)  147456      average_pooling2d_5[0][0]        \n",
            "__________________________________________________________________________________________________\n",
            "batch_normalization_50 (BatchNo (None, 17, 17, 192)  576         conv2d_53[0][0]                  \n",
            "__________________________________________________________________________________________________\n",
            "batch_normalization_53 (BatchNo (None, 17, 17, 192)  576         conv2d_56[0][0]                  \n",
            "__________________________________________________________________________________________________\n",
            "batch_normalization_58 (BatchNo (None, 17, 17, 192)  576         conv2d_61[0][0]                  \n",
            "__________________________________________________________________________________________________\n",
            "batch_normalization_59 (BatchNo (None, 17, 17, 192)  576         conv2d_62[0][0]                  \n",
            "__________________________________________________________________________________________________\n",
            "activation_50 (Activation)      (None, 17, 17, 192)  0           batch_normalization_50[0][0]     \n",
            "__________________________________________________________________________________________________\n",
            "activation_53 (Activation)      (None, 17, 17, 192)  0           batch_normalization_53[0][0]     \n",
            "__________________________________________________________________________________________________\n",
            "activation_58 (Activation)      (None, 17, 17, 192)  0           batch_normalization_58[0][0]     \n",
            "__________________________________________________________________________________________________\n",
            "activation_59 (Activation)      (None, 17, 17, 192)  0           batch_normalization_59[0][0]     \n",
            "__________________________________________________________________________________________________\n",
            "mixed6 (Concatenate)            (None, 17, 17, 768)  0           activation_50[0][0]              \n",
            "                                                                 activation_53[0][0]              \n",
            "                                                                 activation_58[0][0]              \n",
            "                                                                 activation_59[0][0]              \n",
            "__________________________________________________________________________________________________\n",
            "conv2d_67 (Conv2D)              (None, 17, 17, 192)  147456      mixed6[0][0]                     \n",
            "__________________________________________________________________________________________________\n",
            "batch_normalization_64 (BatchNo (None, 17, 17, 192)  576         conv2d_67[0][0]                  \n",
            "__________________________________________________________________________________________________\n",
            "activation_64 (Activation)      (None, 17, 17, 192)  0           batch_normalization_64[0][0]     \n",
            "__________________________________________________________________________________________________\n",
            "conv2d_68 (Conv2D)              (None, 17, 17, 192)  258048      activation_64[0][0]              \n",
            "__________________________________________________________________________________________________\n",
            "batch_normalization_65 (BatchNo (None, 17, 17, 192)  576         conv2d_68[0][0]                  \n",
            "__________________________________________________________________________________________________\n",
            "activation_65 (Activation)      (None, 17, 17, 192)  0           batch_normalization_65[0][0]     \n",
            "__________________________________________________________________________________________________\n",
            "conv2d_64 (Conv2D)              (None, 17, 17, 192)  147456      mixed6[0][0]                     \n",
            "__________________________________________________________________________________________________\n",
            "conv2d_69 (Conv2D)              (None, 17, 17, 192)  258048      activation_65[0][0]              \n",
            "__________________________________________________________________________________________________\n",
            "batch_normalization_61 (BatchNo (None, 17, 17, 192)  576         conv2d_64[0][0]                  \n",
            "__________________________________________________________________________________________________\n",
            "batch_normalization_66 (BatchNo (None, 17, 17, 192)  576         conv2d_69[0][0]                  \n",
            "__________________________________________________________________________________________________\n",
            "activation_61 (Activation)      (None, 17, 17, 192)  0           batch_normalization_61[0][0]     \n",
            "__________________________________________________________________________________________________\n",
            "activation_66 (Activation)      (None, 17, 17, 192)  0           batch_normalization_66[0][0]     \n",
            "__________________________________________________________________________________________________\n",
            "conv2d_65 (Conv2D)              (None, 17, 17, 192)  258048      activation_61[0][0]              \n",
            "__________________________________________________________________________________________________\n",
            "conv2d_70 (Conv2D)              (None, 17, 17, 192)  258048      activation_66[0][0]              \n",
            "__________________________________________________________________________________________________\n",
            "batch_normalization_62 (BatchNo (None, 17, 17, 192)  576         conv2d_65[0][0]                  \n",
            "__________________________________________________________________________________________________\n",
            "batch_normalization_67 (BatchNo (None, 17, 17, 192)  576         conv2d_70[0][0]                  \n",
            "__________________________________________________________________________________________________\n",
            "activation_62 (Activation)      (None, 17, 17, 192)  0           batch_normalization_62[0][0]     \n",
            "__________________________________________________________________________________________________\n",
            "activation_67 (Activation)      (None, 17, 17, 192)  0           batch_normalization_67[0][0]     \n",
            "__________________________________________________________________________________________________\n",
            "average_pooling2d_6 (AveragePoo (None, 17, 17, 768)  0           mixed6[0][0]                     \n",
            "__________________________________________________________________________________________________\n",
            "conv2d_63 (Conv2D)              (None, 17, 17, 192)  147456      mixed6[0][0]                     \n",
            "__________________________________________________________________________________________________\n",
            "conv2d_66 (Conv2D)              (None, 17, 17, 192)  258048      activation_62[0][0]              \n",
            "__________________________________________________________________________________________________\n",
            "conv2d_71 (Conv2D)              (None, 17, 17, 192)  258048      activation_67[0][0]              \n",
            "__________________________________________________________________________________________________\n",
            "conv2d_72 (Conv2D)              (None, 17, 17, 192)  147456      average_pooling2d_6[0][0]        \n",
            "__________________________________________________________________________________________________\n",
            "batch_normalization_60 (BatchNo (None, 17, 17, 192)  576         conv2d_63[0][0]                  \n",
            "__________________________________________________________________________________________________\n",
            "batch_normalization_63 (BatchNo (None, 17, 17, 192)  576         conv2d_66[0][0]                  \n",
            "__________________________________________________________________________________________________\n",
            "batch_normalization_68 (BatchNo (None, 17, 17, 192)  576         conv2d_71[0][0]                  \n",
            "__________________________________________________________________________________________________\n",
            "batch_normalization_69 (BatchNo (None, 17, 17, 192)  576         conv2d_72[0][0]                  \n",
            "__________________________________________________________________________________________________\n",
            "activation_60 (Activation)      (None, 17, 17, 192)  0           batch_normalization_60[0][0]     \n",
            "__________________________________________________________________________________________________\n",
            "activation_63 (Activation)      (None, 17, 17, 192)  0           batch_normalization_63[0][0]     \n",
            "__________________________________________________________________________________________________\n",
            "activation_68 (Activation)      (None, 17, 17, 192)  0           batch_normalization_68[0][0]     \n",
            "__________________________________________________________________________________________________\n",
            "activation_69 (Activation)      (None, 17, 17, 192)  0           batch_normalization_69[0][0]     \n",
            "__________________________________________________________________________________________________\n",
            "mixed7 (Concatenate)            (None, 17, 17, 768)  0           activation_60[0][0]              \n",
            "                                                                 activation_63[0][0]              \n",
            "                                                                 activation_68[0][0]              \n",
            "                                                                 activation_69[0][0]              \n",
            "__________________________________________________________________________________________________\n",
            "conv2d_75 (Conv2D)              (None, 17, 17, 192)  147456      mixed7[0][0]                     \n",
            "__________________________________________________________________________________________________\n",
            "batch_normalization_72 (BatchNo (None, 17, 17, 192)  576         conv2d_75[0][0]                  \n",
            "__________________________________________________________________________________________________\n",
            "activation_72 (Activation)      (None, 17, 17, 192)  0           batch_normalization_72[0][0]     \n",
            "__________________________________________________________________________________________________\n",
            "conv2d_76 (Conv2D)              (None, 17, 17, 192)  258048      activation_72[0][0]              \n",
            "__________________________________________________________________________________________________\n",
            "batch_normalization_73 (BatchNo (None, 17, 17, 192)  576         conv2d_76[0][0]                  \n",
            "__________________________________________________________________________________________________\n",
            "activation_73 (Activation)      (None, 17, 17, 192)  0           batch_normalization_73[0][0]     \n",
            "__________________________________________________________________________________________________\n",
            "conv2d_73 (Conv2D)              (None, 17, 17, 192)  147456      mixed7[0][0]                     \n",
            "__________________________________________________________________________________________________\n",
            "conv2d_77 (Conv2D)              (None, 17, 17, 192)  258048      activation_73[0][0]              \n",
            "__________________________________________________________________________________________________\n",
            "batch_normalization_70 (BatchNo (None, 17, 17, 192)  576         conv2d_73[0][0]                  \n",
            "__________________________________________________________________________________________________\n",
            "batch_normalization_74 (BatchNo (None, 17, 17, 192)  576         conv2d_77[0][0]                  \n",
            "__________________________________________________________________________________________________\n",
            "activation_70 (Activation)      (None, 17, 17, 192)  0           batch_normalization_70[0][0]     \n",
            "__________________________________________________________________________________________________\n",
            "activation_74 (Activation)      (None, 17, 17, 192)  0           batch_normalization_74[0][0]     \n",
            "__________________________________________________________________________________________________\n",
            "conv2d_74 (Conv2D)              (None, 8, 8, 320)    552960      activation_70[0][0]              \n",
            "__________________________________________________________________________________________________\n",
            "conv2d_78 (Conv2D)              (None, 8, 8, 192)    331776      activation_74[0][0]              \n",
            "__________________________________________________________________________________________________\n",
            "batch_normalization_71 (BatchNo (None, 8, 8, 320)    960         conv2d_74[0][0]                  \n",
            "__________________________________________________________________________________________________\n",
            "batch_normalization_75 (BatchNo (None, 8, 8, 192)    576         conv2d_78[0][0]                  \n",
            "__________________________________________________________________________________________________\n",
            "activation_71 (Activation)      (None, 8, 8, 320)    0           batch_normalization_71[0][0]     \n",
            "__________________________________________________________________________________________________\n",
            "activation_75 (Activation)      (None, 8, 8, 192)    0           batch_normalization_75[0][0]     \n",
            "__________________________________________________________________________________________________\n",
            "max_pooling2d_6 (MaxPooling2D)  (None, 8, 8, 768)    0           mixed7[0][0]                     \n",
            "__________________________________________________________________________________________________\n",
            "mixed8 (Concatenate)            (None, 8, 8, 1280)   0           activation_71[0][0]              \n",
            "                                                                 activation_75[0][0]              \n",
            "                                                                 max_pooling2d_6[0][0]            \n",
            "__________________________________________________________________________________________________\n",
            "conv2d_83 (Conv2D)              (None, 8, 8, 448)    573440      mixed8[0][0]                     \n",
            "__________________________________________________________________________________________________\n",
            "batch_normalization_80 (BatchNo (None, 8, 8, 448)    1344        conv2d_83[0][0]                  \n",
            "__________________________________________________________________________________________________\n",
            "activation_80 (Activation)      (None, 8, 8, 448)    0           batch_normalization_80[0][0]     \n",
            "__________________________________________________________________________________________________\n",
            "conv2d_80 (Conv2D)              (None, 8, 8, 384)    491520      mixed8[0][0]                     \n",
            "__________________________________________________________________________________________________\n",
            "conv2d_84 (Conv2D)              (None, 8, 8, 384)    1548288     activation_80[0][0]              \n",
            "__________________________________________________________________________________________________\n",
            "batch_normalization_77 (BatchNo (None, 8, 8, 384)    1152        conv2d_80[0][0]                  \n",
            "__________________________________________________________________________________________________\n",
            "batch_normalization_81 (BatchNo (None, 8, 8, 384)    1152        conv2d_84[0][0]                  \n",
            "__________________________________________________________________________________________________\n",
            "activation_77 (Activation)      (None, 8, 8, 384)    0           batch_normalization_77[0][0]     \n",
            "__________________________________________________________________________________________________\n",
            "activation_81 (Activation)      (None, 8, 8, 384)    0           batch_normalization_81[0][0]     \n",
            "__________________________________________________________________________________________________\n",
            "conv2d_81 (Conv2D)              (None, 8, 8, 384)    442368      activation_77[0][0]              \n",
            "__________________________________________________________________________________________________\n",
            "conv2d_82 (Conv2D)              (None, 8, 8, 384)    442368      activation_77[0][0]              \n",
            "__________________________________________________________________________________________________\n",
            "conv2d_85 (Conv2D)              (None, 8, 8, 384)    442368      activation_81[0][0]              \n",
            "__________________________________________________________________________________________________\n",
            "conv2d_86 (Conv2D)              (None, 8, 8, 384)    442368      activation_81[0][0]              \n",
            "__________________________________________________________________________________________________\n",
            "average_pooling2d_7 (AveragePoo (None, 8, 8, 1280)   0           mixed8[0][0]                     \n",
            "__________________________________________________________________________________________________\n",
            "conv2d_79 (Conv2D)              (None, 8, 8, 320)    409600      mixed8[0][0]                     \n",
            "__________________________________________________________________________________________________\n",
            "batch_normalization_78 (BatchNo (None, 8, 8, 384)    1152        conv2d_81[0][0]                  \n",
            "__________________________________________________________________________________________________\n",
            "batch_normalization_79 (BatchNo (None, 8, 8, 384)    1152        conv2d_82[0][0]                  \n",
            "__________________________________________________________________________________________________\n",
            "batch_normalization_82 (BatchNo (None, 8, 8, 384)    1152        conv2d_85[0][0]                  \n",
            "__________________________________________________________________________________________________\n",
            "batch_normalization_83 (BatchNo (None, 8, 8, 384)    1152        conv2d_86[0][0]                  \n",
            "__________________________________________________________________________________________________\n",
            "conv2d_87 (Conv2D)              (None, 8, 8, 192)    245760      average_pooling2d_7[0][0]        \n",
            "__________________________________________________________________________________________________\n",
            "batch_normalization_76 (BatchNo (None, 8, 8, 320)    960         conv2d_79[0][0]                  \n",
            "__________________________________________________________________________________________________\n",
            "activation_78 (Activation)      (None, 8, 8, 384)    0           batch_normalization_78[0][0]     \n",
            "__________________________________________________________________________________________________\n",
            "activation_79 (Activation)      (None, 8, 8, 384)    0           batch_normalization_79[0][0]     \n",
            "__________________________________________________________________________________________________\n",
            "activation_82 (Activation)      (None, 8, 8, 384)    0           batch_normalization_82[0][0]     \n",
            "__________________________________________________________________________________________________\n",
            "activation_83 (Activation)      (None, 8, 8, 384)    0           batch_normalization_83[0][0]     \n",
            "__________________________________________________________________________________________________\n",
            "batch_normalization_84 (BatchNo (None, 8, 8, 192)    576         conv2d_87[0][0]                  \n",
            "__________________________________________________________________________________________________\n",
            "activation_76 (Activation)      (None, 8, 8, 320)    0           batch_normalization_76[0][0]     \n",
            "__________________________________________________________________________________________________\n",
            "mixed9_0 (Concatenate)          (None, 8, 8, 768)    0           activation_78[0][0]              \n",
            "                                                                 activation_79[0][0]              \n",
            "__________________________________________________________________________________________________\n",
            "concatenate (Concatenate)       (None, 8, 8, 768)    0           activation_82[0][0]              \n",
            "                                                                 activation_83[0][0]              \n",
            "__________________________________________________________________________________________________\n",
            "activation_84 (Activation)      (None, 8, 8, 192)    0           batch_normalization_84[0][0]     \n",
            "__________________________________________________________________________________________________\n",
            "mixed9 (Concatenate)            (None, 8, 8, 2048)   0           activation_76[0][0]              \n",
            "                                                                 mixed9_0[0][0]                   \n",
            "                                                                 concatenate[0][0]                \n",
            "                                                                 activation_84[0][0]              \n",
            "__________________________________________________________________________________________________\n",
            "conv2d_92 (Conv2D)              (None, 8, 8, 448)    917504      mixed9[0][0]                     \n",
            "__________________________________________________________________________________________________\n",
            "batch_normalization_89 (BatchNo (None, 8, 8, 448)    1344        conv2d_92[0][0]                  \n",
            "__________________________________________________________________________________________________\n",
            "activation_89 (Activation)      (None, 8, 8, 448)    0           batch_normalization_89[0][0]     \n",
            "__________________________________________________________________________________________________\n",
            "conv2d_89 (Conv2D)              (None, 8, 8, 384)    786432      mixed9[0][0]                     \n",
            "__________________________________________________________________________________________________\n",
            "conv2d_93 (Conv2D)              (None, 8, 8, 384)    1548288     activation_89[0][0]              \n",
            "__________________________________________________________________________________________________\n",
            "batch_normalization_86 (BatchNo (None, 8, 8, 384)    1152        conv2d_89[0][0]                  \n",
            "__________________________________________________________________________________________________\n",
            "batch_normalization_90 (BatchNo (None, 8, 8, 384)    1152        conv2d_93[0][0]                  \n",
            "__________________________________________________________________________________________________\n",
            "activation_86 (Activation)      (None, 8, 8, 384)    0           batch_normalization_86[0][0]     \n",
            "__________________________________________________________________________________________________\n",
            "activation_90 (Activation)      (None, 8, 8, 384)    0           batch_normalization_90[0][0]     \n",
            "__________________________________________________________________________________________________\n",
            "conv2d_90 (Conv2D)              (None, 8, 8, 384)    442368      activation_86[0][0]              \n",
            "__________________________________________________________________________________________________\n",
            "conv2d_91 (Conv2D)              (None, 8, 8, 384)    442368      activation_86[0][0]              \n",
            "__________________________________________________________________________________________________\n",
            "conv2d_94 (Conv2D)              (None, 8, 8, 384)    442368      activation_90[0][0]              \n",
            "__________________________________________________________________________________________________\n",
            "conv2d_95 (Conv2D)              (None, 8, 8, 384)    442368      activation_90[0][0]              \n",
            "__________________________________________________________________________________________________\n",
            "average_pooling2d_8 (AveragePoo (None, 8, 8, 2048)   0           mixed9[0][0]                     \n",
            "__________________________________________________________________________________________________\n",
            "conv2d_88 (Conv2D)              (None, 8, 8, 320)    655360      mixed9[0][0]                     \n",
            "__________________________________________________________________________________________________\n",
            "batch_normalization_87 (BatchNo (None, 8, 8, 384)    1152        conv2d_90[0][0]                  \n",
            "__________________________________________________________________________________________________\n",
            "batch_normalization_88 (BatchNo (None, 8, 8, 384)    1152        conv2d_91[0][0]                  \n",
            "__________________________________________________________________________________________________\n",
            "batch_normalization_91 (BatchNo (None, 8, 8, 384)    1152        conv2d_94[0][0]                  \n",
            "__________________________________________________________________________________________________\n",
            "batch_normalization_92 (BatchNo (None, 8, 8, 384)    1152        conv2d_95[0][0]                  \n",
            "__________________________________________________________________________________________________\n",
            "conv2d_96 (Conv2D)              (None, 8, 8, 192)    393216      average_pooling2d_8[0][0]        \n",
            "__________________________________________________________________________________________________\n",
            "batch_normalization_85 (BatchNo (None, 8, 8, 320)    960         conv2d_88[0][0]                  \n",
            "__________________________________________________________________________________________________\n",
            "activation_87 (Activation)      (None, 8, 8, 384)    0           batch_normalization_87[0][0]     \n",
            "__________________________________________________________________________________________________\n",
            "activation_88 (Activation)      (None, 8, 8, 384)    0           batch_normalization_88[0][0]     \n",
            "__________________________________________________________________________________________________\n",
            "activation_91 (Activation)      (None, 8, 8, 384)    0           batch_normalization_91[0][0]     \n",
            "__________________________________________________________________________________________________\n",
            "activation_92 (Activation)      (None, 8, 8, 384)    0           batch_normalization_92[0][0]     \n",
            "__________________________________________________________________________________________________\n",
            "batch_normalization_93 (BatchNo (None, 8, 8, 192)    576         conv2d_96[0][0]                  \n",
            "__________________________________________________________________________________________________\n",
            "activation_85 (Activation)      (None, 8, 8, 320)    0           batch_normalization_85[0][0]     \n",
            "__________________________________________________________________________________________________\n",
            "mixed9_1 (Concatenate)          (None, 8, 8, 768)    0           activation_87[0][0]              \n",
            "                                                                 activation_88[0][0]              \n",
            "__________________________________________________________________________________________________\n",
            "concatenate_1 (Concatenate)     (None, 8, 8, 768)    0           activation_91[0][0]              \n",
            "                                                                 activation_92[0][0]              \n",
            "__________________________________________________________________________________________________\n",
            "activation_93 (Activation)      (None, 8, 8, 192)    0           batch_normalization_93[0][0]     \n",
            "__________________________________________________________________________________________________\n",
            "mixed10 (Concatenate)           (None, 8, 8, 2048)   0           activation_85[0][0]              \n",
            "                                                                 mixed9_1[0][0]                   \n",
            "                                                                 concatenate_1[0][0]              \n",
            "                                                                 activation_93[0][0]              \n",
            "==================================================================================================\n",
            "Total params: 21,802,784\n",
            "Trainable params: 0\n",
            "Non-trainable params: 21,802,784\n",
            "__________________________________________________________________________________________________\n"
          ],
          "name": "stdout"
        }
      ]
    },
    {
      "cell_type": "code",
      "metadata": {
        "colab_type": "code",
        "id": "ksmDCDjdGFXE",
        "colab": {
          "base_uri": "https://localhost:8080/",
          "height": 34
        },
        "outputId": "75515fd9-dcb4-4494-93c2-8f16c328b7c8"
      },
      "source": [
        "last_output=incept_model.output\n",
        "print('last layer output shape: ', incept_model.output_shape)"
      ],
      "execution_count": null,
      "outputs": [
        {
          "output_type": "stream",
          "text": [
            "last layer output shape:  (None, 8, 8, 2048)\n"
          ],
          "name": "stdout"
        }
      ]
    },
    {
      "cell_type": "code",
      "metadata": {
        "colab_type": "code",
        "id": "ceKy2Hm0GfwT",
        "colab": {
          "base_uri": "https://localhost:8080/",
          "height": 34
        },
        "outputId": "67d1486d-b301-4689-dcd7-c8151bc3e6e4"
      },
      "source": [
        "# Flatten the output layer to 1 dimension\n",
        "x = layers.Flatten()(last_output)\n",
        "x = layers.Dense(512, activation='relu')(x)\n",
        "x = layers.Dropout(0.1)(x)                  \n",
        "x = layers.Dense(1, activation='sigmoid')(x)           \n",
        "\n",
        "model = Model(incept_model.input, x) \n",
        "model.summary"
      ],
      "execution_count": null,
      "outputs": [
        {
          "output_type": "execute_result",
          "data": {
            "text/plain": [
              "<bound method Network.summary of <tensorflow.python.keras.engine.training.Model object at 0x7fc1d07bda58>>"
            ]
          },
          "metadata": {
            "tags": []
          },
          "execution_count": 33
        }
      ]
    },
    {
      "cell_type": "code",
      "metadata": {
        "colab_type": "code",
        "id": "CLIC_Mn6Glg5",
        "colab": {}
      },
      "source": [
        "model.compile(optimizer = 'adam', \n",
        "              loss = 'binary_crossentropy', \n",
        "              metrics = ['accuracy',Precision(),Recall()])"
      ],
      "execution_count": null,
      "outputs": []
    },
    {
      "cell_type": "code",
      "metadata": {
        "colab_type": "code",
        "id": "Y4rNpTMYGox6",
        "colab": {
          "base_uri": "https://localhost:8080/",
          "height": 1000
        },
        "outputId": "f9bbf47b-cb80-4010-b0bf-9f7aa96c94fe"
      },
      "source": [
        "# Fit the model\n",
        "history = model.fit(train_generator,\n",
        "                              epochs=100,\n",
        "                              verbose=1,\n",
        "                              validation_data=validation_generator)"
      ],
      "execution_count": null,
      "outputs": [
        {
          "output_type": "stream",
          "text": [
            "Epoch 1/100\n",
            "33/33 [==============================] - 9s 275ms/step - loss: 12.7780 - accuracy: 0.8230 - precision_2: 0.9007 - recall_2: 0.8975 - val_loss: 2.1717 - val_accuracy: 0.8769 - val_precision_2: 0.9298 - val_recall_2: 0.9298\n",
            "Epoch 2/100\n",
            "33/33 [==============================] - 6s 196ms/step - loss: 0.7338 - accuracy: 0.9565 - precision_2: 0.9753 - recall_2: 0.9753 - val_loss: 4.2662 - val_accuracy: 0.9077 - val_precision_2: 0.9048 - val_recall_2: 1.0000\n",
            "Epoch 3/100\n",
            "33/33 [==============================] - 6s 197ms/step - loss: 0.6972 - accuracy: 0.9720 - precision_2: 0.9858 - recall_2: 0.9823 - val_loss: 6.3558 - val_accuracy: 0.8846 - val_precision_2: 0.8837 - val_recall_2: 1.0000\n",
            "Epoch 4/100\n",
            "33/33 [==============================] - 7s 197ms/step - loss: 0.1019 - accuracy: 0.9814 - precision_2: 0.9894 - recall_2: 0.9894 - val_loss: 7.5381 - val_accuracy: 0.8769 - val_precision_2: 0.8769 - val_recall_2: 1.0000\n",
            "Epoch 5/100\n",
            "33/33 [==============================] - 7s 197ms/step - loss: 0.2466 - accuracy: 0.9845 - precision_2: 0.9894 - recall_2: 0.9929 - val_loss: 2.6856 - val_accuracy: 0.9077 - val_precision_2: 0.9113 - val_recall_2: 0.9912\n",
            "Epoch 6/100\n",
            "33/33 [==============================] - 7s 198ms/step - loss: 0.0932 - accuracy: 0.9938 - precision_2: 0.9965 - recall_2: 0.9965 - val_loss: 3.6172 - val_accuracy: 0.9000 - val_precision_2: 0.8976 - val_recall_2: 1.0000\n",
            "Epoch 7/100\n",
            "33/33 [==============================] - 7s 197ms/step - loss: 0.0047 - accuracy: 0.9969 - precision_2: 0.9965 - recall_2: 1.0000 - val_loss: 3.6804 - val_accuracy: 0.8923 - val_precision_2: 0.9032 - val_recall_2: 0.9825\n",
            "Epoch 8/100\n",
            "33/33 [==============================] - 7s 197ms/step - loss: 0.5272 - accuracy: 0.9720 - precision_2: 0.9858 - recall_2: 0.9823 - val_loss: 3.3438 - val_accuracy: 0.9000 - val_precision_2: 0.9174 - val_recall_2: 0.9737\n",
            "Epoch 9/100\n",
            "33/33 [==============================] - 7s 198ms/step - loss: 0.2325 - accuracy: 0.9876 - precision_2: 0.9929 - recall_2: 0.9929 - val_loss: 5.3960 - val_accuracy: 0.9077 - val_precision_2: 0.9048 - val_recall_2: 1.0000\n",
            "Epoch 10/100\n",
            "33/33 [==============================] - 7s 198ms/step - loss: 0.1876 - accuracy: 0.9907 - precision_2: 0.9930 - recall_2: 0.9965 - val_loss: 3.9798 - val_accuracy: 0.9154 - val_precision_2: 0.9120 - val_recall_2: 1.0000\n",
            "Epoch 11/100\n",
            "33/33 [==============================] - 6s 197ms/step - loss: 0.1679 - accuracy: 0.9907 - precision_2: 0.9965 - recall_2: 0.9929 - val_loss: 7.0413 - val_accuracy: 0.8923 - val_precision_2: 0.8906 - val_recall_2: 1.0000\n",
            "Epoch 12/100\n",
            "33/33 [==============================] - 7s 197ms/step - loss: 0.1136 - accuracy: 0.9907 - precision_2: 0.9930 - recall_2: 0.9965 - val_loss: 3.5532 - val_accuracy: 0.9231 - val_precision_2: 0.9194 - val_recall_2: 1.0000\n",
            "Epoch 13/100\n",
            "33/33 [==============================] - 6s 196ms/step - loss: 0.0106 - accuracy: 0.9938 - precision_2: 0.9965 - recall_2: 0.9965 - val_loss: 6.5064 - val_accuracy: 0.9000 - val_precision_2: 0.8976 - val_recall_2: 1.0000\n",
            "Epoch 14/100\n",
            "33/33 [==============================] - 6s 197ms/step - loss: 0.0676 - accuracy: 0.9938 - precision_2: 0.9965 - recall_2: 0.9965 - val_loss: 8.6299 - val_accuracy: 0.8923 - val_precision_2: 0.8906 - val_recall_2: 1.0000\n",
            "Epoch 15/100\n",
            "33/33 [==============================] - 7s 198ms/step - loss: 0.1402 - accuracy: 0.9938 - precision_2: 0.9965 - recall_2: 0.9965 - val_loss: 3.4692 - val_accuracy: 0.9231 - val_precision_2: 0.9333 - val_recall_2: 0.9825\n",
            "Epoch 16/100\n",
            "33/33 [==============================] - 6s 196ms/step - loss: 0.0679 - accuracy: 0.9969 - precision_2: 0.9965 - recall_2: 1.0000 - val_loss: 4.6070 - val_accuracy: 0.9154 - val_precision_2: 0.9187 - val_recall_2: 0.9912\n",
            "Epoch 17/100\n",
            "33/33 [==============================] - 7s 197ms/step - loss: 4.0265e-07 - accuracy: 1.0000 - precision_2: 1.0000 - recall_2: 1.0000 - val_loss: 3.8924 - val_accuracy: 0.9231 - val_precision_2: 0.9262 - val_recall_2: 0.9912\n",
            "Epoch 18/100\n",
            "33/33 [==============================] - 7s 199ms/step - loss: 7.7012e-05 - accuracy: 1.0000 - precision_2: 1.0000 - recall_2: 1.0000 - val_loss: 3.9745 - val_accuracy: 0.9231 - val_precision_2: 0.9262 - val_recall_2: 0.9912\n",
            "Epoch 19/100\n",
            "33/33 [==============================] - 7s 198ms/step - loss: 2.4539e-09 - accuracy: 1.0000 - precision_2: 1.0000 - recall_2: 1.0000 - val_loss: 3.9795 - val_accuracy: 0.9231 - val_precision_2: 0.9262 - val_recall_2: 0.9912\n",
            "Epoch 20/100\n",
            "33/33 [==============================] - 6s 197ms/step - loss: 6.8423e-06 - accuracy: 1.0000 - precision_2: 1.0000 - recall_2: 1.0000 - val_loss: 4.0003 - val_accuracy: 0.9231 - val_precision_2: 0.9262 - val_recall_2: 0.9912\n",
            "Epoch 21/100\n",
            "33/33 [==============================] - 6s 196ms/step - loss: 9.0434e-08 - accuracy: 1.0000 - precision_2: 1.0000 - recall_2: 1.0000 - val_loss: 4.0020 - val_accuracy: 0.9231 - val_precision_2: 0.9262 - val_recall_2: 0.9912\n",
            "Epoch 22/100\n",
            "33/33 [==============================] - 7s 198ms/step - loss: 1.6439e-04 - accuracy: 1.0000 - precision_2: 1.0000 - recall_2: 1.0000 - val_loss: 6.3605 - val_accuracy: 0.9000 - val_precision_2: 0.8976 - val_recall_2: 1.0000\n",
            "Epoch 23/100\n",
            "33/33 [==============================] - 6s 197ms/step - loss: 0.0142 - accuracy: 0.9969 - precision_2: 0.9965 - recall_2: 1.0000 - val_loss: 3.0006 - val_accuracy: 0.9154 - val_precision_2: 0.9402 - val_recall_2: 0.9649\n",
            "Epoch 24/100\n",
            "33/33 [==============================] - 7s 197ms/step - loss: 0.0205 - accuracy: 0.9969 - precision_2: 1.0000 - recall_2: 0.9965 - val_loss: 7.3076 - val_accuracy: 0.8846 - val_precision_2: 0.8837 - val_recall_2: 1.0000\n",
            "Epoch 25/100\n",
            "33/33 [==============================] - 6s 196ms/step - loss: 0.3021 - accuracy: 0.9845 - precision_2: 0.9929 - recall_2: 0.9894 - val_loss: 8.2569 - val_accuracy: 0.8846 - val_precision_2: 0.8837 - val_recall_2: 1.0000\n",
            "Epoch 26/100\n",
            "33/33 [==============================] - 6s 196ms/step - loss: 0.3863 - accuracy: 0.9876 - precision_2: 0.9895 - recall_2: 0.9965 - val_loss: 2.8366 - val_accuracy: 0.8692 - val_precision_2: 0.9619 - val_recall_2: 0.8860\n",
            "Epoch 27/100\n",
            "33/33 [==============================] - 7s 198ms/step - loss: 0.3887 - accuracy: 0.9845 - precision_2: 0.9929 - recall_2: 0.9894 - val_loss: 2.3379 - val_accuracy: 0.9308 - val_precision_2: 0.9412 - val_recall_2: 0.9825\n",
            "Epoch 28/100\n",
            "33/33 [==============================] - 7s 199ms/step - loss: 0.0571 - accuracy: 0.9876 - precision_2: 0.9929 - recall_2: 0.9929 - val_loss: 2.0884 - val_accuracy: 0.8769 - val_precision_2: 0.9623 - val_recall_2: 0.8947\n",
            "Epoch 29/100\n",
            "33/33 [==============================] - 7s 197ms/step - loss: 0.9224 - accuracy: 0.9627 - precision_2: 0.9754 - recall_2: 0.9823 - val_loss: 5.8834 - val_accuracy: 0.9077 - val_precision_2: 0.9048 - val_recall_2: 1.0000\n",
            "Epoch 30/100\n",
            "33/33 [==============================] - 6s 197ms/step - loss: 0.2187 - accuracy: 0.9845 - precision_2: 0.9929 - recall_2: 0.9894 - val_loss: 3.3613 - val_accuracy: 0.9308 - val_precision_2: 0.9412 - val_recall_2: 0.9825\n",
            "Epoch 31/100\n",
            "33/33 [==============================] - 7s 198ms/step - loss: 0.0664 - accuracy: 0.9907 - precision_2: 0.9965 - recall_2: 0.9929 - val_loss: 3.2354 - val_accuracy: 0.9385 - val_precision_2: 0.9492 - val_recall_2: 0.9825\n",
            "Epoch 32/100\n",
            "33/33 [==============================] - 7s 198ms/step - loss: 5.7981e-05 - accuracy: 1.0000 - precision_2: 1.0000 - recall_2: 1.0000 - val_loss: 5.4544 - val_accuracy: 0.9077 - val_precision_2: 0.9113 - val_recall_2: 0.9912\n",
            "Epoch 33/100\n",
            "33/33 [==============================] - 6s 197ms/step - loss: 0.0675 - accuracy: 0.9969 - precision_2: 0.9965 - recall_2: 1.0000 - val_loss: 3.0554 - val_accuracy: 0.9154 - val_precision_2: 0.9558 - val_recall_2: 0.9474\n",
            "Epoch 34/100\n",
            "33/33 [==============================] - 6s 196ms/step - loss: 0.0473 - accuracy: 0.9969 - precision_2: 1.0000 - recall_2: 0.9965 - val_loss: 5.9195 - val_accuracy: 0.9077 - val_precision_2: 0.9048 - val_recall_2: 1.0000\n",
            "Epoch 35/100\n",
            "33/33 [==============================] - 6s 197ms/step - loss: 0.2983 - accuracy: 0.9907 - precision_2: 0.9930 - recall_2: 0.9965 - val_loss: 3.5819 - val_accuracy: 0.8846 - val_precision_2: 0.9541 - val_recall_2: 0.9123\n",
            "Epoch 36/100\n",
            "33/33 [==============================] - 6s 197ms/step - loss: 0.1510 - accuracy: 0.9907 - precision_2: 0.9930 - recall_2: 0.9965 - val_loss: 3.0512 - val_accuracy: 0.9231 - val_precision_2: 0.9727 - val_recall_2: 0.9386\n",
            "Epoch 37/100\n",
            "33/33 [==============================] - 6s 197ms/step - loss: 0.0401 - accuracy: 0.9969 - precision_2: 1.0000 - recall_2: 0.9965 - val_loss: 5.8350 - val_accuracy: 0.9231 - val_precision_2: 0.9194 - val_recall_2: 1.0000\n",
            "Epoch 38/100\n",
            "33/33 [==============================] - 6s 197ms/step - loss: 0.0162 - accuracy: 0.9969 - precision_2: 0.9965 - recall_2: 1.0000 - val_loss: 3.7689 - val_accuracy: 0.9154 - val_precision_2: 0.9187 - val_recall_2: 0.9912\n",
            "Epoch 39/100\n",
            "33/33 [==============================] - 7s 197ms/step - loss: 0.1089 - accuracy: 0.9907 - precision_2: 0.9930 - recall_2: 0.9965 - val_loss: 5.5007 - val_accuracy: 0.9231 - val_precision_2: 0.9194 - val_recall_2: 1.0000\n",
            "Epoch 40/100\n",
            "33/33 [==============================] - 7s 197ms/step - loss: 0.0504 - accuracy: 0.9969 - precision_2: 1.0000 - recall_2: 0.9965 - val_loss: 5.1426 - val_accuracy: 0.9154 - val_precision_2: 0.9120 - val_recall_2: 1.0000\n",
            "Epoch 41/100\n",
            "33/33 [==============================] - 6s 197ms/step - loss: 4.0886e-12 - accuracy: 1.0000 - precision_2: 1.0000 - recall_2: 1.0000 - val_loss: 5.8369 - val_accuracy: 0.9154 - val_precision_2: 0.9120 - val_recall_2: 1.0000\n",
            "Epoch 42/100\n",
            "33/33 [==============================] - 7s 198ms/step - loss: 1.9059e-10 - accuracy: 1.0000 - precision_2: 1.0000 - recall_2: 1.0000 - val_loss: 5.8589 - val_accuracy: 0.9154 - val_precision_2: 0.9120 - val_recall_2: 1.0000\n",
            "Epoch 43/100\n",
            "33/33 [==============================] - 7s 197ms/step - loss: 0.0901 - accuracy: 0.9938 - precision_2: 0.9965 - recall_2: 0.9965 - val_loss: 4.8893 - val_accuracy: 0.9154 - val_precision_2: 0.9120 - val_recall_2: 1.0000\n",
            "Epoch 44/100\n",
            "33/33 [==============================] - 7s 198ms/step - loss: 0.0030 - accuracy: 0.9969 - precision_2: 1.0000 - recall_2: 0.9965 - val_loss: 7.6862 - val_accuracy: 0.9000 - val_precision_2: 0.8976 - val_recall_2: 1.0000\n",
            "Epoch 45/100\n",
            "33/33 [==============================] - 7s 198ms/step - loss: 0.0067 - accuracy: 0.9969 - precision_2: 0.9965 - recall_2: 1.0000 - val_loss: 3.1443 - val_accuracy: 0.9231 - val_precision_2: 0.9561 - val_recall_2: 0.9561\n",
            "Epoch 46/100\n",
            "33/33 [==============================] - 7s 197ms/step - loss: 0.0652 - accuracy: 0.9969 - precision_2: 1.0000 - recall_2: 0.9965 - val_loss: 7.7744 - val_accuracy: 0.9000 - val_precision_2: 0.8976 - val_recall_2: 1.0000\n",
            "Epoch 47/100\n",
            "33/33 [==============================] - 7s 198ms/step - loss: 0.1210 - accuracy: 0.9969 - precision_2: 0.9965 - recall_2: 1.0000 - val_loss: 3.1703 - val_accuracy: 0.9308 - val_precision_2: 0.9487 - val_recall_2: 0.9737\n",
            "Epoch 48/100\n",
            "33/33 [==============================] - 6s 197ms/step - loss: 0.0454 - accuracy: 0.9969 - precision_2: 1.0000 - recall_2: 0.9965 - val_loss: 10.3872 - val_accuracy: 0.8923 - val_precision_2: 0.8906 - val_recall_2: 1.0000\n",
            "Epoch 49/100\n",
            "33/33 [==============================] - 7s 197ms/step - loss: 7.2087e-07 - accuracy: 1.0000 - precision_2: 1.0000 - recall_2: 1.0000 - val_loss: 11.1483 - val_accuracy: 0.8846 - val_precision_2: 0.8837 - val_recall_2: 1.0000\n",
            "Epoch 50/100\n",
            "33/33 [==============================] - 7s 198ms/step - loss: 0.0015 - accuracy: 1.0000 - precision_2: 1.0000 - recall_2: 1.0000 - val_loss: 5.8925 - val_accuracy: 0.9231 - val_precision_2: 0.9194 - val_recall_2: 1.0000\n",
            "Epoch 51/100\n",
            "33/33 [==============================] - 7s 199ms/step - loss: 4.4780e-19 - accuracy: 1.0000 - precision_2: 1.0000 - recall_2: 1.0000 - val_loss: 4.9436 - val_accuracy: 0.9231 - val_precision_2: 0.9194 - val_recall_2: 1.0000\n",
            "Epoch 52/100\n",
            "33/33 [==============================] - 6s 196ms/step - loss: 1.1293e-20 - accuracy: 1.0000 - precision_2: 1.0000 - recall_2: 1.0000 - val_loss: 4.9137 - val_accuracy: 0.9231 - val_precision_2: 0.9194 - val_recall_2: 1.0000\n",
            "Epoch 53/100\n",
            "33/33 [==============================] - 6s 197ms/step - loss: 5.0597e-24 - accuracy: 1.0000 - precision_2: 1.0000 - recall_2: 1.0000 - val_loss: 4.9128 - val_accuracy: 0.9231 - val_precision_2: 0.9194 - val_recall_2: 1.0000\n",
            "Epoch 54/100\n",
            "33/33 [==============================] - 7s 198ms/step - loss: 7.6766e-29 - accuracy: 1.0000 - precision_2: 1.0000 - recall_2: 1.0000 - val_loss: 4.9128 - val_accuracy: 0.9231 - val_precision_2: 0.9194 - val_recall_2: 1.0000\n",
            "Epoch 55/100\n",
            "33/33 [==============================] - 7s 198ms/step - loss: 1.7361e-20 - accuracy: 1.0000 - precision_2: 1.0000 - recall_2: 1.0000 - val_loss: 4.9128 - val_accuracy: 0.9231 - val_precision_2: 0.9194 - val_recall_2: 1.0000\n",
            "Epoch 56/100\n",
            "33/33 [==============================] - 7s 198ms/step - loss: 6.5494e-25 - accuracy: 1.0000 - precision_2: 1.0000 - recall_2: 1.0000 - val_loss: 4.9128 - val_accuracy: 0.9231 - val_precision_2: 0.9194 - val_recall_2: 1.0000\n",
            "Epoch 57/100\n",
            "33/33 [==============================] - 7s 197ms/step - loss: 1.5309e-26 - accuracy: 1.0000 - precision_2: 1.0000 - recall_2: 1.0000 - val_loss: 4.9128 - val_accuracy: 0.9231 - val_precision_2: 0.9194 - val_recall_2: 1.0000\n",
            "Epoch 58/100\n",
            "33/33 [==============================] - 7s 197ms/step - loss: 5.4547e-12 - accuracy: 1.0000 - precision_2: 1.0000 - recall_2: 1.0000 - val_loss: 4.9128 - val_accuracy: 0.9231 - val_precision_2: 0.9194 - val_recall_2: 1.0000\n",
            "Epoch 59/100\n",
            "33/33 [==============================] - 7s 197ms/step - loss: 1.1531e-30 - accuracy: 1.0000 - precision_2: 1.0000 - recall_2: 1.0000 - val_loss: 4.9128 - val_accuracy: 0.9231 - val_precision_2: 0.9194 - val_recall_2: 1.0000\n",
            "Epoch 60/100\n",
            "33/33 [==============================] - 7s 197ms/step - loss: 5.2861e-24 - accuracy: 1.0000 - precision_2: 1.0000 - recall_2: 1.0000 - val_loss: 4.9128 - val_accuracy: 0.9231 - val_precision_2: 0.9194 - val_recall_2: 1.0000\n",
            "Epoch 61/100\n",
            "33/33 [==============================] - 7s 198ms/step - loss: 5.8469e-28 - accuracy: 1.0000 - precision_2: 1.0000 - recall_2: 1.0000 - val_loss: 4.9128 - val_accuracy: 0.9231 - val_precision_2: 0.9194 - val_recall_2: 1.0000\n",
            "Epoch 62/100\n",
            "33/33 [==============================] - 6s 196ms/step - loss: 3.3242e-30 - accuracy: 1.0000 - precision_2: 1.0000 - recall_2: 1.0000 - val_loss: 4.9128 - val_accuracy: 0.9231 - val_precision_2: 0.9194 - val_recall_2: 1.0000\n",
            "Epoch 63/100\n",
            "33/33 [==============================] - 6s 197ms/step - loss: 1.2897e-28 - accuracy: 1.0000 - precision_2: 1.0000 - recall_2: 1.0000 - val_loss: 4.9128 - val_accuracy: 0.9231 - val_precision_2: 0.9194 - val_recall_2: 1.0000\n",
            "Epoch 64/100\n",
            "33/33 [==============================] - 7s 197ms/step - loss: 1.2635e-30 - accuracy: 1.0000 - precision_2: 1.0000 - recall_2: 1.0000 - val_loss: 4.9128 - val_accuracy: 0.9231 - val_precision_2: 0.9194 - val_recall_2: 1.0000\n",
            "Epoch 65/100\n",
            "33/33 [==============================] - 7s 197ms/step - loss: 3.6673e-24 - accuracy: 1.0000 - precision_2: 1.0000 - recall_2: 1.0000 - val_loss: 4.9128 - val_accuracy: 0.9231 - val_precision_2: 0.9194 - val_recall_2: 1.0000\n",
            "Epoch 66/100\n",
            "33/33 [==============================] - 7s 197ms/step - loss: 7.5789e-22 - accuracy: 1.0000 - precision_2: 1.0000 - recall_2: 1.0000 - val_loss: 4.9128 - val_accuracy: 0.9231 - val_precision_2: 0.9194 - val_recall_2: 1.0000\n",
            "Epoch 67/100\n",
            "33/33 [==============================] - 7s 198ms/step - loss: 7.6657e-30 - accuracy: 1.0000 - precision_2: 1.0000 - recall_2: 1.0000 - val_loss: 4.9128 - val_accuracy: 0.9231 - val_precision_2: 0.9194 - val_recall_2: 1.0000\n",
            "Epoch 68/100\n",
            "33/33 [==============================] - 6s 195ms/step - loss: 2.0148e-29 - accuracy: 1.0000 - precision_2: 1.0000 - recall_2: 1.0000 - val_loss: 4.9128 - val_accuracy: 0.9231 - val_precision_2: 0.9194 - val_recall_2: 1.0000\n",
            "Epoch 69/100\n",
            "33/33 [==============================] - 6s 195ms/step - loss: 1.1302e-23 - accuracy: 1.0000 - precision_2: 1.0000 - recall_2: 1.0000 - val_loss: 4.9128 - val_accuracy: 0.9231 - val_precision_2: 0.9194 - val_recall_2: 1.0000\n",
            "Epoch 70/100\n",
            "33/33 [==============================] - 6s 197ms/step - loss: 5.5962e-19 - accuracy: 1.0000 - precision_2: 1.0000 - recall_2: 1.0000 - val_loss: 4.9128 - val_accuracy: 0.9231 - val_precision_2: 0.9194 - val_recall_2: 1.0000\n",
            "Epoch 71/100\n",
            "33/33 [==============================] - 6s 195ms/step - loss: 3.0541e-20 - accuracy: 1.0000 - precision_2: 1.0000 - recall_2: 1.0000 - val_loss: 4.9128 - val_accuracy: 0.9231 - val_precision_2: 0.9194 - val_recall_2: 1.0000\n",
            "Epoch 72/100\n",
            "33/33 [==============================] - 6s 196ms/step - loss: 6.6593e-23 - accuracy: 1.0000 - precision_2: 1.0000 - recall_2: 1.0000 - val_loss: 4.9128 - val_accuracy: 0.9231 - val_precision_2: 0.9194 - val_recall_2: 1.0000\n",
            "Epoch 73/100\n",
            "33/33 [==============================] - 7s 197ms/step - loss: 1.0282e-30 - accuracy: 1.0000 - precision_2: 1.0000 - recall_2: 1.0000 - val_loss: 4.9128 - val_accuracy: 0.9231 - val_precision_2: 0.9194 - val_recall_2: 1.0000\n",
            "Epoch 74/100\n",
            "33/33 [==============================] - 7s 199ms/step - loss: 1.2465e-28 - accuracy: 1.0000 - precision_2: 1.0000 - recall_2: 1.0000 - val_loss: 4.9128 - val_accuracy: 0.9231 - val_precision_2: 0.9194 - val_recall_2: 1.0000\n",
            "Epoch 75/100\n",
            "33/33 [==============================] - 7s 200ms/step - loss: 2.3826e-25 - accuracy: 1.0000 - precision_2: 1.0000 - recall_2: 1.0000 - val_loss: 4.9128 - val_accuracy: 0.9231 - val_precision_2: 0.9194 - val_recall_2: 1.0000\n",
            "Epoch 76/100\n",
            "33/33 [==============================] - 6s 197ms/step - loss: 1.2340e-23 - accuracy: 1.0000 - precision_2: 1.0000 - recall_2: 1.0000 - val_loss: 4.9128 - val_accuracy: 0.9231 - val_precision_2: 0.9194 - val_recall_2: 1.0000\n",
            "Epoch 77/100\n",
            "33/33 [==============================] - 7s 198ms/step - loss: 6.8574e-27 - accuracy: 1.0000 - precision_2: 1.0000 - recall_2: 1.0000 - val_loss: 4.9128 - val_accuracy: 0.9231 - val_precision_2: 0.9194 - val_recall_2: 1.0000\n",
            "Epoch 78/100\n",
            "33/33 [==============================] - 7s 197ms/step - loss: 2.3885e-08 - accuracy: 1.0000 - precision_2: 1.0000 - recall_2: 1.0000 - val_loss: 4.9127 - val_accuracy: 0.9231 - val_precision_2: 0.9194 - val_recall_2: 1.0000\n",
            "Epoch 79/100\n",
            "33/33 [==============================] - 7s 201ms/step - loss: 3.6329e-24 - accuracy: 1.0000 - precision_2: 1.0000 - recall_2: 1.0000 - val_loss: 4.9127 - val_accuracy: 0.9231 - val_precision_2: 0.9194 - val_recall_2: 1.0000\n",
            "Epoch 80/100\n",
            "33/33 [==============================] - 6s 196ms/step - loss: 5.9471e-32 - accuracy: 1.0000 - precision_2: 1.0000 - recall_2: 1.0000 - val_loss: 4.9127 - val_accuracy: 0.9231 - val_precision_2: 0.9194 - val_recall_2: 1.0000\n",
            "Epoch 81/100\n",
            "33/33 [==============================] - 7s 198ms/step - loss: 1.7476e-18 - accuracy: 1.0000 - precision_2: 1.0000 - recall_2: 1.0000 - val_loss: 4.9127 - val_accuracy: 0.9231 - val_precision_2: 0.9194 - val_recall_2: 1.0000\n",
            "Epoch 82/100\n",
            "33/33 [==============================] - 6s 197ms/step - loss: 4.7080e-22 - accuracy: 1.0000 - precision_2: 1.0000 - recall_2: 1.0000 - val_loss: 4.9127 - val_accuracy: 0.9231 - val_precision_2: 0.9194 - val_recall_2: 1.0000\n",
            "Epoch 83/100\n",
            "33/33 [==============================] - 7s 197ms/step - loss: 1.5133e-21 - accuracy: 1.0000 - precision_2: 1.0000 - recall_2: 1.0000 - val_loss: 4.9127 - val_accuracy: 0.9231 - val_precision_2: 0.9194 - val_recall_2: 1.0000\n",
            "Epoch 84/100\n",
            "33/33 [==============================] - 6s 197ms/step - loss: 4.1690e-24 - accuracy: 1.0000 - precision_2: 1.0000 - recall_2: 1.0000 - val_loss: 4.9127 - val_accuracy: 0.9231 - val_precision_2: 0.9194 - val_recall_2: 1.0000\n",
            "Epoch 85/100\n",
            "33/33 [==============================] - 6s 196ms/step - loss: 1.1036e-15 - accuracy: 1.0000 - precision_2: 1.0000 - recall_2: 1.0000 - val_loss: 4.9127 - val_accuracy: 0.9231 - val_precision_2: 0.9194 - val_recall_2: 1.0000\n",
            "Epoch 86/100\n",
            "33/33 [==============================] - 7s 198ms/step - loss: 4.4505e-27 - accuracy: 1.0000 - precision_2: 1.0000 - recall_2: 1.0000 - val_loss: 4.9127 - val_accuracy: 0.9231 - val_precision_2: 0.9194 - val_recall_2: 1.0000\n",
            "Epoch 87/100\n",
            "33/33 [==============================] - 7s 198ms/step - loss: 9.0027e-23 - accuracy: 1.0000 - precision_2: 1.0000 - recall_2: 1.0000 - val_loss: 4.9127 - val_accuracy: 0.9231 - val_precision_2: 0.9194 - val_recall_2: 1.0000\n",
            "Epoch 88/100\n",
            "33/33 [==============================] - 6s 196ms/step - loss: 1.7308e-26 - accuracy: 1.0000 - precision_2: 1.0000 - recall_2: 1.0000 - val_loss: 4.9127 - val_accuracy: 0.9231 - val_precision_2: 0.9194 - val_recall_2: 1.0000\n",
            "Epoch 89/100\n",
            "33/33 [==============================] - 6s 197ms/step - loss: 8.7915e-26 - accuracy: 1.0000 - precision_2: 1.0000 - recall_2: 1.0000 - val_loss: 4.9127 - val_accuracy: 0.9231 - val_precision_2: 0.9194 - val_recall_2: 1.0000\n",
            "Epoch 90/100\n",
            "33/33 [==============================] - 7s 198ms/step - loss: 2.6560e-28 - accuracy: 1.0000 - precision_2: 1.0000 - recall_2: 1.0000 - val_loss: 4.9127 - val_accuracy: 0.9231 - val_precision_2: 0.9194 - val_recall_2: 1.0000\n",
            "Epoch 91/100\n",
            "33/33 [==============================] - 7s 197ms/step - loss: 6.5995e-24 - accuracy: 1.0000 - precision_2: 1.0000 - recall_2: 1.0000 - val_loss: 4.9127 - val_accuracy: 0.9231 - val_precision_2: 0.9194 - val_recall_2: 1.0000\n",
            "Epoch 92/100\n",
            "33/33 [==============================] - 7s 197ms/step - loss: 1.7840e-26 - accuracy: 1.0000 - precision_2: 1.0000 - recall_2: 1.0000 - val_loss: 4.9127 - val_accuracy: 0.9231 - val_precision_2: 0.9194 - val_recall_2: 1.0000\n",
            "Epoch 93/100\n",
            "33/33 [==============================] - 6s 197ms/step - loss: 5.7905e-27 - accuracy: 1.0000 - precision_2: 1.0000 - recall_2: 1.0000 - val_loss: 4.9127 - val_accuracy: 0.9231 - val_precision_2: 0.9194 - val_recall_2: 1.0000\n",
            "Epoch 94/100\n",
            "33/33 [==============================] - 6s 197ms/step - loss: 3.6513e-28 - accuracy: 1.0000 - precision_2: 1.0000 - recall_2: 1.0000 - val_loss: 4.9127 - val_accuracy: 0.9231 - val_precision_2: 0.9194 - val_recall_2: 1.0000\n",
            "Epoch 95/100\n",
            "33/33 [==============================] - 7s 198ms/step - loss: 1.4778e-07 - accuracy: 1.0000 - precision_2: 1.0000 - recall_2: 1.0000 - val_loss: 4.9120 - val_accuracy: 0.9231 - val_precision_2: 0.9194 - val_recall_2: 1.0000\n",
            "Epoch 96/100\n",
            "33/33 [==============================] - 6s 197ms/step - loss: 1.6084e-29 - accuracy: 1.0000 - precision_2: 1.0000 - recall_2: 1.0000 - val_loss: 4.9118 - val_accuracy: 0.9231 - val_precision_2: 0.9194 - val_recall_2: 1.0000\n",
            "Epoch 97/100\n",
            "33/33 [==============================] - 6s 196ms/step - loss: 7.5538e-27 - accuracy: 1.0000 - precision_2: 1.0000 - recall_2: 1.0000 - val_loss: 4.9118 - val_accuracy: 0.9231 - val_precision_2: 0.9194 - val_recall_2: 1.0000\n",
            "Epoch 98/100\n",
            "33/33 [==============================] - 7s 197ms/step - loss: 2.9148e-18 - accuracy: 1.0000 - precision_2: 1.0000 - recall_2: 1.0000 - val_loss: 4.9118 - val_accuracy: 0.9231 - val_precision_2: 0.9194 - val_recall_2: 1.0000\n",
            "Epoch 99/100\n",
            "33/33 [==============================] - 6s 197ms/step - loss: 2.9153e-24 - accuracy: 1.0000 - precision_2: 1.0000 - recall_2: 1.0000 - val_loss: 4.9118 - val_accuracy: 0.9231 - val_precision_2: 0.9194 - val_recall_2: 1.0000\n",
            "Epoch 100/100\n",
            "33/33 [==============================] - 6s 196ms/step - loss: 5.9998e-23 - accuracy: 1.0000 - precision_2: 1.0000 - recall_2: 1.0000 - val_loss: 4.9118 - val_accuracy: 0.9231 - val_precision_2: 0.9194 - val_recall_2: 1.0000\n"
          ],
          "name": "stdout"
        }
      ]
    },
    {
      "cell_type": "code",
      "metadata": {
        "colab_type": "code",
        "id": "pusJod-0Gz49",
        "colab": {
          "base_uri": "https://localhost:8080/",
          "height": 1000
        },
        "outputId": "5cb3925f-98ab-4974-b843-f38108581fa3"
      },
      "source": [
        "%matplotlib inline\n",
        "\n",
        "import matplotlib.image  as mpimg\n",
        "import matplotlib.pyplot as plt\n",
        "\n",
        "#-----------------------------------------------------------\n",
        "# Retrieve a list of list results on training and test data\n",
        "# sets for each training epoch\n",
        "#-----------------------------------------------------------\n",
        "acc=history.history['accuracy']\n",
        "val_acc=history.history['val_accuracy']\n",
        "loss=history.history['loss']\n",
        "val_loss=history.history['val_loss']\n",
        "pre=history.history['precision_2']\n",
        "val_pre=history.history['val_precision_2']\n",
        "rec=history.history['recall_2']\n",
        "val_rec=history.history['val_recall_2']\n",
        "\n",
        "epochs=range(len(acc)) # Get number of epochs\n",
        "\n",
        "#------------------------------------------------\n",
        "# Plot training and validation accuracy per epoch\n",
        "#------------------------------------------------\n",
        "plt.plot(epochs, acc, 'r', label = 'Training accuracy')\n",
        "plt.plot(epochs, val_acc, 'b', label ='Validation accuracy')\n",
        "plt.title('Training and validation accuracy')\n",
        "plt.legend()\n",
        "plt.figure()\n",
        "\n",
        "#------------------------------------------------\n",
        "# Plot training and validation loss per epoch\n",
        "#------------------------------------------------\n",
        "plt.plot(epochs, loss, 'r', label = 'Training loss')\n",
        "plt.plot(epochs, val_loss, 'b', label = 'Validation loss')\n",
        "plt.title('Training and validation loss')\n",
        "plt.legend()\n",
        "plt.figure()\n",
        "\n",
        "#------------------------------------------------\n",
        "# Plot training and validation precision per epoch\n",
        "#------------------------------------------------\n",
        "plt.plot(epochs, pre, 'r', label = 'Training precision')\n",
        "plt.plot(epochs, val_pre, 'b', label ='Validation precision')\n",
        "plt.title('Training and validation precision')\n",
        "plt.legend()\n",
        "plt.figure()\n",
        "\n",
        "#------------------------------------------------\n",
        "# Plot training and validation recall per epoch\n",
        "#------------------------------------------------\n",
        "plt.plot(epochs, rec, 'r', label = 'Training recall')\n",
        "plt.plot(epochs, val_rec, 'b', label = 'Validation recall')\n",
        "plt.title('Training and validation recall')\n",
        "plt.legend()\n",
        "plt.figure()"
      ],
      "execution_count": null,
      "outputs": [
        {
          "output_type": "execute_result",
          "data": {
            "text/plain": [
              "<Figure size 432x288 with 0 Axes>"
            ]
          },
          "metadata": {
            "tags": []
          },
          "execution_count": 36
        },
        {
          "output_type": "display_data",
          "data": {
            "image/png": "[encoded data removed]",
            "text/plain": [
              "<Figure size 432x288 with 1 Axes>"
            ]
          },
          "metadata": {
            "tags": [],
            "needs_background": "light"
          }
        },
        {
          "output_type": "display_data",
          "data": {
            "image/png": "[encoded data removed]",
            "text/plain": [
              "<Figure size 432x288 with 1 Axes>"
            ]
          },
          "metadata": {
            "tags": [],
            "needs_background": "light"
          }
        },
        {
          "output_type": "display_data",
          "data": {
            "image/png": "[encoded data removed]",
            "text/plain": [
              "<Figure size 432x288 with 1 Axes>"
            ]
          },
          "metadata": {
            "tags": [],
            "needs_background": "light"
          }
        },
        {
          "output_type": "display_data",
          "data": {
            "image/png": "[encoded data removed]",
            "text/plain": [
              "<Figure size 432x288 with 1 Axes>"
            ]
          },
          "metadata": {
            "tags": [],
            "needs_background": "light"
          }
        },
        {
          "output_type": "display_data",
          "data": {
            "text/plain": [
              "<Figure size 432x288 with 0 Axes>"
            ]
          },
          "metadata": {
            "tags": []
          }
        }
      ]
    },
    {
      "cell_type": "code",
      "metadata": {
        "colab_type": "code",
        "id": "6axJxuaNJdwW",
        "colab": {}
      },
      "source": [
        "model.save('Inceptrans.h5')"
      ],
      "execution_count": null,
      "outputs": []
    },
    {
      "cell_type": "markdown",
      "metadata": {
        "colab_type": "text",
        "id": "SqaoF-7JaZey"
      },
      "source": [
        "##VGG19"
      ]
    },
    {
      "cell_type": "code",
      "metadata": {
        "colab_type": "code",
        "id": "qYGHicW6aZzM",
        "colab": {
          "base_uri": "https://localhost:8080/",
          "height": 50
        },
        "outputId": "9cdff610-b2bc-4523-b2a5-980d4153f584"
      },
      "source": [
        "vgg19_model=VGG19(input_shape=(300,300,3),include_top=False)"
      ],
      "execution_count": null,
      "outputs": [
        {
          "output_type": "stream",
          "text": [
            "Downloading data from https://storage.googleapis.com/tensorflow/keras-applications/vgg19/vgg19_weights_tf_dim_ordering_tf_kernels_notop.h5\n",
            "80142336/80134624 [==============================] - 1s 0us/step\n"
          ],
          "name": "stdout"
        }
      ]
    },
    {
      "cell_type": "code",
      "metadata": {
        "colab_type": "code",
        "id": "5h1NgvEXbnef",
        "colab": {}
      },
      "source": [
        "vgg19_model.trainable=False"
      ],
      "execution_count": null,
      "outputs": []
    },
    {
      "cell_type": "code",
      "metadata": {
        "colab_type": "code",
        "id": "w5NBhKUNbpnD",
        "colab": {
          "base_uri": "https://localhost:8080/",
          "height": 890
        },
        "outputId": "e6888df7-e787-4cb2-b194-a72aa1f5eb15"
      },
      "source": [
        "vgg19_model.summary()"
      ],
      "execution_count": null,
      "outputs": [
        {
          "output_type": "stream",
          "text": [
            "Model: \"vgg19\"\n",
            "_________________________________________________________________\n",
            "Layer (type)                 Output Shape              Param #   \n",
            "=================================================================\n",
            "input_4 (InputLayer)         [(None, 300, 300, 3)]     0         \n",
            "_________________________________________________________________\n",
            "block1_conv1 (Conv2D)        (None, 300, 300, 64)      1792      \n",
            "_________________________________________________________________\n",
            "block1_conv2 (Conv2D)        (None, 300, 300, 64)      36928     \n",
            "_________________________________________________________________\n",
            "block1_pool (MaxPooling2D)   (None, 150, 150, 64)      0         \n",
            "_________________________________________________________________\n",
            "block2_conv1 (Conv2D)        (None, 150, 150, 128)     73856     \n",
            "_________________________________________________________________\n",
            "block2_conv2 (Conv2D)        (None, 150, 150, 128)     147584    \n",
            "_________________________________________________________________\n",
            "block2_pool (MaxPooling2D)   (None, 75, 75, 128)       0         \n",
            "_________________________________________________________________\n",
            "block3_conv1 (Conv2D)        (None, 75, 75, 256)       295168    \n",
            "_________________________________________________________________\n",
            "block3_conv2 (Conv2D)        (None, 75, 75, 256)       590080    \n",
            "_________________________________________________________________\n",
            "block3_conv3 (Conv2D)        (None, 75, 75, 256)       590080    \n",
            "_________________________________________________________________\n",
            "block3_conv4 (Conv2D)        (None, 75, 75, 256)       590080    \n",
            "_________________________________________________________________\n",
            "block3_pool (MaxPooling2D)   (None, 37, 37, 256)       0         \n",
            "_________________________________________________________________\n",
            "block4_conv1 (Conv2D)        (None, 37, 37, 512)       1180160   \n",
            "_________________________________________________________________\n",
            "block4_conv2 (Conv2D)        (None, 37, 37, 512)       2359808   \n",
            "_________________________________________________________________\n",
            "block4_conv3 (Conv2D)        (None, 37, 37, 512)       2359808   \n",
            "_________________________________________________________________\n",
            "block4_conv4 (Conv2D)        (None, 37, 37, 512)       2359808   \n",
            "_________________________________________________________________\n",
            "block4_pool (MaxPooling2D)   (None, 18, 18, 512)       0         \n",
            "_________________________________________________________________\n",
            "block5_conv1 (Conv2D)        (None, 18, 18, 512)       2359808   \n",
            "_________________________________________________________________\n",
            "block5_conv2 (Conv2D)        (None, 18, 18, 512)       2359808   \n",
            "_________________________________________________________________\n",
            "block5_conv3 (Conv2D)        (None, 18, 18, 512)       2359808   \n",
            "_________________________________________________________________\n",
            "block5_conv4 (Conv2D)        (None, 18, 18, 512)       2359808   \n",
            "_________________________________________________________________\n",
            "block5_pool (MaxPooling2D)   (None, 9, 9, 512)         0         \n",
            "=================================================================\n",
            "Total params: 20,024,384\n",
            "Trainable params: 0\n",
            "Non-trainable params: 20,024,384\n",
            "_________________________________________________________________\n"
          ],
          "name": "stdout"
        }
      ]
    },
    {
      "cell_type": "code",
      "metadata": {
        "colab_type": "code",
        "id": "vMg7HG65br4l",
        "colab": {
          "base_uri": "https://localhost:8080/",
          "height": 34
        },
        "outputId": "786710f2-e784-4ae5-cc46-ddcf2570d02a"
      },
      "source": [
        "last_output=vgg19_model.output\n",
        "print('last layer output shape: ', vgg19_model.output_shape)"
      ],
      "execution_count": null,
      "outputs": [
        {
          "output_type": "stream",
          "text": [
            "last layer output shape:  (None, 9, 9, 512)\n"
          ],
          "name": "stdout"
        }
      ]
    },
    {
      "cell_type": "code",
      "metadata": {
        "colab_type": "code",
        "id": "Am8QHf2BhnvZ",
        "colab": {
          "base_uri": "https://localhost:8080/",
          "height": 34
        },
        "outputId": "dd1dfb45-52fc-487d-a280-a2888296333b"
      },
      "source": [
        "# Flatten the output layer to 1 dimension\n",
        "x = layers.Flatten()(last_output)\n",
        "x = layers.Dense(512, activation='relu')(x)\n",
        "x = layers.Dropout(0.1)(x)                  \n",
        "x = layers.Dense(1, activation='sigmoid')(x)           \n",
        "\n",
        "model = Model(vgg19_model.input, x) \n",
        "model.summary"
      ],
      "execution_count": null,
      "outputs": [
        {
          "output_type": "execute_result",
          "data": {
            "text/plain": [
              "<bound method Network.summary of <tensorflow.python.keras.engine.training.Model object at 0x7fc1cba14240>>"
            ]
          },
          "metadata": {
            "tags": []
          },
          "execution_count": 51
        }
      ]
    },
    {
      "cell_type": "code",
      "metadata": {
        "colab_type": "code",
        "id": "tOW_rV1Zhn9J",
        "colab": {}
      },
      "source": [
        "model.compile(optimizer = 'adam', \n",
        "              loss = 'binary_crossentropy', \n",
        "              metrics = ['accuracy',Precision(),Recall()])"
      ],
      "execution_count": null,
      "outputs": []
    },
    {
      "cell_type": "code",
      "metadata": {
        "colab_type": "code",
        "id": "FeZYQHz9hoWp",
        "colab": {
          "base_uri": "https://localhost:8080/",
          "height": 1000
        },
        "outputId": "b5734c42-50a5-4bd7-ec51-01abca0addce"
      },
      "source": [
        "# Fit the model\n",
        "history = model.fit(train_generator,\n",
        "                              epochs=100,\n",
        "                              verbose=1,\n",
        "                              validation_data=validation_generator)"
      ],
      "execution_count": null,
      "outputs": [
        {
          "output_type": "stream",
          "text": [
            "Epoch 1/100\n",
            "33/33 [==============================] - 14s 410ms/step - loss: 2.2071 - accuracy: 0.8323 - precision_4: 0.8990 - recall_4: 0.9117 - val_loss: 0.8971 - val_accuracy: 0.6769 - val_precision_4: 1.0000 - val_recall_4: 0.6316\n",
            "Epoch 2/100\n",
            "33/33 [==============================] - 13s 397ms/step - loss: 0.4897 - accuracy: 0.8696 - precision_4: 0.9170 - recall_4: 0.9364 - val_loss: 0.3410 - val_accuracy: 0.8462 - val_precision_4: 0.9519 - val_recall_4: 0.8684\n",
            "Epoch 3/100\n",
            "33/33 [==============================] - 13s 396ms/step - loss: 0.1668 - accuracy: 0.9503 - precision_4: 0.9684 - recall_4: 0.9753 - val_loss: 0.4501 - val_accuracy: 0.9077 - val_precision_4: 0.9048 - val_recall_4: 1.0000\n",
            "Epoch 4/100\n",
            "33/33 [==============================] - 13s 395ms/step - loss: 0.1664 - accuracy: 0.9410 - precision_4: 0.9615 - recall_4: 0.9717 - val_loss: 0.2850 - val_accuracy: 0.9462 - val_precision_4: 0.9421 - val_recall_4: 1.0000\n",
            "Epoch 5/100\n",
            "33/33 [==============================] - 13s 397ms/step - loss: 0.2362 - accuracy: 0.9286 - precision_4: 0.9514 - recall_4: 0.9682 - val_loss: 0.4434 - val_accuracy: 0.9154 - val_precision_4: 0.9120 - val_recall_4: 1.0000\n",
            "Epoch 6/100\n",
            "33/33 [==============================] - 13s 396ms/step - loss: 0.0477 - accuracy: 0.9845 - precision_4: 0.9894 - recall_4: 0.9929 - val_loss: 0.4370 - val_accuracy: 0.9154 - val_precision_4: 0.9120 - val_recall_4: 1.0000\n",
            "Epoch 7/100\n",
            "33/33 [==============================] - 13s 396ms/step - loss: 0.0295 - accuracy: 0.9907 - precision_4: 0.9895 - recall_4: 1.0000 - val_loss: 0.3025 - val_accuracy: 0.9462 - val_precision_4: 0.9496 - val_recall_4: 0.9912\n",
            "Epoch 8/100\n",
            "33/33 [==============================] - 13s 395ms/step - loss: 0.2394 - accuracy: 0.9472 - precision_4: 0.9586 - recall_4: 0.9823 - val_loss: 0.2608 - val_accuracy: 0.9231 - val_precision_4: 0.9333 - val_recall_4: 0.9825\n",
            "Epoch 9/100\n",
            "33/33 [==============================] - 13s 397ms/step - loss: 0.0475 - accuracy: 0.9814 - precision_4: 0.9860 - recall_4: 0.9929 - val_loss: 0.2357 - val_accuracy: 0.9077 - val_precision_4: 0.9397 - val_recall_4: 0.9561\n",
            "Epoch 10/100\n",
            "33/33 [==============================] - 13s 396ms/step - loss: 0.0551 - accuracy: 0.9783 - precision_4: 0.9894 - recall_4: 0.9859 - val_loss: 0.4417 - val_accuracy: 0.9231 - val_precision_4: 0.9194 - val_recall_4: 1.0000\n",
            "Epoch 11/100\n",
            "33/33 [==============================] - 13s 395ms/step - loss: 0.0371 - accuracy: 0.9845 - precision_4: 0.9860 - recall_4: 0.9965 - val_loss: 0.3528 - val_accuracy: 0.9385 - val_precision_4: 0.9344 - val_recall_4: 1.0000\n",
            "Epoch 12/100\n",
            "33/33 [==============================] - 13s 394ms/step - loss: 0.0193 - accuracy: 0.9907 - precision_4: 0.9965 - recall_4: 0.9929 - val_loss: 0.3561 - val_accuracy: 0.9385 - val_precision_4: 0.9344 - val_recall_4: 1.0000\n",
            "Epoch 13/100\n",
            "33/33 [==============================] - 13s 393ms/step - loss: 0.0069 - accuracy: 0.9969 - precision_4: 0.9965 - recall_4: 1.0000 - val_loss: 0.3832 - val_accuracy: 0.9385 - val_precision_4: 0.9344 - val_recall_4: 1.0000\n",
            "Epoch 14/100\n",
            "33/33 [==============================] - 13s 395ms/step - loss: 0.0078 - accuracy: 0.9969 - precision_4: 0.9965 - recall_4: 1.0000 - val_loss: 0.3130 - val_accuracy: 0.9462 - val_precision_4: 0.9421 - val_recall_4: 1.0000\n",
            "Epoch 15/100\n",
            "33/33 [==============================] - 13s 394ms/step - loss: 0.0031 - accuracy: 1.0000 - precision_4: 1.0000 - recall_4: 1.0000 - val_loss: 0.2560 - val_accuracy: 0.9385 - val_precision_4: 0.9492 - val_recall_4: 0.9825\n",
            "Epoch 16/100\n",
            "33/33 [==============================] - 13s 396ms/step - loss: 0.0106 - accuracy: 0.9969 - precision_4: 1.0000 - recall_4: 0.9965 - val_loss: 0.3502 - val_accuracy: 0.9462 - val_precision_4: 0.9421 - val_recall_4: 1.0000\n",
            "Epoch 17/100\n",
            "33/33 [==============================] - 13s 396ms/step - loss: 0.0183 - accuracy: 0.9969 - precision_4: 0.9965 - recall_4: 1.0000 - val_loss: 0.4156 - val_accuracy: 0.9385 - val_precision_4: 0.9344 - val_recall_4: 1.0000\n",
            "Epoch 18/100\n",
            "33/33 [==============================] - 13s 396ms/step - loss: 0.0193 - accuracy: 0.9938 - precision_4: 0.9965 - recall_4: 0.9965 - val_loss: 0.7314 - val_accuracy: 0.8923 - val_precision_4: 0.8906 - val_recall_4: 1.0000\n",
            "Epoch 19/100\n",
            "33/33 [==============================] - 13s 397ms/step - loss: 0.0085 - accuracy: 0.9969 - precision_4: 0.9965 - recall_4: 1.0000 - val_loss: 0.2320 - val_accuracy: 0.9154 - val_precision_4: 0.9478 - val_recall_4: 0.9561\n",
            "Epoch 20/100\n",
            "33/33 [==============================] - 13s 395ms/step - loss: 0.0037 - accuracy: 1.0000 - precision_4: 1.0000 - recall_4: 1.0000 - val_loss: 0.4445 - val_accuracy: 0.9308 - val_precision_4: 0.9268 - val_recall_4: 1.0000\n",
            "Epoch 21/100\n",
            "33/33 [==============================] - 13s 397ms/step - loss: 0.0113 - accuracy: 0.9969 - precision_4: 1.0000 - recall_4: 0.9965 - val_loss: 0.4916 - val_accuracy: 0.9308 - val_precision_4: 0.9268 - val_recall_4: 1.0000\n",
            "Epoch 22/100\n",
            "33/33 [==============================] - 13s 397ms/step - loss: 0.0054 - accuracy: 0.9969 - precision_4: 0.9965 - recall_4: 1.0000 - val_loss: 0.2397 - val_accuracy: 0.9231 - val_precision_4: 0.9483 - val_recall_4: 0.9649\n",
            "Epoch 23/100\n",
            "33/33 [==============================] - 13s 397ms/step - loss: 0.0012 - accuracy: 1.0000 - precision_4: 1.0000 - recall_4: 1.0000 - val_loss: 0.3449 - val_accuracy: 0.9462 - val_precision_4: 0.9421 - val_recall_4: 1.0000\n",
            "Epoch 24/100\n",
            "33/33 [==============================] - 13s 394ms/step - loss: 0.0056 - accuracy: 0.9969 - precision_4: 0.9965 - recall_4: 1.0000 - val_loss: 0.2771 - val_accuracy: 0.8769 - val_precision_4: 0.9455 - val_recall_4: 0.9123\n",
            "Epoch 25/100\n",
            "33/33 [==============================] - 13s 397ms/step - loss: 0.0179 - accuracy: 0.9969 - precision_4: 1.0000 - recall_4: 0.9965 - val_loss: 0.3642 - val_accuracy: 0.9462 - val_precision_4: 0.9421 - val_recall_4: 1.0000\n",
            "Epoch 26/100\n",
            "33/33 [==============================] - 13s 396ms/step - loss: 0.0026 - accuracy: 1.0000 - precision_4: 1.0000 - recall_4: 1.0000 - val_loss: 0.2709 - val_accuracy: 0.9231 - val_precision_4: 0.9483 - val_recall_4: 0.9649\n",
            "Epoch 27/100\n",
            "33/33 [==============================] - 13s 396ms/step - loss: 0.0032 - accuracy: 1.0000 - precision_4: 1.0000 - recall_4: 1.0000 - val_loss: 0.4056 - val_accuracy: 0.9462 - val_precision_4: 0.9421 - val_recall_4: 1.0000\n",
            "Epoch 28/100\n",
            "33/33 [==============================] - 13s 396ms/step - loss: 6.2246e-04 - accuracy: 1.0000 - precision_4: 1.0000 - recall_4: 1.0000 - val_loss: 0.4488 - val_accuracy: 0.9308 - val_precision_4: 0.9268 - val_recall_4: 1.0000\n",
            "Epoch 29/100\n",
            "33/33 [==============================] - 13s 395ms/step - loss: 3.6227e-04 - accuracy: 1.0000 - precision_4: 1.0000 - recall_4: 1.0000 - val_loss: 0.4238 - val_accuracy: 0.9385 - val_precision_4: 0.9344 - val_recall_4: 1.0000\n",
            "Epoch 30/100\n",
            "33/33 [==============================] - 13s 396ms/step - loss: 0.0023 - accuracy: 1.0000 - precision_4: 1.0000 - recall_4: 1.0000 - val_loss: 0.3755 - val_accuracy: 0.9462 - val_precision_4: 0.9421 - val_recall_4: 1.0000\n",
            "Epoch 31/100\n",
            "33/33 [==============================] - 13s 396ms/step - loss: 0.0056 - accuracy: 0.9969 - precision_4: 0.9965 - recall_4: 1.0000 - val_loss: 0.3881 - val_accuracy: 0.9462 - val_precision_4: 0.9421 - val_recall_4: 1.0000\n",
            "Epoch 32/100\n",
            "33/33 [==============================] - 13s 395ms/step - loss: 0.1033 - accuracy: 0.9627 - precision_4: 0.9754 - recall_4: 0.9823 - val_loss: 0.4241 - val_accuracy: 0.9308 - val_precision_4: 0.9268 - val_recall_4: 1.0000\n",
            "Epoch 33/100\n",
            "33/33 [==============================] - 13s 396ms/step - loss: 0.0288 - accuracy: 0.9814 - precision_4: 0.9860 - recall_4: 0.9929 - val_loss: 0.2405 - val_accuracy: 0.9000 - val_precision_4: 0.9469 - val_recall_4: 0.9386\n",
            "Epoch 34/100\n",
            "33/33 [==============================] - 13s 393ms/step - loss: 0.0053 - accuracy: 1.0000 - precision_4: 1.0000 - recall_4: 1.0000 - val_loss: 0.4540 - val_accuracy: 0.9385 - val_precision_4: 0.9344 - val_recall_4: 1.0000\n",
            "Epoch 35/100\n",
            "33/33 [==============================] - 13s 394ms/step - loss: 0.0058 - accuracy: 0.9969 - precision_4: 0.9965 - recall_4: 1.0000 - val_loss: 0.2925 - val_accuracy: 0.9308 - val_precision_4: 0.9412 - val_recall_4: 0.9825\n",
            "Epoch 36/100\n",
            "33/33 [==============================] - 13s 392ms/step - loss: 0.0021 - accuracy: 1.0000 - precision_4: 1.0000 - recall_4: 1.0000 - val_loss: 0.3999 - val_accuracy: 0.9385 - val_precision_4: 0.9344 - val_recall_4: 1.0000\n",
            "Epoch 37/100\n",
            "33/33 [==============================] - 13s 397ms/step - loss: 0.0016 - accuracy: 1.0000 - precision_4: 1.0000 - recall_4: 1.0000 - val_loss: 0.2967 - val_accuracy: 0.9308 - val_precision_4: 0.9412 - val_recall_4: 0.9825\n",
            "Epoch 38/100\n",
            "33/33 [==============================] - 13s 396ms/step - loss: 0.0047 - accuracy: 1.0000 - precision_4: 1.0000 - recall_4: 1.0000 - val_loss: 0.3457 - val_accuracy: 0.9462 - val_precision_4: 0.9421 - val_recall_4: 1.0000\n",
            "Epoch 39/100\n",
            "33/33 [==============================] - 13s 397ms/step - loss: 9.6307e-04 - accuracy: 1.0000 - precision_4: 1.0000 - recall_4: 1.0000 - val_loss: 0.3176 - val_accuracy: 0.9462 - val_precision_4: 0.9496 - val_recall_4: 0.9912\n",
            "Epoch 40/100\n",
            "33/33 [==============================] - 13s 395ms/step - loss: 0.0025 - accuracy: 1.0000 - precision_4: 1.0000 - recall_4: 1.0000 - val_loss: 0.3530 - val_accuracy: 0.9538 - val_precision_4: 0.9500 - val_recall_4: 1.0000\n",
            "Epoch 41/100\n",
            "33/33 [==============================] - 13s 395ms/step - loss: 0.0060 - accuracy: 0.9969 - precision_4: 0.9965 - recall_4: 1.0000 - val_loss: 0.2680 - val_accuracy: 0.9308 - val_precision_4: 0.9487 - val_recall_4: 0.9737\n",
            "Epoch 42/100\n",
            "33/33 [==============================] - 13s 394ms/step - loss: 0.0023 - accuracy: 1.0000 - precision_4: 1.0000 - recall_4: 1.0000 - val_loss: 0.5499 - val_accuracy: 0.9308 - val_precision_4: 0.9268 - val_recall_4: 1.0000\n",
            "Epoch 43/100\n",
            "33/33 [==============================] - 13s 395ms/step - loss: 9.0840e-04 - accuracy: 1.0000 - precision_4: 1.0000 - recall_4: 1.0000 - val_loss: 0.3987 - val_accuracy: 0.9385 - val_precision_4: 0.9344 - val_recall_4: 1.0000\n",
            "Epoch 44/100\n",
            "33/33 [==============================] - 13s 395ms/step - loss: 4.5808e-04 - accuracy: 1.0000 - precision_4: 1.0000 - recall_4: 1.0000 - val_loss: 0.3364 - val_accuracy: 0.9462 - val_precision_4: 0.9496 - val_recall_4: 0.9912\n",
            "Epoch 45/100\n",
            "33/33 [==============================] - 13s 396ms/step - loss: 7.4829e-04 - accuracy: 1.0000 - precision_4: 1.0000 - recall_4: 1.0000 - val_loss: 0.3570 - val_accuracy: 0.9462 - val_precision_4: 0.9496 - val_recall_4: 0.9912\n",
            "Epoch 46/100\n",
            "33/33 [==============================] - 13s 396ms/step - loss: 0.0010 - accuracy: 1.0000 - precision_4: 1.0000 - recall_4: 1.0000 - val_loss: 0.5164 - val_accuracy: 0.9385 - val_precision_4: 0.9344 - val_recall_4: 1.0000\n",
            "Epoch 47/100\n",
            "33/33 [==============================] - 13s 395ms/step - loss: 0.0148 - accuracy: 0.9938 - precision_4: 0.9965 - recall_4: 0.9965 - val_loss: 0.8107 - val_accuracy: 0.8923 - val_precision_4: 0.8906 - val_recall_4: 1.0000\n",
            "Epoch 48/100\n",
            "33/33 [==============================] - 13s 395ms/step - loss: 0.0119 - accuracy: 0.9969 - precision_4: 0.9965 - recall_4: 1.0000 - val_loss: 0.2622 - val_accuracy: 0.9385 - val_precision_4: 0.9492 - val_recall_4: 0.9825\n",
            "Epoch 49/100\n",
            "33/33 [==============================] - 13s 396ms/step - loss: 9.4774e-04 - accuracy: 1.0000 - precision_4: 1.0000 - recall_4: 1.0000 - val_loss: 0.3671 - val_accuracy: 0.9385 - val_precision_4: 0.9344 - val_recall_4: 1.0000\n",
            "Epoch 50/100\n",
            "33/33 [==============================] - 13s 397ms/step - loss: 0.0010 - accuracy: 1.0000 - precision_4: 1.0000 - recall_4: 1.0000 - val_loss: 0.4138 - val_accuracy: 0.9385 - val_precision_4: 0.9344 - val_recall_4: 1.0000\n",
            "Epoch 51/100\n",
            "33/33 [==============================] - 13s 400ms/step - loss: 3.4318e-04 - accuracy: 1.0000 - precision_4: 1.0000 - recall_4: 1.0000 - val_loss: 0.3813 - val_accuracy: 0.9385 - val_precision_4: 0.9344 - val_recall_4: 1.0000\n",
            "Epoch 52/100\n",
            "33/33 [==============================] - 13s 395ms/step - loss: 3.6459e-04 - accuracy: 1.0000 - precision_4: 1.0000 - recall_4: 1.0000 - val_loss: 0.3506 - val_accuracy: 0.9385 - val_precision_4: 0.9417 - val_recall_4: 0.9912\n",
            "Epoch 53/100\n",
            "33/33 [==============================] - 13s 396ms/step - loss: 3.6070e-04 - accuracy: 1.0000 - precision_4: 1.0000 - recall_4: 1.0000 - val_loss: 0.3814 - val_accuracy: 0.9385 - val_precision_4: 0.9344 - val_recall_4: 1.0000\n",
            "Epoch 54/100\n",
            "33/33 [==============================] - 13s 395ms/step - loss: 0.0011 - accuracy: 1.0000 - precision_4: 1.0000 - recall_4: 1.0000 - val_loss: 0.3306 - val_accuracy: 0.9462 - val_precision_4: 0.9496 - val_recall_4: 0.9912\n",
            "Epoch 55/100\n",
            "33/33 [==============================] - 13s 395ms/step - loss: 0.0017 - accuracy: 1.0000 - precision_4: 1.0000 - recall_4: 1.0000 - val_loss: 0.2889 - val_accuracy: 0.9385 - val_precision_4: 0.9492 - val_recall_4: 0.9825\n",
            "Epoch 56/100\n",
            "33/33 [==============================] - 13s 394ms/step - loss: 0.0019 - accuracy: 1.0000 - precision_4: 1.0000 - recall_4: 1.0000 - val_loss: 0.4904 - val_accuracy: 0.9385 - val_precision_4: 0.9344 - val_recall_4: 1.0000\n",
            "Epoch 57/100\n",
            "33/33 [==============================] - 13s 392ms/step - loss: 4.3353e-04 - accuracy: 1.0000 - precision_4: 1.0000 - recall_4: 1.0000 - val_loss: 0.3173 - val_accuracy: 0.9462 - val_precision_4: 0.9496 - val_recall_4: 0.9912\n",
            "Epoch 58/100\n",
            "33/33 [==============================] - 13s 395ms/step - loss: 2.0449e-04 - accuracy: 1.0000 - precision_4: 1.0000 - recall_4: 1.0000 - val_loss: 0.3622 - val_accuracy: 0.9385 - val_precision_4: 0.9417 - val_recall_4: 0.9912\n",
            "Epoch 59/100\n",
            "33/33 [==============================] - 13s 395ms/step - loss: 7.6840e-04 - accuracy: 1.0000 - precision_4: 1.0000 - recall_4: 1.0000 - val_loss: 0.3782 - val_accuracy: 0.9462 - val_precision_4: 0.9421 - val_recall_4: 1.0000\n",
            "Epoch 60/100\n",
            "33/33 [==============================] - 13s 396ms/step - loss: 7.3863e-04 - accuracy: 1.0000 - precision_4: 1.0000 - recall_4: 1.0000 - val_loss: 0.3195 - val_accuracy: 0.9462 - val_precision_4: 0.9496 - val_recall_4: 0.9912\n",
            "Epoch 61/100\n",
            "33/33 [==============================] - 13s 397ms/step - loss: 4.2428e-04 - accuracy: 1.0000 - precision_4: 1.0000 - recall_4: 1.0000 - val_loss: 0.3419 - val_accuracy: 0.9462 - val_precision_4: 0.9496 - val_recall_4: 0.9912\n",
            "Epoch 62/100\n",
            "33/33 [==============================] - 13s 397ms/step - loss: 0.0043 - accuracy: 0.9969 - precision_4: 1.0000 - recall_4: 0.9965 - val_loss: 0.9010 - val_accuracy: 0.9000 - val_precision_4: 0.8976 - val_recall_4: 1.0000\n",
            "Epoch 63/100\n",
            "33/33 [==============================] - 13s 396ms/step - loss: 0.0052 - accuracy: 1.0000 - precision_4: 1.0000 - recall_4: 1.0000 - val_loss: 0.4089 - val_accuracy: 0.9462 - val_precision_4: 0.9421 - val_recall_4: 1.0000\n",
            "Epoch 64/100\n",
            "33/33 [==============================] - 13s 401ms/step - loss: 0.0193 - accuracy: 0.9938 - precision_4: 0.9930 - recall_4: 1.0000 - val_loss: 0.3143 - val_accuracy: 0.9308 - val_precision_4: 0.9339 - val_recall_4: 0.9912\n",
            "Epoch 65/100\n",
            "33/33 [==============================] - 13s 397ms/step - loss: 0.0051 - accuracy: 0.9969 - precision_4: 0.9965 - recall_4: 1.0000 - val_loss: 0.2874 - val_accuracy: 0.9385 - val_precision_4: 0.9417 - val_recall_4: 0.9912\n",
            "Epoch 66/100\n",
            "33/33 [==============================] - 13s 397ms/step - loss: 0.0041 - accuracy: 0.9969 - precision_4: 1.0000 - recall_4: 0.9965 - val_loss: 0.3099 - val_accuracy: 0.9462 - val_precision_4: 0.9421 - val_recall_4: 1.0000\n",
            "Epoch 67/100\n",
            "33/33 [==============================] - 13s 396ms/step - loss: 0.0036 - accuracy: 1.0000 - precision_4: 1.0000 - recall_4: 1.0000 - val_loss: 0.3346 - val_accuracy: 0.9385 - val_precision_4: 0.9344 - val_recall_4: 1.0000\n",
            "Epoch 68/100\n",
            "33/33 [==============================] - 13s 396ms/step - loss: 0.0012 - accuracy: 1.0000 - precision_4: 1.0000 - recall_4: 1.0000 - val_loss: 0.3136 - val_accuracy: 0.9462 - val_precision_4: 0.9421 - val_recall_4: 1.0000\n",
            "Epoch 69/100\n",
            "33/33 [==============================] - 13s 397ms/step - loss: 6.6540e-04 - accuracy: 1.0000 - precision_4: 1.0000 - recall_4: 1.0000 - val_loss: 0.3328 - val_accuracy: 0.9462 - val_precision_4: 0.9421 - val_recall_4: 1.0000\n",
            "Epoch 70/100\n",
            "33/33 [==============================] - 13s 397ms/step - loss: 9.2125e-04 - accuracy: 1.0000 - precision_4: 1.0000 - recall_4: 1.0000 - val_loss: 0.3815 - val_accuracy: 0.9385 - val_precision_4: 0.9344 - val_recall_4: 1.0000\n",
            "Epoch 71/100\n",
            "33/33 [==============================] - 13s 395ms/step - loss: 4.0555e-04 - accuracy: 1.0000 - precision_4: 1.0000 - recall_4: 1.0000 - val_loss: 0.3470 - val_accuracy: 0.9462 - val_precision_4: 0.9421 - val_recall_4: 1.0000\n",
            "Epoch 72/100\n",
            "33/33 [==============================] - 13s 395ms/step - loss: 0.0026 - accuracy: 1.0000 - precision_4: 1.0000 - recall_4: 1.0000 - val_loss: 0.3174 - val_accuracy: 0.9385 - val_precision_4: 0.9417 - val_recall_4: 0.9912\n",
            "Epoch 73/100\n",
            "33/33 [==============================] - 13s 397ms/step - loss: 0.0025 - accuracy: 1.0000 - precision_4: 1.0000 - recall_4: 1.0000 - val_loss: 0.4303 - val_accuracy: 0.9385 - val_precision_4: 0.9344 - val_recall_4: 1.0000\n",
            "Epoch 74/100\n",
            "33/33 [==============================] - 13s 398ms/step - loss: 0.0044 - accuracy: 1.0000 - precision_4: 1.0000 - recall_4: 1.0000 - val_loss: 0.4877 - val_accuracy: 0.9385 - val_precision_4: 0.9344 - val_recall_4: 1.0000\n",
            "Epoch 75/100\n",
            "33/33 [==============================] - 13s 395ms/step - loss: 0.0035 - accuracy: 1.0000 - precision_4: 1.0000 - recall_4: 1.0000 - val_loss: 0.2910 - val_accuracy: 0.9385 - val_precision_4: 0.9492 - val_recall_4: 0.9825\n",
            "Epoch 76/100\n",
            "33/33 [==============================] - 13s 396ms/step - loss: 0.0016 - accuracy: 1.0000 - precision_4: 1.0000 - recall_4: 1.0000 - val_loss: 0.3858 - val_accuracy: 0.9385 - val_precision_4: 0.9417 - val_recall_4: 0.9912\n",
            "Epoch 77/100\n",
            "33/33 [==============================] - 13s 398ms/step - loss: 7.5112e-04 - accuracy: 1.0000 - precision_4: 1.0000 - recall_4: 1.0000 - val_loss: 0.5095 - val_accuracy: 0.9385 - val_precision_4: 0.9344 - val_recall_4: 1.0000\n",
            "Epoch 78/100\n",
            "33/33 [==============================] - 13s 397ms/step - loss: 8.9027e-04 - accuracy: 1.0000 - precision_4: 1.0000 - recall_4: 1.0000 - val_loss: 0.3536 - val_accuracy: 0.9462 - val_precision_4: 0.9496 - val_recall_4: 0.9912\n",
            "Epoch 79/100\n",
            "33/33 [==============================] - 13s 394ms/step - loss: 2.7639e-04 - accuracy: 1.0000 - precision_4: 1.0000 - recall_4: 1.0000 - val_loss: 0.3630 - val_accuracy: 0.9462 - val_precision_4: 0.9496 - val_recall_4: 0.9912\n",
            "Epoch 80/100\n",
            "33/33 [==============================] - 13s 393ms/step - loss: 3.1141e-04 - accuracy: 1.0000 - precision_4: 1.0000 - recall_4: 1.0000 - val_loss: 0.4037 - val_accuracy: 0.9385 - val_precision_4: 0.9417 - val_recall_4: 0.9912\n",
            "Epoch 81/100\n",
            "33/33 [==============================] - 13s 396ms/step - loss: 1.5393e-04 - accuracy: 1.0000 - precision_4: 1.0000 - recall_4: 1.0000 - val_loss: 0.3955 - val_accuracy: 0.9385 - val_precision_4: 0.9417 - val_recall_4: 0.9912\n",
            "Epoch 82/100\n",
            "33/33 [==============================] - 13s 397ms/step - loss: 2.3194e-04 - accuracy: 1.0000 - precision_4: 1.0000 - recall_4: 1.0000 - val_loss: 0.3545 - val_accuracy: 0.9385 - val_precision_4: 0.9417 - val_recall_4: 0.9912\n",
            "Epoch 83/100\n",
            "33/33 [==============================] - 13s 398ms/step - loss: 1.3189e-04 - accuracy: 1.0000 - precision_4: 1.0000 - recall_4: 1.0000 - val_loss: 0.3815 - val_accuracy: 0.9385 - val_precision_4: 0.9417 - val_recall_4: 0.9912\n",
            "Epoch 84/100\n",
            "33/33 [==============================] - 13s 396ms/step - loss: 2.4232e-04 - accuracy: 1.0000 - precision_4: 1.0000 - recall_4: 1.0000 - val_loss: 0.3586 - val_accuracy: 0.9385 - val_precision_4: 0.9417 - val_recall_4: 0.9912\n",
            "Epoch 85/100\n",
            "33/33 [==============================] - 13s 396ms/step - loss: 6.9801e-05 - accuracy: 1.0000 - precision_4: 1.0000 - recall_4: 1.0000 - val_loss: 0.3715 - val_accuracy: 0.9385 - val_precision_4: 0.9417 - val_recall_4: 0.9912\n",
            "Epoch 86/100\n",
            "33/33 [==============================] - 13s 398ms/step - loss: 7.5768e-05 - accuracy: 1.0000 - precision_4: 1.0000 - recall_4: 1.0000 - val_loss: 0.3967 - val_accuracy: 0.9385 - val_precision_4: 0.9417 - val_recall_4: 0.9912\n",
            "Epoch 87/100\n",
            "33/33 [==============================] - 13s 397ms/step - loss: 1.4161e-04 - accuracy: 1.0000 - precision_4: 1.0000 - recall_4: 1.0000 - val_loss: 0.3712 - val_accuracy: 0.9385 - val_precision_4: 0.9417 - val_recall_4: 0.9912\n",
            "Epoch 88/100\n",
            "33/33 [==============================] - 13s 396ms/step - loss: 1.2276e-04 - accuracy: 1.0000 - precision_4: 1.0000 - recall_4: 1.0000 - val_loss: 0.4001 - val_accuracy: 0.9385 - val_precision_4: 0.9417 - val_recall_4: 0.9912\n",
            "Epoch 89/100\n",
            "33/33 [==============================] - 13s 396ms/step - loss: 7.0476e-05 - accuracy: 1.0000 - precision_4: 1.0000 - recall_4: 1.0000 - val_loss: 0.4027 - val_accuracy: 0.9385 - val_precision_4: 0.9417 - val_recall_4: 0.9912\n",
            "Epoch 90/100\n",
            "33/33 [==============================] - 13s 397ms/step - loss: 4.1931e-05 - accuracy: 1.0000 - precision_4: 1.0000 - recall_4: 1.0000 - val_loss: 0.4160 - val_accuracy: 0.9385 - val_precision_4: 0.9417 - val_recall_4: 0.9912\n",
            "Epoch 91/100\n",
            "33/33 [==============================] - 13s 397ms/step - loss: 4.5868e-05 - accuracy: 1.0000 - precision_4: 1.0000 - recall_4: 1.0000 - val_loss: 0.4298 - val_accuracy: 0.9308 - val_precision_4: 0.9339 - val_recall_4: 0.9912\n",
            "Epoch 92/100\n",
            "33/33 [==============================] - 13s 395ms/step - loss: 6.3177e-05 - accuracy: 1.0000 - precision_4: 1.0000 - recall_4: 1.0000 - val_loss: 0.4492 - val_accuracy: 0.9385 - val_precision_4: 0.9344 - val_recall_4: 1.0000\n",
            "Epoch 93/100\n",
            "33/33 [==============================] - 13s 396ms/step - loss: 5.6652e-04 - accuracy: 1.0000 - precision_4: 1.0000 - recall_4: 1.0000 - val_loss: 0.4292 - val_accuracy: 0.9462 - val_precision_4: 0.9421 - val_recall_4: 1.0000\n",
            "Epoch 94/100\n",
            "33/33 [==============================] - 13s 397ms/step - loss: 3.8480e-05 - accuracy: 1.0000 - precision_4: 1.0000 - recall_4: 1.0000 - val_loss: 0.4799 - val_accuracy: 0.9385 - val_precision_4: 0.9344 - val_recall_4: 1.0000\n",
            "Epoch 95/100\n",
            "33/33 [==============================] - 13s 396ms/step - loss: 2.0109e-04 - accuracy: 1.0000 - precision_4: 1.0000 - recall_4: 1.0000 - val_loss: 0.4310 - val_accuracy: 0.9462 - val_precision_4: 0.9421 - val_recall_4: 1.0000\n",
            "Epoch 96/100\n",
            "33/33 [==============================] - 13s 396ms/step - loss: 6.3162e-05 - accuracy: 1.0000 - precision_4: 1.0000 - recall_4: 1.0000 - val_loss: 0.4316 - val_accuracy: 0.9462 - val_precision_4: 0.9421 - val_recall_4: 1.0000\n",
            "Epoch 97/100\n",
            "33/33 [==============================] - 13s 397ms/step - loss: 1.0357e-04 - accuracy: 1.0000 - precision_4: 1.0000 - recall_4: 1.0000 - val_loss: 0.4287 - val_accuracy: 0.9462 - val_precision_4: 0.9421 - val_recall_4: 1.0000\n",
            "Epoch 98/100\n",
            "33/33 [==============================] - 13s 398ms/step - loss: 6.3760e-05 - accuracy: 1.0000 - precision_4: 1.0000 - recall_4: 1.0000 - val_loss: 0.4397 - val_accuracy: 0.9385 - val_precision_4: 0.9344 - val_recall_4: 1.0000\n",
            "Epoch 99/100\n",
            "33/33 [==============================] - 13s 396ms/step - loss: 1.4372e-04 - accuracy: 1.0000 - precision_4: 1.0000 - recall_4: 1.0000 - val_loss: 0.4426 - val_accuracy: 0.9385 - val_precision_4: 0.9344 - val_recall_4: 1.0000\n",
            "Epoch 100/100\n",
            "33/33 [==============================] - 13s 395ms/step - loss: 6.3374e-05 - accuracy: 1.0000 - precision_4: 1.0000 - recall_4: 1.0000 - val_loss: 0.4398 - val_accuracy: 0.9385 - val_precision_4: 0.9344 - val_recall_4: 1.0000\n"
          ],
          "name": "stdout"
        }
      ]
    },
    {
      "cell_type": "code",
      "metadata": {
        "colab_type": "code",
        "id": "8I5nvd_IiMft",
        "colab": {
          "base_uri": "https://localhost:8080/",
          "height": 1000
        },
        "outputId": "860f2e03-9fd2-45b0-e18c-3bf8e89ab0f2"
      },
      "source": [
        "%matplotlib inline\n",
        "\n",
        "import matplotlib.image  as mpimg\n",
        "import matplotlib.pyplot as plt\n",
        "\n",
        "#-----------------------------------------------------------\n",
        "# Retrieve a list of list results on training and test data\n",
        "# sets for each training epoch\n",
        "#-----------------------------------------------------------\n",
        "acc=history.history['accuracy']\n",
        "val_acc=history.history['val_accuracy']\n",
        "loss=history.history['loss']\n",
        "val_loss=history.history['val_loss']\n",
        "pre=history.history['precision_4']\n",
        "val_pre=history.history['val_precision_4']\n",
        "rec=history.history['recall_4']\n",
        "val_rec=history.history['val_recall_4']\n",
        "\n",
        "epochs=range(len(acc)) # Get number of epochs\n",
        "\n",
        "#------------------------------------------------\n",
        "# Plot training and validation accuracy per epoch\n",
        "#------------------------------------------------\n",
        "plt.plot(epochs, acc, 'r', label = 'Training accuracy')\n",
        "plt.plot(epochs, val_acc, 'b', label ='Validation accuracy')\n",
        "plt.title('Training and validation accuracy')\n",
        "plt.legend()\n",
        "plt.figure()\n",
        "\n",
        "#------------------------------------------------\n",
        "# Plot training and validation loss per epoch\n",
        "#------------------------------------------------\n",
        "plt.plot(epochs, loss, 'r', label = 'Training loss')\n",
        "plt.plot(epochs, val_loss, 'b', label = 'Validation loss')\n",
        "plt.title('Training and validation loss')\n",
        "plt.legend()\n",
        "plt.figure()\n",
        "\n",
        "#------------------------------------------------\n",
        "# Plot training and validation precision per epoch\n",
        "#------------------------------------------------\n",
        "plt.plot(epochs, pre, 'r', label = 'Training precision')\n",
        "plt.plot(epochs, val_pre, 'b', label ='Validation precision')\n",
        "plt.title('Training and validation precision')\n",
        "plt.legend()\n",
        "plt.figure()\n",
        "\n",
        "#------------------------------------------------\n",
        "# Plot training and validation recall per epoch\n",
        "#------------------------------------------------\n",
        "plt.plot(epochs, rec, 'r', label = 'Training recall')\n",
        "plt.plot(epochs, val_rec, 'b', label = 'Validation recall')\n",
        "plt.title('Training and validation recall')\n",
        "plt.legend()\n",
        "plt.figure()"
      ],
      "execution_count": null,
      "outputs": [
        {
          "output_type": "execute_result",
          "data": {
            "text/plain": [
              "<Figure size 432x288 with 0 Axes>"
            ]
          },
          "metadata": {
            "tags": []
          },
          "execution_count": 54
        },
        {
          "output_type": "display_data",
          "data": {
            "image/png": "[encoded data removed]",
            "text/plain": [
              "<Figure size 432x288 with 1 Axes>"
            ]
          },
          "metadata": {
            "tags": [],
            "needs_background": "light"
          }
        },
        {
          "output_type": "display_data",
          "data": {
            "image/png": "[encoded data removed]",
            "text/plain": [
              "<Figure size 432x288 with 1 Axes>"
            ]
          },
          "metadata": {
            "tags": [],
            "needs_background": "light"
          }
        },
        {
          "output_type": "display_data",
          "data": {
            "image/png": "[encoded data removed]",
            "text/plain": [
              "<Figure size 432x288 with 1 Axes>"
            ]
          },
          "metadata": {
            "tags": [],
            "needs_background": "light"
          }
        },
        {
          "output_type": "display_data",
          "data": {
            "image/png": "[encoded data removed]",
            "text/plain": [
              "<Figure size 432x288 with 1 Axes>"
            ]
          },
          "metadata": {
            "tags": [],
            "needs_background": "light"
          }
        },
        {
          "output_type": "display_data",
          "data": {
            "text/plain": [
              "<Figure size 432x288 with 0 Axes>"
            ]
          },
          "metadata": {
            "tags": []
          }
        }
      ]
    },
    {
      "cell_type": "code",
      "metadata": {
        "colab_type": "code",
        "id": "ysOikQ6riM2Q",
        "colab": {}
      },
      "source": [
        "model.save('VGG19trans.h5')"
      ],
      "execution_count": null,
      "outputs": []
    }
  ]
}